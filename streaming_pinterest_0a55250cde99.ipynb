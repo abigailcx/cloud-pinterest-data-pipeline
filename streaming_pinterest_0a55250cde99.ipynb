{
 "cells": [
  {
   "cell_type": "code",
   "execution_count": 0,
   "metadata": {
    "application/vnd.databricks.v1+cell": {
     "cellMetadata": {
      "byteLimit": 2048000,
      "rowLimit": 10000
     },
     "inputWidgets": {},
     "nuid": "111b3ee6-2d60-4050-9f0d-69a421d8c743",
     "showTitle": false,
     "title": ""
    }
   },
   "outputs": [
    {
     "output_type": "display_data",
     "data": {
      "text/html": [
       "<style scoped>\n",
       "  .ansiout {\n",
       "    display: block;\n",
       "    unicode-bidi: embed;\n",
       "    white-space: pre-wrap;\n",
       "    word-wrap: break-word;\n",
       "    word-break: break-all;\n",
       "    font-family: \"Menlo\", \"Monaco\", \"Consolas\", \"Ubuntu Mono\", \"Source Code Pro\", monospace;\n",
       "    font-size: 13px;\n",
       "    color: #555;\n",
       "    margin-left: 4px;\n",
       "    line-height: 19px;\n",
       "  }\n",
       "</style>\n",
       "<div class=\"ansiout\"></div>"
      ]
     },
     "metadata": {
      "application/vnd.databricks.v1+output": {
       "addedWidgets": {},
       "arguments": {},
       "data": "<div class=\"ansiout\"></div>",
       "datasetInfos": [],
       "metadata": {},
       "removedWidgets": [],
       "type": "html"
      }
     },
     "output_type": "display_data"
    }
   ],
   "source": [
    "%run \"/Workspace/Users/abigailgcox@outlook.com/pinterest_data_cleaning\""
   ]
  },
  {
   "cell_type": "code",
   "execution_count": 0,
   "metadata": {
    "application/vnd.databricks.v1+cell": {
     "cellMetadata": {
      "byteLimit": 2048000,
      "rowLimit": 10000
     },
     "inputWidgets": {},
     "nuid": "13f89633-9b26-428e-8751-d5bd7cd9c5c5",
     "showTitle": false,
     "title": ""
    }
   },
   "outputs": [
    {
     "output_type": "display_data",
     "data": {
      "text/html": [
       "<style scoped>\n",
       "  .ansiout {\n",
       "    display: block;\n",
       "    unicode-bidi: embed;\n",
       "    white-space: pre-wrap;\n",
       "    word-wrap: break-word;\n",
       "    word-break: break-all;\n",
       "    font-family: \"Menlo\", \"Monaco\", \"Consolas\", \"Ubuntu Mono\", \"Source Code Pro\", monospace;\n",
       "    font-size: 13px;\n",
       "    color: #555;\n",
       "    margin-left: 4px;\n",
       "    line-height: 19px;\n",
       "  }\n",
       "</style>\n",
       "<div class=\"ansiout\"></div>"
      ]
     },
     "metadata": {
      "application/vnd.databricks.v1+output": {
       "addedWidgets": {},
       "arguments": {},
       "data": "<div class=\"ansiout\"></div>",
       "datasetInfos": [],
       "metadata": {},
       "removedWidgets": [],
       "type": "html"
      }
     },
     "output_type": "display_data"
    },
    {
     "output_type": "display_data",
     "data": {
      "text/html": [
       "<style scoped>\n",
       "  .ansiout {\n",
       "    display: block;\n",
       "    unicode-bidi: embed;\n",
       "    white-space: pre-wrap;\n",
       "    word-wrap: break-word;\n",
       "    word-break: break-all;\n",
       "    font-family: \"Menlo\", \"Monaco\", \"Consolas\", \"Ubuntu Mono\", \"Source Code Pro\", monospace;\n",
       "    font-size: 13px;\n",
       "    color: #555;\n",
       "    margin-left: 4px;\n",
       "    line-height: 19px;\n",
       "  }\n",
       "</style>\n",
       "<div class=\"ansiout\"></div>"
      ]
     },
     "metadata": {
      "application/vnd.databricks.v1+output": {
       "addedWidgets": {},
       "arguments": {},
       "data": "<div class=\"ansiout\"></div>",
       "datasetInfos": [],
       "metadata": {},
       "removedWidgets": [],
       "type": "html"
      }
     },
     "output_type": "display_data"
    },
    {
     "output_type": "display_data",
     "data": {
      "text/html": [
       "<style scoped>\n",
       "  .ansiout {\n",
       "    display: block;\n",
       "    unicode-bidi: embed;\n",
       "    white-space: pre-wrap;\n",
       "    word-wrap: break-word;\n",
       "    word-break: break-all;\n",
       "    font-family: \"Menlo\", \"Monaco\", \"Consolas\", \"Ubuntu Mono\", \"Source Code Pro\", monospace;\n",
       "    font-size: 13px;\n",
       "    color: #555;\n",
       "    margin-left: 4px;\n",
       "    line-height: 19px;\n",
       "  }\n",
       "</style>\n",
       "<div class=\"ansiout\"></div>"
      ]
     },
     "metadata": {
      "application/vnd.databricks.v1+output": {
       "addedWidgets": {},
       "arguments": {},
       "data": "<div class=\"ansiout\"></div>",
       "datasetInfos": [],
       "metadata": {},
       "removedWidgets": [],
       "type": "html"
      }
     },
     "output_type": "display_data"
    }
   ],
   "source": [
    "from pyspark.sql.types import *\n",
    "from pyspark.sql.functions import *\n",
    "import urllib\n",
    "\n",
    "\n",
    "# Define the path to the Delta table\n",
    "delta_table_path = \"dbfs:/user/hive/warehouse/authentication_credentials\"\n",
    "\n",
    "# Read the Delta table to a Spark DataFrame\n",
    "aws_keys_df = spark.read.format(\"delta\").load(delta_table_path)\n",
    "\n",
    "# Get the AWS access key and secret key from the spark dataframe\n",
    "ACCESS_KEY = aws_keys_df.select('Access key ID').collect()[0]['Access key ID']\n",
    "SECRET_KEY = aws_keys_df.select('Secret access key').collect()[0]['Secret access key']\n",
    "\n",
    "ENCODED_SECRET_KEY = urllib.parse.quote(string=SECRET_KEY, safe=\"\")"
   ]
  },
  {
   "cell_type": "code",
   "execution_count": 0,
   "metadata": {
    "application/vnd.databricks.v1+cell": {
     "cellMetadata": {
      "byteLimit": 2048000,
      "implicitDf": true,
      "rowLimit": 10000
     },
     "inputWidgets": {},
     "nuid": "33be710b-a6dc-499a-b158-193d727ba64c",
     "showTitle": false,
     "title": ""
    }
   },
   "outputs": [
    {
     "output_type": "display_data",
     "data": {
      "text/html": [
       "<style scoped>\n",
       "  .table-result-container {\n",
       "    max-height: 300px;\n",
       "    overflow: auto;\n",
       "  }\n",
       "  table, th, td {\n",
       "    border: 1px solid black;\n",
       "    border-collapse: collapse;\n",
       "  }\n",
       "  th, td {\n",
       "    padding: 5px;\n",
       "  }\n",
       "  th {\n",
       "    text-align: left;\n",
       "  }\n",
       "</style><div class='table-result-container'><table class='table-result'><thead style='background-color: white'><tr><th>key</th><th>value</th></tr></thead><tbody><tr><td>spark.databricks.delta.formatCheck.enabled</td><td>false</td></tr></tbody></table></div>"
      ]
     },
     "metadata": {
      "application/vnd.databricks.v1+output": {
       "addedWidgets": {},
       "aggData": [],
       "aggError": "",
       "aggOverflow": false,
       "aggSchema": [],
       "aggSeriesLimitReached": false,
       "aggType": "",
       "arguments": {},
       "columnCustomDisplayInfos": {},
       "data": [
        [
         "spark.databricks.delta.formatCheck.enabled",
         "false"
        ]
       ],
       "datasetInfos": [],
       "dbfsResultPath": null,
       "isJsonSchema": true,
       "metadata": {},
       "overflow": false,
       "plotOptions": {
        "customPlotOptions": {},
        "displayType": "table",
        "pivotAggregation": null,
        "pivotColumns": null,
        "xColumns": null,
        "yColumns": null
       },
       "removedWidgets": [],
       "schema": [
        {
         "metadata": "{}",
         "name": "key",
         "type": "\"string\""
        },
        {
         "metadata": "{}",
         "name": "value",
         "type": "\"string\""
        }
       ],
       "type": "table"
      }
     },
     "output_type": "display_data"
    }
   ],
   "source": [
    "%sql\n",
    "-- Disable format checks during the reading of Delta tables\n",
    "SET spark.databricks.delta.formatCheck.enabled=false"
   ]
  },
  {
   "cell_type": "code",
   "execution_count": 0,
   "metadata": {
    "application/vnd.databricks.v1+cell": {
     "cellMetadata": {
      "byteLimit": 2048000,
      "rowLimit": 10000
     },
     "inputWidgets": {},
     "nuid": "1ecca278-f80b-42ee-9faa-7a540040a62a",
     "showTitle": false,
     "title": ""
    }
   },
   "outputs": [
    {
     "output_type": "display_data",
     "data": {
      "text/html": [
       "<style scoped>\n",
       "  .ansiout {\n",
       "    display: block;\n",
       "    unicode-bidi: embed;\n",
       "    white-space: pre-wrap;\n",
       "    word-wrap: break-word;\n",
       "    word-break: break-all;\n",
       "    font-family: \"Menlo\", \"Monaco\", \"Consolas\", \"Ubuntu Mono\", \"Source Code Pro\", monospace;\n",
       "    font-size: 13px;\n",
       "    color: #555;\n",
       "    margin-left: 4px;\n",
       "    line-height: 19px;\n",
       "  }\n",
       "</style>\n",
       "<div class=\"ansiout\"></div>"
      ]
     },
     "metadata": {
      "application/vnd.databricks.v1+output": {
       "addedWidgets": {},
       "arguments": {},
       "data": "<div class=\"ansiout\"></div>",
       "datasetInfos": [],
       "metadata": {},
       "removedWidgets": [],
       "type": "html"
      }
     },
     "output_type": "display_data"
    }
   ],
   "source": [
    "# Define a streaming schema using StructType\n",
    "pin_schema = StructType([\n",
    "    StructField(\"index\", IntegerType(), True),\n",
    "    StructField(\"unique_id\", StringType(), True),\n",
    "    StructField(\"title\", StringType(), True),\n",
    "    StructField(\"description\", StringType(), True),\n",
    "    StructField(\"poster_name\", StringType(), True),\n",
    "    StructField(\"follower_count\", StringType(), True),\n",
    "    StructField(\"tag_list\", StringType(), True),\n",
    "    StructField(\"is_image_or_video\", StringType(), True),\n",
    "    StructField(\"image_src\", StringType(), True),\n",
    "    StructField(\"downloaded\", IntegerType(), True),\n",
    "    StructField(\"save_location\", StringType(), True),\n",
    "    StructField(\"category\", StringType(), True)\n",
    "])\n",
    "\n",
    "geo_schema = StructType([\n",
    "    StructField(\"ind\", IntegerType(), True),\n",
    "    StructField(\"timestamp\", StringType(), True),\n",
    "    StructField(\"latitude\", FloatType(), True),\n",
    "    StructField(\"longitude\", FloatType(), True),\n",
    "    StructField(\"country\", StringType(), True)\n",
    "])\n",
    "\n",
    "user_schema = StructType([\n",
    "    StructField(\"ind\", IntegerType(), True),\n",
    "    StructField(\"first_name\", StringType(), True),\n",
    "    StructField(\"last_name\", StringType(), True),\n",
    "    StructField(\"age\", IntegerType(), True),\n",
    "    StructField(\"date_joined\", StringType(), True)\n",
    "])"
   ]
  },
  {
   "cell_type": "code",
   "execution_count": 0,
   "metadata": {
    "application/vnd.databricks.v1+cell": {
     "cellMetadata": {
      "byteLimit": 2048000,
      "rowLimit": 10000
     },
     "inputWidgets": {},
     "nuid": "dff1df74-76ed-4cc0-b8af-d6df7106d7cc",
     "showTitle": false,
     "title": ""
    }
   },
   "outputs": [
    {
     "output_type": "display_data",
     "data": {
      "text/html": [
       "<style scoped>\n",
       "  .ansiout {\n",
       "    display: block;\n",
       "    unicode-bidi: embed;\n",
       "    white-space: pre-wrap;\n",
       "    word-wrap: break-word;\n",
       "    word-break: break-all;\n",
       "    font-family: \"Menlo\", \"Monaco\", \"Consolas\", \"Ubuntu Mono\", \"Source Code Pro\", monospace;\n",
       "    font-size: 13px;\n",
       "    color: #555;\n",
       "    margin-left: 4px;\n",
       "    line-height: 19px;\n",
       "  }\n",
       "</style>\n",
       "<div class=\"ansiout\"></div>"
      ]
     },
     "metadata": {
      "application/vnd.databricks.v1+output": {
       "addedWidgets": {},
       "arguments": {},
       "data": "<div class=\"ansiout\"></div>",
       "datasetInfos": [],
       "metadata": {},
       "removedWidgets": [],
       "type": "html"
      }
     },
     "output_type": "display_data"
    }
   ],
   "source": [
    "def read_streaming_data(kinesis_stream_name):\n",
    "    spark_df = spark \\\n",
    "    .readStream \\\n",
    "    .format('kinesis') \\\n",
    "    .option('streamName', kinesis_stream_name) \\\n",
    "    .option('initialPosition','earliest') \\\n",
    "    .option('region','us-east-1') \\\n",
    "    .option('awsAccessKey', ACCESS_KEY) \\\n",
    "    .option('awsSecretKey', SECRET_KEY) \\\n",
    "    .load()\n",
    "\n",
    "    return spark_df"
   ]
  },
  {
   "cell_type": "code",
   "execution_count": 0,
   "metadata": {
    "application/vnd.databricks.v1+cell": {
     "cellMetadata": {
      "byteLimit": 2048000,
      "rowLimit": 10000
     },
     "inputWidgets": {},
     "nuid": "138e71ef-0559-4dbc-afa2-f1eb68d125c2",
     "showTitle": false,
     "title": ""
    }
   },
   "outputs": [
    {
     "output_type": "display_data",
     "data": {
      "text/html": [
       "<style scoped>\n",
       "  .ansiout {\n",
       "    display: block;\n",
       "    unicode-bidi: embed;\n",
       "    white-space: pre-wrap;\n",
       "    word-wrap: break-word;\n",
       "    word-break: break-all;\n",
       "    font-family: \"Menlo\", \"Monaco\", \"Consolas\", \"Ubuntu Mono\", \"Source Code Pro\", monospace;\n",
       "    font-size: 13px;\n",
       "    color: #555;\n",
       "    margin-left: 4px;\n",
       "    line-height: 19px;\n",
       "  }\n",
       "</style>\n",
       "<div class=\"ansiout\"></div>"
      ]
     },
     "metadata": {
      "application/vnd.databricks.v1+output": {
       "addedWidgets": {},
       "arguments": {},
       "data": "<div class=\"ansiout\"></div>",
       "datasetInfos": [],
       "metadata": {},
       "removedWidgets": [],
       "type": "html"
      }
     },
     "output_type": "display_data"
    }
   ],
   "source": [
    "def structure_data(df, schema):\n",
    "    df = df.selectExpr(\"CAST(data as STRING)\")\n",
    "    df_2 = df.withColumn(\"data\", from_json(\"data\", schema)).select(col('data.*'))\n",
    "    return df_2"
   ]
  },
  {
   "cell_type": "code",
   "execution_count": 0,
   "metadata": {
    "application/vnd.databricks.v1+cell": {
     "cellMetadata": {
      "byteLimit": 2048000,
      "rowLimit": 10000
     },
     "inputWidgets": {},
     "nuid": "5f763ca9-ad29-437f-a2bf-7a90c98bea81",
     "showTitle": false,
     "title": ""
    }
   },
   "outputs": [
    {
     "output_type": "display_data",
     "data": {
      "text/html": [
       "<style scoped>\n",
       "  .ansiout {\n",
       "    display: block;\n",
       "    unicode-bidi: embed;\n",
       "    white-space: pre-wrap;\n",
       "    word-wrap: break-word;\n",
       "    word-break: break-all;\n",
       "    font-family: \"Menlo\", \"Monaco\", \"Consolas\", \"Ubuntu Mono\", \"Source Code Pro\", monospace;\n",
       "    font-size: 13px;\n",
       "    color: #555;\n",
       "    margin-left: 4px;\n",
       "    line-height: 19px;\n",
       "  }\n",
       "</style>\n",
       "<div class=\"ansiout\"></div>"
      ]
     },
     "metadata": {
      "application/vnd.databricks.v1+output": {
       "addedWidgets": {},
       "arguments": {},
       "data": "<div class=\"ansiout\"></div>",
       "datasetInfos": [],
       "metadata": {},
       "removedWidgets": [],
       "type": "html"
      }
     },
     "output_type": "display_data"
    }
   ],
   "source": [
    "def write_to_delta_table(df, delta_table_name):\n",
    "  df.writeStream \\\n",
    "    .format(\"delta\") \\\n",
    "    .outputMode(\"append\") \\\n",
    "    .option(\"checkpointLocation\", \"/tmp/kinesis/_checkpoints/\") \\\n",
    "    .table(delta_table_name)"
   ]
  },
  {
   "cell_type": "code",
   "execution_count": 0,
   "metadata": {
    "application/vnd.databricks.v1+cell": {
     "cellMetadata": {
      "byteLimit": 2048000,
      "rowLimit": 10000
     },
     "inputWidgets": {},
     "nuid": "9118c814-64c9-48e7-8347-844a4dee1dd7",
     "showTitle": false,
     "title": ""
    }
   },
   "outputs": [
    {
     "output_type": "display_data",
     "data": {
      "text/html": [
       "<style scoped>\n",
       "  .table-result-container {\n",
       "    max-height: 300px;\n",
       "    overflow: auto;\n",
       "  }\n",
       "  table, th, td {\n",
       "    border: 1px solid black;\n",
       "    border-collapse: collapse;\n",
       "  }\n",
       "  th, td {\n",
       "    padding: 5px;\n",
       "  }\n",
       "  th {\n",
       "    text-align: left;\n",
       "  }\n",
       "</style><div class='table-result-container'><table class='table-result'><thead style='background-color: white'><tr><th>ind</th><th>user_name</th><th>age</th><th>date_joined</th></tr></thead><tbody><tr><td>3185</td><td>Alexandra Fuentes</td><td>29</td><td>2016-01-03T02:33:53.000+0000</td></tr><tr><td>9812</td><td>Janet Andrews</td><td>28</td><td>2016-06-11T14:48:17.000+0000</td></tr><tr><td>5360</td><td>Anna Cross</td><td>38</td><td>2015-11-21T18:19:10.000+0000</td></tr><tr><td>9536</td><td>Bruce Lyons</td><td>20</td><td>2016-07-09T23:03:37.000+0000</td></tr><tr><td>9966</td><td>Abigail Ali</td><td>20</td><td>2015-10-24T11:23:51.000+0000</td></tr><tr><td>10114</td><td>Benjamin Brady</td><td>21</td><td>2016-05-11T06:22:07.000+0000</td></tr><tr><td>10909</td><td>Margaret Hancock</td><td>33</td><td>2016-08-04T13:07:57.000+0000</td></tr><tr><td>4662</td><td>Dominique Ford</td><td>42</td><td>2016-01-04T17:04:43.000+0000</td></tr><tr><td>7857</td><td>Benjamin Adams</td><td>24</td><td>2015-10-25T03:23:53.000+0000</td></tr><tr><td>7296</td><td>Christopher Mckee</td><td>38</td><td>2016-11-22T23:41:41.000+0000</td></tr><tr><td>4823</td><td>Diana White</td><td>20</td><td>2016-08-22T07:52:49.000+0000</td></tr><tr><td>8073</td><td>Aaron Alexander</td><td>21</td><td>2015-10-25T07:36:08.000+0000</td></tr><tr><td>1751</td><td>John Jackson</td><td>60</td><td>2016-10-20T10:51:09.000+0000</td></tr><tr><td>7121</td><td>Christopher Mckee</td><td>38</td><td>2016-11-22T23:41:41.000+0000</td></tr><tr><td>8625</td><td>Andrea Alexander</td><td>21</td><td>2015-11-10T09:27:42.000+0000</td></tr><tr><td>2227</td><td>Amy Adams</td><td>20</td><td>2015-10-24T05:05:28.000+0000</td></tr><tr><td>8271</td><td>Angela Mclaughlin</td><td>44</td><td>2016-08-03T19:25:22.000+0000</td></tr><tr><td>9379</td><td>Amy Adams</td><td>20</td><td>2015-10-24T05:05:28.000+0000</td></tr><tr><td>10625</td><td>Christian Lang</td><td>32</td><td>2017-10-10T20:09:33.000+0000</td></tr><tr><td>7268</td><td>Alejandra Acevedo</td><td>20</td><td>2015-11-24T21:01:23.000+0000</td></tr><tr><td>409</td><td>Alfred Chen</td><td>24</td><td>2016-07-01T16:11:59.000+0000</td></tr><tr><td>5198</td><td>James Sharp</td><td>23</td><td>2016-10-21T08:22:24.000+0000</td></tr><tr><td>2337</td><td>Alex Bean</td><td>24</td><td>2016-01-11T23:08:27.000+0000</td></tr><tr><td>8385</td><td>Austin Miller</td><td>31</td><td>2015-11-25T21:28:12.000+0000</td></tr><tr><td>8462</td><td>Aaron Abbott</td><td>20</td><td>2015-10-23T16:08:41.000+0000</td></tr><tr><td>10275</td><td>Leslie Rodriguez</td><td>26</td><td>2016-04-13T19:11:21.000+0000</td></tr><tr><td>8693</td><td>Aaron Abbott</td><td>20</td><td>2015-10-23T16:08:41.000+0000</td></tr><tr><td>2881</td><td>Courtney Joyce</td><td>21</td><td>2015-12-26T17:07:27.000+0000</td></tr><tr><td>5129</td><td>Adam Cole</td><td>23</td><td>2015-11-15T23:49:12.000+0000</td></tr><tr><td>7232</td><td>Don Johnson</td><td>30</td><td>2017-08-23T23:49:00.000+0000</td></tr><tr><td>846</td><td>Andres Cortez</td><td>26</td><td>2015-11-20T21:50:39.000+0000</td></tr><tr><td>10957</td><td>Kevin Fleming</td><td>39</td><td>2017-09-02T08:11:03.000+0000</td></tr><tr><td>7030</td><td>Alejandra Acevedo</td><td>20</td><td>2015-11-24T21:01:23.000+0000</td></tr><tr><td>3958</td><td>Christina Berg</td><td>40</td><td>2015-10-22T06:35:25.000+0000</td></tr><tr><td>8297</td><td>Andrew Brown</td><td>25</td><td>2016-03-26T04:30:23.000+0000</td></tr><tr><td>840</td><td>Aaron Bartlett</td><td>21</td><td>2015-11-24T02:15:36.000+0000</td></tr><tr><td>7652</td><td>Erin Newton</td><td>39</td><td>2015-10-24T03:55:03.000+0000</td></tr><tr><td>6961</td><td>Michael Harris</td><td>34</td><td>2016-09-01T08:17:57.000+0000</td></tr><tr><td>10240</td><td>Jonathan Smith</td><td>26</td><td>2017-08-04T17:41:32.000+0000</td></tr><tr><td>4683</td><td>Elijah Boyer</td><td>37</td><td>2016-11-10T17:10:13.000+0000</td></tr><tr><td>913</td><td>Daniel Baldwin</td><td>23</td><td>2016-01-11T05:33:09.000+0000</td></tr><tr><td>1693</td><td>Andrew Gray</td><td>29</td><td>2016-08-19T05:18:37.000+0000</td></tr><tr><td>3</td><td>Amanda Alvarez</td><td>21</td><td>2015-10-30T01:31:09.000+0000</td></tr><tr><td>4654</td><td>Nathan Howard</td><td>37</td><td>2016-03-06T21:35:04.000+0000</td></tr><tr><td>1631</td><td>Lauren Powell</td><td>30</td><td>2016-05-22T08:40:37.000+0000</td></tr><tr><td>10429</td><td>Brandon Henderson</td><td>24</td><td>2016-01-12T17:59:43.000+0000</td></tr><tr><td>7285</td><td>Alejandra Acevedo</td><td>20</td><td>2015-11-24T21:01:23.000+0000</td></tr><tr><td>3175</td><td>David Bell</td><td>20</td><td>2016-04-15T17:11:11.000+0000</td></tr><tr><td>8309</td><td>Vickie Acevedo</td><td>43</td><td>2017-04-09T08:19:09.000+0000</td></tr><tr><td>7619</td><td>Andrew Alexander</td><td>20</td><td>2015-11-20T09:08:00.000+0000</td></tr><tr><td>3162</td><td>Kristen Garza</td><td>45</td><td>2016-11-24T02:41:52.000+0000</td></tr><tr><td>5845</td><td>Ann Acevedo</td><td>22</td><td>2016-01-26T15:27:05.000+0000</td></tr><tr><td>3866</td><td>Jonathan Burch</td><td>22</td><td>2016-12-04T23:35:58.000+0000</td></tr><tr><td>8577</td><td>Dale Bates</td><td>25</td><td>2015-12-15T18:10:44.000+0000</td></tr><tr><td>3655</td><td>Colleen Pacheco</td><td>31</td><td>2017-08-07T22:57:05.000+0000</td></tr><tr><td>5645</td><td>David Craig</td><td>30</td><td>2016-01-30T06:09:57.000+0000</td></tr><tr><td>4035</td><td>Antonio Davis</td><td>21</td><td>2015-12-05T06:09:18.000+0000</td></tr><tr><td>3364</td><td>Courtney Berg</td><td>20</td><td>2015-11-30T10:24:37.000+0000</td></tr><tr><td>7181</td><td>Cindy Thomas</td><td>34</td><td>2017-02-27T03:50:05.000+0000</td></tr><tr><td>6970</td><td>Joan Brewer</td><td>51</td><td>2016-10-15T10:00:11.000+0000</td></tr><tr><td>9400</td><td>Alexander Bailey</td><td>20</td><td>2015-10-30T11:37:32.000+0000</td></tr><tr><td>4174</td><td>Antonio Davis</td><td>21</td><td>2015-12-05T06:09:18.000+0000</td></tr><tr><td>1659</td><td>Alexandra Brown</td><td>21</td><td>2015-11-05T07:52:21.000+0000</td></tr><tr><td>6623</td><td>Heather Weber</td><td>28</td><td>2016-10-06T14:42:21.000+0000</td></tr><tr><td>10650</td><td>Amanda Hughes</td><td>20</td><td>2017-07-14T03:42:17.000+0000</td></tr><tr><td>6852</td><td>Abigail Ali</td><td>20</td><td>2015-10-24T11:23:51.000+0000</td></tr><tr><td>6477</td><td>Caleb Carpenter</td><td>29</td><td>2016-05-09T12:14:11.000+0000</td></tr><tr><td>2762</td><td>Arthur Gross</td><td>30</td><td>2017-05-24T14:30:51.000+0000</td></tr><tr><td>6940</td><td>Alison Chan</td><td>27</td><td>2016-03-26T10:36:04.000+0000</td></tr><tr><td>10120</td><td>Jacob Baird</td><td>24</td><td>2016-02-25T08:52:45.000+0000</td></tr><tr><td>8100</td><td>Aaron Abbott</td><td>20</td><td>2015-10-23T16:08:41.000+0000</td></tr><tr><td>365</td><td>Kevin Torres</td><td>51</td><td>2016-08-07T18:45:21.000+0000</td></tr><tr><td>3710</td><td>Nicole Johnson</td><td>44</td><td>2016-02-08T18:55:39.000+0000</td></tr><tr><td>4936</td><td>Andrew Miller</td><td>28</td><td>2016-03-12T02:52:38.000+0000</td></tr><tr><td>204</td><td>Meghan Larson</td><td>56</td><td>2017-04-17T06:27:04.000+0000</td></tr><tr><td>1379</td><td>Aaron Abbott</td><td>20</td><td>2015-10-31T18:51:07.000+0000</td></tr><tr><td>8946</td><td>Patty Chang</td><td>42</td><td>2016-07-17T16:11:13.000+0000</td></tr><tr><td>63</td><td>Adam Acosta</td><td>20</td><td>2015-10-21T21:26:45.000+0000</td></tr><tr><td>5452</td><td>Deborah Cooper</td><td>20</td><td>2015-11-16T21:00:24.000+0000</td></tr><tr><td>6088</td><td>Paul Martinez</td><td>33</td><td>2016-09-13T09:18:43.000+0000</td></tr><tr><td>2629</td><td>Sarah Lam</td><td>28</td><td>2015-12-26T23:55:44.000+0000</td></tr><tr><td>9605</td><td>Preston Friedman</td><td>50</td><td>2016-11-29T00:46:08.000+0000</td></tr><tr><td>6013</td><td>Carol Alexander</td><td>25</td><td>2016-03-17T05:33:57.000+0000</td></tr><tr><td>6869</td><td>Alvin Adams</td><td>20</td><td>2016-01-01T13:50:40.000+0000</td></tr><tr><td>9763</td><td>Amanda Allen</td><td>22</td><td>2015-10-24T18:56:30.000+0000</td></tr><tr><td>1008</td><td>Christopher Craig</td><td>20</td><td>2016-06-24T23:55:34.000+0000</td></tr><tr><td>2949</td><td>Angela Andrews</td><td>20</td><td>2015-10-28T21:44:56.000+0000</td></tr><tr><td>3090</td><td>Joyce Gordon</td><td>39</td><td>2017-08-02T19:06:11.000+0000</td></tr><tr><td>7320</td><td>Elizabeth Peterson</td><td>45</td><td>2016-11-28T03:36:34.000+0000</td></tr><tr><td>874</td><td>Edward Mcmahon</td><td>47</td><td>2016-08-24T18:35:44.000+0000</td></tr><tr><td>2034</td><td>Anthony Bryan</td><td>22</td><td>2015-10-24T15:35:59.000+0000</td></tr><tr><td>3173</td><td>Patricia Howell</td><td>38</td><td>2017-09-22T16:09:32.000+0000</td></tr><tr><td>6011</td><td>Emily Bailey</td><td>21</td><td>2016-02-24T19:06:46.000+0000</td></tr><tr><td>5989</td><td>April Drake</td><td>21</td><td>2016-05-28T04:49:09.000+0000</td></tr><tr><td>2385</td><td>Ashley Evans</td><td>30</td><td>2016-02-21T12:54:01.000+0000</td></tr><tr><td>1852</td><td>Amanda Adams</td><td>20</td><td>2015-10-21T08:27:36.000+0000</td></tr><tr><td>7992</td><td>Christopher Morales</td><td>29</td><td>2016-02-21T11:56:39.000+0000</td></tr><tr><td>1814</td><td>Brian Hansen</td><td>31</td><td>2016-01-30T13:25:52.000+0000</td></tr><tr><td>9749</td><td>Arthur Riggs</td><td>46</td><td>2016-05-01T10:44:18.000+0000</td></tr><tr><td>93</td><td>Angela Bates</td><td>23</td><td>2015-10-30T15:08:57.000+0000</td></tr><tr><td>3357</td><td>Shane Huang</td><td>60</td><td>2017-08-05T09:41:18.000+0000</td></tr><tr><td>10400</td><td>Amanda Carlson</td><td>21</td><td>2015-11-23T09:01:37.000+0000</td></tr><tr><td>10007</td><td>Earl Rogers</td><td>23</td><td>2016-04-06T15:05:28.000+0000</td></tr><tr><td>8411</td><td>Allen Adams</td><td>32</td><td>2016-12-01T23:59:15.000+0000</td></tr><tr><td>7307</td><td>Anne Ellis</td><td>21</td><td>2017-01-18T09:42:29.000+0000</td></tr><tr><td>7876</td><td>Aaron Abbott</td><td>20</td><td>2015-10-23T16:08:41.000+0000</td></tr><tr><td>10465</td><td>Barbara Johnson</td><td>45</td><td>2016-06-30T04:44:57.000+0000</td></tr><tr><td>1810</td><td>Nancy Dyer</td><td>48</td><td>2017-04-14T23:42:05.000+0000</td></tr><tr><td>3585</td><td>Chelsea Barajas</td><td>41</td><td>2016-09-20T23:11:15.000+0000</td></tr><tr><td>4966</td><td>Amy Brown</td><td>21</td><td>2015-11-08T16:14:16.000+0000</td></tr><tr><td>3092</td><td>Shelby Perez</td><td>47</td><td>2016-08-21T10:38:34.000+0000</td></tr><tr><td>8353</td><td>Andrew Melendez</td><td>56</td><td>2016-11-15T04:12:38.000+0000</td></tr><tr><td>26</td><td>Kenneth Hanson</td><td>33</td><td>2015-11-09T02:54:30.000+0000</td></tr><tr><td>9371</td><td>Abigail Bates</td><td>20</td><td>2015-11-07T20:59:32.000+0000</td></tr><tr><td>6080</td><td>Maria Davidson</td><td>28</td><td>2016-04-22T05:55:48.000+0000</td></tr><tr><td>5037</td><td>Adam Walker</td><td>42</td><td>2017-10-16T09:17:24.000+0000</td></tr><tr><td>8690</td><td>April Bush</td><td>27</td><td>2016-06-19T03:39:06.000+0000</td></tr><tr><td>6496</td><td>Cindy Bennett</td><td>26</td><td>2016-01-03T06:10:45.000+0000</td></tr><tr><td>6181</td><td>Albert Allison</td><td>20</td><td>2015-10-21T22:27:27.000+0000</td></tr><tr><td>1707</td><td>Albert Jackson</td><td>23</td><td>2016-04-13T18:06:15.000+0000</td></tr><tr><td>9123</td><td>Margaret Torres</td><td>21</td><td>2017-05-24T03:44:43.000+0000</td></tr><tr><td>8699</td><td>Brandi Martin</td><td>25</td><td>2017-08-24T13:05:36.000+0000</td></tr><tr><td>2633</td><td>Abigail Burch</td><td>29</td><td>2016-03-17T11:34:05.000+0000</td></tr><tr><td>229</td><td>Sandra Bell</td><td>26</td><td>2016-02-28T09:10:31.000+0000</td></tr><tr><td>4858</td><td>Mary Moon</td><td>51</td><td>2016-11-24T18:54:48.000+0000</td></tr><tr><td>4337</td><td>Alexis Bell</td><td>20</td><td>2015-11-23T06:34:47.000+0000</td></tr><tr><td>1847</td><td>Nathan Black</td><td>29</td><td>2017-08-03T20:32:24.000+0000</td></tr><tr><td>9866</td><td>Monica Banks</td><td>33</td><td>2015-12-07T17:43:45.000+0000</td></tr><tr><td>10017</td><td>Alexandra Austin</td><td>22</td><td>2015-11-06T05:05:43.000+0000</td></tr><tr><td>4692</td><td>Amanda Bowers</td><td>22</td><td>2016-01-18T20:23:23.000+0000</td></tr><tr><td>1627</td><td>Gregory Andersen</td><td>40</td><td>2016-01-12T17:37:38.000+0000</td></tr><tr><td>6275</td><td>Barbara Barton</td><td>22</td><td>2015-11-14T13:31:13.000+0000</td></tr><tr><td>8952</td><td>Amy Brown</td><td>21</td><td>2015-11-08T16:14:16.000+0000</td></tr><tr><td>3646</td><td>Charles Curtis</td><td>36</td><td>2017-05-30T06:31:02.000+0000</td></tr><tr><td>4672</td><td>Andre Bartlett</td><td>20</td><td>2015-10-30T20:41:47.000+0000</td></tr><tr><td>5218</td><td>Bonnie Evans</td><td>47</td><td>2016-04-09T02:56:39.000+0000</td></tr><tr><td>7066</td><td>Walter Moody</td><td>31</td><td>2015-12-16T23:25:39.000+0000</td></tr><tr><td>264</td><td>Pamela Parsons</td><td>34</td><td>2017-08-17T13:49:46.000+0000</td></tr><tr><td>722</td><td>Beth Armstrong</td><td>22</td><td>2017-03-23T03:41:14.000+0000</td></tr><tr><td>10422</td><td>Kathleen Archer</td><td>55</td><td>2016-04-13T05:22:18.000+0000</td></tr><tr><td>5938</td><td>Joshua Levine</td><td>39</td><td>2016-04-26T18:03:40.000+0000</td></tr><tr><td>2785</td><td>Andrew Butler</td><td>27</td><td>2015-11-04T03:13:03.000+0000</td></tr><tr><td>719</td><td>Alicia Avila</td><td>20</td><td>2016-01-26T01:49:23.000+0000</td></tr><tr><td>9778</td><td>Holly Campbell</td><td>30</td><td>2016-07-08T19:10:37.000+0000</td></tr><tr><td>8745</td><td>Grant Villanueva</td><td>53</td><td>2016-02-14T19:17:10.000+0000</td></tr><tr><td>2403</td><td>Erin Lawson</td><td>59</td><td>2017-06-29T10:23:41.000+0000</td></tr><tr><td>2508</td><td>Aaron Johnson</td><td>59</td><td>2016-07-02T04:35:40.000+0000</td></tr><tr><td>8836</td><td>Dalton Daniels</td><td>21</td><td>2015-11-11T10:19:51.000+0000</td></tr><tr><td>10157</td><td>Sheila Jones</td><td>39</td><td>2015-12-02T16:17:12.000+0000</td></tr><tr><td>3235</td><td>Brian Dalton</td><td>39</td><td>2016-07-09T06:15:21.000+0000</td></tr><tr><td>9784</td><td>Annette Andrews</td><td>28</td><td>2015-12-20T22:09:10.000+0000</td></tr><tr><td>6860</td><td>Angela Allen</td><td>20</td><td>2015-10-26T04:12:32.000+0000</td></tr><tr><td>5858</td><td>Caitlin Bailey</td><td>28</td><td>2015-10-24T04:11:28.000+0000</td></tr><tr><td>8476</td><td>Andrew Arnold</td><td>21</td><td>2015-12-02T08:29:10.000+0000</td></tr><tr><td>574</td><td>Kenneth Hanson</td><td>33</td><td>2015-11-09T02:54:30.000+0000</td></tr><tr><td>4359</td><td>Jason Barnes</td><td>27</td><td>2017-07-10T21:06:14.000+0000</td></tr><tr><td>1083</td><td>Heather Pope</td><td>49</td><td>2016-01-07T21:35:55.000+0000</td></tr><tr><td>5853</td><td>Anthony Durham</td><td>21</td><td>2015-11-06T20:03:21.000+0000</td></tr><tr><td>8994</td><td>Andrea Alexander</td><td>21</td><td>2015-11-10T09:27:42.000+0000</td></tr><tr><td>6440</td><td>Adrian Allen</td><td>21</td><td>2015-10-21T22:43:58.000+0000</td></tr><tr><td>785</td><td>Nicole Flores</td><td>27</td><td>2016-06-10T03:57:23.000+0000</td></tr><tr><td>1669</td><td>Amanda Cooper</td><td>22</td><td>2016-01-19T16:56:23.000+0000</td></tr><tr><td>6472</td><td>Nancy Frye</td><td>57</td><td>2015-10-23T16:17:03.000+0000</td></tr><tr><td>2509</td><td>Antonio Fletcher</td><td>23</td><td>2016-01-25T21:17:27.000+0000</td></tr><tr><td>10780</td><td>Thomas Schroeder</td><td>38</td><td>2016-10-08T10:17:32.000+0000</td></tr><tr><td>9354</td><td>Aaron Alexander</td><td>21</td><td>2015-10-25T07:36:08.000+0000</td></tr><tr><td>10552</td><td>Michael Hunter</td><td>40</td><td>2017-05-16T07:09:21.000+0000</td></tr><tr><td>7733</td><td>Aaron Abbott</td><td>20</td><td>2015-10-23T16:08:41.000+0000</td></tr><tr><td>232</td><td>Sarah Buchanan</td><td>33</td><td>2017-04-19T08:49:40.000+0000</td></tr><tr><td>9426</td><td>Nicholas Mcdaniel</td><td>45</td><td>2017-05-24T01:41:26.000+0000</td></tr><tr><td>3360</td><td>Amber Casey</td><td>23</td><td>2016-01-06T12:22:08.000+0000</td></tr><tr><td>3436</td><td>Charles Johnson</td><td>25</td><td>2015-12-07T02:19:50.000+0000</td></tr><tr><td>6488</td><td>Alec Bell</td><td>22</td><td>2016-01-09T15:37:07.000+0000</td></tr><tr><td>1078</td><td>Amanda Guzman</td><td>26</td><td>2016-01-19T18:41:59.000+0000</td></tr><tr><td>1507</td><td>Blake Carpenter</td><td>52</td><td>2017-01-19T02:25:18.000+0000</td></tr><tr><td>4098</td><td>Brian Gonzalez</td><td>58</td><td>2017-02-06T04:49:42.000+0000</td></tr><tr><td>4557</td><td>Amber Blevins</td><td>20</td><td>2015-12-13T16:33:13.000+0000</td></tr><tr><td>2734</td><td>Andrew Burke</td><td>20</td><td>2015-11-14T17:38:31.000+0000</td></tr><tr><td>4451</td><td>Christina Anderson</td><td>50</td><td>2016-07-05T12:13:41.000+0000</td></tr><tr><td>2849</td><td>Patricia Browning</td><td>26</td><td>2016-05-20T12:11:38.000+0000</td></tr><tr><td>6977</td><td>Brenda Gonzalez</td><td>56</td><td>2015-12-07T11:53:35.000+0000</td></tr><tr><td>8649</td><td>Albert Allison</td><td>20</td><td>2015-10-21T22:27:27.000+0000</td></tr><tr><td>9103</td><td>Michael Carlson</td><td>24</td><td>2015-11-26T09:53:01.000+0000</td></tr><tr><td>10233</td><td>John Bailey</td><td>45</td><td>2016-04-20T00:06:30.000+0000</td></tr><tr><td>5880</td><td>Andrea Blankenship</td><td>27</td><td>2016-04-11T21:27:52.000+0000</td></tr><tr><td>2995</td><td>Michelle Macias</td><td>32</td><td>2015-11-07T19:56:37.000+0000</td></tr><tr><td>7001</td><td>April Blake</td><td>21</td><td>2015-10-28T03:16:59.000+0000</td></tr><tr><td>9534</td><td>Jason Jones</td><td>22</td><td>2016-03-13T09:35:08.000+0000</td></tr><tr><td>2824</td><td>Amy Atkins</td><td>21</td><td>2015-10-31T07:37:40.000+0000</td></tr><tr><td>9150</td><td>Richard Martinez</td><td>32</td><td>2016-01-14T21:56:11.000+0000</td></tr><tr><td>6817</td><td>Daniel Hopkins</td><td>28</td><td>2017-04-25T04:52:52.000+0000</td></tr><tr><td>7095</td><td>Adam Carroll</td><td>25</td><td>2015-11-28T22:42:31.000+0000</td></tr><tr><td>2060</td><td>Joshua Long</td><td>27</td><td>2016-12-18T10:11:23.000+0000</td></tr><tr><td>2301</td><td>Karina Morton</td><td>31</td><td>2016-01-21T12:53:34.000+0000</td></tr><tr><td>6814</td><td>April Blake</td><td>21</td><td>2015-10-28T03:16:59.000+0000</td></tr><tr><td>9402</td><td>Andrew Anderson</td><td>23</td><td>2015-11-28T11:52:37.000+0000</td></tr><tr><td>4420</td><td>Abigail Barry</td><td>21</td><td>2015-12-03T10:40:24.000+0000</td></tr><tr><td>1951</td><td>Bryan Williams</td><td>42</td><td>2016-10-07T06:05:52.000+0000</td></tr><tr><td>6245</td><td>Alec Bell</td><td>22</td><td>2016-01-09T15:37:07.000+0000</td></tr><tr><td>6287</td><td>Jessica Holder</td><td>24</td><td>2017-03-17T01:09:47.000+0000</td></tr><tr><td>8012</td><td>Lori Johnson</td><td>28</td><td>2016-02-20T22:06:43.000+0000</td></tr><tr><td>9171</td><td>Gary Collins</td><td>25</td><td>2016-07-07T18:59:52.000+0000</td></tr><tr><td>5991</td><td>Donald Adams</td><td>30</td><td>2016-02-13T23:50:05.000+0000</td></tr><tr><td>8284</td><td>Steve Romero</td><td>34</td><td>2016-09-12T11:18:17.000+0000</td></tr><tr><td>6896</td><td>Aaron Anderson</td><td>21</td><td>2015-10-23T03:43:54.000+0000</td></tr><tr><td>9949</td><td>Daniel Brooks</td><td>25</td><td>2015-11-19T21:24:33.000+0000</td></tr><tr><td>9639</td><td>Steven Barr</td><td>52</td><td>2017-07-04T23:31:09.000+0000</td></tr><tr><td>1665</td><td>Bryan Noble</td><td>30</td><td>2016-06-04T17:09:58.000+0000</td></tr><tr><td>7358</td><td>Jon Haynes</td><td>27</td><td>2016-02-17T05:07:06.000+0000</td></tr><tr><td>8155</td><td>Christopher Ramirez</td><td>54</td><td>2017-01-22T13:12:03.000+0000</td></tr><tr><td>2684</td><td>Andrew Baker</td><td>22</td><td>2015-12-21T08:06:54.000+0000</td></tr><tr><td>9217</td><td>Albert Adams</td><td>21</td><td>2015-11-05T22:07:56.000+0000</td></tr><tr><td>4431</td><td>Allison Adams</td><td>22</td><td>2015-11-30T10:51:59.000+0000</td></tr><tr><td>7789</td><td>Aaron Abbott</td><td>20</td><td>2015-10-23T16:08:41.000+0000</td></tr><tr><td>4394</td><td>James Brooks</td><td>50</td><td>2016-02-23T15:25:00.000+0000</td></tr><tr><td>4289</td><td>Samantha Ortega</td><td>31</td><td>2016-03-12T00:41:28.000+0000</td></tr><tr><td>6561</td><td>Julie Mills</td><td>58</td><td>2016-07-28T19:57:15.000+0000</td></tr><tr><td>5902</td><td>Carla Bennett</td><td>49</td><td>2016-03-21T13:43:10.000+0000</td></tr><tr><td>7448</td><td>Brenda Gonzalez</td><td>56</td><td>2015-12-07T11:53:35.000+0000</td></tr><tr><td>7271</td><td>Ashley Castro</td><td>38</td><td>2017-06-25T02:03:31.000+0000</td></tr><tr><td>4489</td><td>Tracie Thompson</td><td>34</td><td>2017-08-21T02:27:26.000+0000</td></tr><tr><td>7183</td><td>Amanda Maldonado</td><td>38</td><td>2016-11-17T23:45:04.000+0000</td></tr><tr><td>7050</td><td>Corey Anderson</td><td>28</td><td>2015-12-05T21:26:20.000+0000</td></tr><tr><td>8212</td><td>Benjamin Adams</td><td>24</td><td>2015-10-25T03:23:53.000+0000</td></tr><tr><td>10366</td><td>Clayton George</td><td>29</td><td>2016-09-04T21:30:48.000+0000</td></tr><tr><td>1000</td><td>Angela Berg</td><td>20</td><td>2015-11-10T05:57:33.000+0000</td></tr><tr><td>8864</td><td>Andrew Anderson</td><td>23</td><td>2015-11-28T11:52:37.000+0000</td></tr><tr><td>1035</td><td>Jonathan Avila</td><td>46</td><td>2015-11-27T23:11:21.000+0000</td></tr><tr><td>3059</td><td>Angela Andrews</td><td>20</td><td>2015-10-28T21:44:56.000+0000</td></tr><tr><td>7613</td><td>Aaron Abbott</td><td>20</td><td>2015-10-23T16:08:41.000+0000</td></tr><tr><td>8845</td><td>Angela Berg</td><td>20</td><td>2015-11-10T05:57:33.000+0000</td></tr><tr><td>3127</td><td>Andrew Hampton</td><td>21</td><td>2016-01-11T22:18:24.000+0000</td></tr><tr><td>1359</td><td>Nicholas Torres</td><td>53</td><td>2016-01-26T15:21:06.000+0000</td></tr><tr><td>8596</td><td>Abigail Bates</td><td>20</td><td>2015-11-07T20:59:32.000+0000</td></tr><tr><td>4783</td><td>Ariel Barrett</td><td>35</td><td>2015-12-03T12:48:15.000+0000</td></tr><tr><td>9319</td><td>Albert Adams</td><td>21</td><td>2015-11-05T22:07:56.000+0000</td></tr><tr><td>5378</td><td>Amanda Horton</td><td>27</td><td>2016-04-22T19:28:17.000+0000</td></tr><tr><td>5670</td><td>Anthony Durham</td><td>21</td><td>2015-11-06T20:03:21.000+0000</td></tr><tr><td>3919</td><td>Derrick Perez</td><td>26</td><td>2016-07-08T09:33:24.000+0000</td></tr><tr><td>6052</td><td>Bobby Fox</td><td>21</td><td>2016-02-05T14:33:08.000+0000</td></tr><tr><td>1908</td><td>Andrew Buck</td><td>23</td><td>2016-01-06T23:14:16.000+0000</td></tr><tr><td>4792</td><td>Andrew Bartlett</td><td>26</td><td>2015-11-04T03:26:35.000+0000</td></tr><tr><td>6063</td><td>Corey Andrews</td><td>23</td><td>2015-11-25T13:36:22.000+0000</td></tr><tr><td>4508</td><td>Michael Carter</td><td>58</td><td>2016-06-03T23:35:30.000+0000</td></tr><tr><td>9074</td><td>Aaron Alexander</td><td>21</td><td>2015-10-25T07:36:08.000+0000</td></tr><tr><td>2498</td><td>Jeremy Chase</td><td>50</td><td>2017-07-31T16:56:52.000+0000</td></tr><tr><td>6250</td><td>Lydia Nelson</td><td>59</td><td>2016-09-06T06:21:57.000+0000</td></tr><tr><td>6806</td><td>Christopher Daniel</td><td>25</td><td>2016-04-15T17:06:49.000+0000</td></tr><tr><td>372</td><td>Alicia Avila</td><td>20</td><td>2016-01-26T01:49:23.000+0000</td></tr><tr><td>3766</td><td>Abigail Allen</td><td>20</td><td>2015-11-12T14:40:14.000+0000</td></tr><tr><td>4801</td><td>Brad Guerrero</td><td>23</td><td>2017-08-27T08:03:36.000+0000</td></tr><tr><td>10379</td><td>David Leach</td><td>36</td><td>2017-01-01T06:02:17.000+0000</td></tr><tr><td>1091</td><td>Brenda Holden</td><td>47</td><td>2016-02-29T23:24:56.000+0000</td></tr><tr><td>1619</td><td>Kenneth Lopez</td><td>26</td><td>2016-07-12T01:16:22.000+0000</td></tr><tr><td>10311</td><td>Amy Jones</td><td>20</td><td>2016-03-08T11:19:39.000+0000</td></tr><tr><td>7550</td><td>Alejandra Acevedo</td><td>20</td><td>2015-11-24T21:01:23.000+0000</td></tr><tr><td>2580</td><td>Hannah Erickson</td><td>60</td><td>2017-01-05T12:11:34.000+0000</td></tr><tr><td>6676</td><td>Emily Hawkins</td><td>30</td><td>2015-12-25T20:24:37.000+0000</td></tr><tr><td>10434</td><td>Jacqueline Taylor</td><td>37</td><td>2017-01-17T05:17:36.000+0000</td></tr><tr><td>9144</td><td>Amy Floyd</td><td>20</td><td>2016-01-31T16:39:58.000+0000</td></tr><tr><td>1270</td><td>Kenneth Jackson</td><td>58</td><td>2017-02-18T12:16:58.000+0000</td></tr><tr><td>4270</td><td>Jessica Dixon</td><td>35</td><td>2017-02-11T05:51:47.000+0000</td></tr><tr><td>1237</td><td>April Brown</td><td>20</td><td>2016-04-10T02:39:57.000+0000</td></tr><tr><td>8377</td><td>Aaron Abbott</td><td>20</td><td>2015-10-23T16:08:41.000+0000</td></tr><tr><td>3516</td><td>Maria Reyes</td><td>42</td><td>2016-03-07T23:13:14.000+0000</td></tr><tr><td>4070</td><td>Danielle Cook</td><td>22</td><td>2016-05-18T00:47:21.000+0000</td></tr><tr><td>4957</td><td>Mary Barnes</td><td>50</td><td>2017-09-24T20:27:10.000+0000</td></tr><tr><td>6216</td><td>Ashley Anderson</td><td>32</td><td>2015-10-24T14:27:06.000+0000</td></tr><tr><td>1706</td><td>Amy Adams</td><td>20</td><td>2015-10-24T05:05:28.000+0000</td></tr><tr><td>10853</td><td>Amanda Cox</td><td>37</td><td>2015-12-29T23:56:30.000+0000</td></tr><tr><td>3345</td><td>Benjamin Turner</td><td>36</td><td>2016-08-30T14:33:44.000+0000</td></tr><tr><td>2297</td><td>Debbie Mitchell</td><td>46</td><td>2017-02-23T00:45:45.000+0000</td></tr><tr><td>7487</td><td>Adrian Marshall</td><td>35</td><td>2017-05-29T13:35:25.000+0000</td></tr><tr><td>1649</td><td>Allison Acosta</td><td>20</td><td>2015-10-24T01:15:02.000+0000</td></tr><tr><td>10580</td><td>Amanda Anderson</td><td>26</td><td>2016-03-11T23:42:05.000+0000</td></tr><tr><td>4369</td><td>Noah Donaldson</td><td>34</td><td>2016-08-06T19:04:40.000+0000</td></tr><tr><td>1960</td><td>Andrew Aguilar</td><td>24</td><td>2015-11-17T03:24:36.000+0000</td></tr><tr><td>266</td><td>Aaron Anderson</td><td>21</td><td>2015-10-24T05:35:27.000+0000</td></tr><tr><td>6752</td><td>John Johnson</td><td>49</td><td>2017-01-28T22:03:24.000+0000</td></tr><tr><td>49</td><td>Brian Hansen</td><td>31</td><td>2016-01-30T13:25:52.000+0000</td></tr><tr><td>1984</td><td>Annette Forbes</td><td>21</td><td>2016-01-03T15:42:12.000+0000</td></tr><tr><td>2743</td><td>Kelly Kim</td><td>36</td><td>2016-04-07T11:05:37.000+0000</td></tr><tr><td>9730</td><td>Mary Blair</td><td>25</td><td>2016-03-14T18:03:10.000+0000</td></tr><tr><td>7210</td><td>Cameron Howard</td><td>22</td><td>2017-01-27T20:38:37.000+0000</td></tr><tr><td>8307</td><td>Aaron Abbott</td><td>20</td><td>2015-10-23T16:08:41.000+0000</td></tr><tr><td>9273</td><td>April Guerrero</td><td>26</td><td>2016-08-06T10:43:57.000+0000</td></tr><tr><td>6067</td><td>Alyssa Schultz</td><td>48</td><td>2016-04-04T03:59:51.000+0000</td></tr><tr><td>6696</td><td>Amy Brown</td><td>34</td><td>2016-01-08T20:49:30.000+0000</td></tr><tr><td>4012</td><td>Ashley Brown</td><td>22</td><td>2016-02-27T10:22:16.000+0000</td></tr><tr><td>9751</td><td>Alexandra Austin</td><td>22</td><td>2015-11-06T05:05:43.000+0000</td></tr><tr><td>4484</td><td>Erin Nelson</td><td>42</td><td>2017-03-31T22:02:30.000+0000</td></tr><tr><td>1300</td><td>Daniel Garcia</td><td>42</td><td>2016-03-11T22:14:25.000+0000</td></tr><tr><td>863</td><td>Henry Avila</td><td>20</td><td>2016-02-25T03:21:22.000+0000</td></tr><tr><td>4791</td><td>Angela Barker</td><td>32</td><td>2016-01-28T12:48:27.000+0000</td></tr><tr><td>2691</td><td>Ariel Brown</td><td>26</td><td>2015-11-24T23:04:52.000+0000</td></tr><tr><td>9026</td><td>Rebecca Miller</td><td>39</td><td>2016-02-03T08:41:20.000+0000</td></tr><tr><td>6942</td><td>Thomas Smith</td><td>39</td><td>2017-03-13T15:54:27.000+0000</td></tr><tr><td>10386</td><td>Abigail Ali</td><td>20</td><td>2015-10-24T11:23:51.000+0000</td></tr><tr><td>2658</td><td>Connie Hall</td><td>25</td><td>2015-12-04T18:38:34.000+0000</td></tr><tr><td>2675</td><td>Hunter Burgess</td><td>38</td><td>2017-08-02T13:07:53.000+0000</td></tr><tr><td>7343</td><td>Anne Clayton</td><td>24</td><td>2016-01-11T12:03:48.000+0000</td></tr><tr><td>5309</td><td>Daniel Roy</td><td>31</td><td>2016-03-07T01:01:24.000+0000</td></tr><tr><td>6645</td><td>Amanda Herrera</td><td>38</td><td>2016-05-01T21:17:08.000+0000</td></tr><tr><td>3485</td><td>Andrew Burke</td><td>20</td><td>2015-11-14T17:38:31.000+0000</td></tr><tr><td>10427</td><td>Amanda Stevens</td><td>49</td><td>2017-05-09T12:12:20.000+0000</td></tr><tr><td>3120</td><td>Christy Anderson</td><td>22</td><td>2016-05-02T19:28:20.000+0000</td></tr><tr><td>6392</td><td>Kathy Campbell</td><td>21</td><td>2016-01-24T14:59:33.000+0000</td></tr><tr><td>5042</td><td>Joseph Black</td><td>20</td><td>2017-01-08T15:25:45.000+0000</td></tr><tr><td>3466</td><td>Christopher Green</td><td>34</td><td>2016-09-17T04:22:25.000+0000</td></tr><tr><td>2938</td><td>Sarah Velez</td><td>56</td><td>2017-08-08T03:07:29.000+0000</td></tr><tr><td>8792</td><td>Angela Berg</td><td>20</td><td>2015-11-10T05:57:33.000+0000</td></tr><tr><td>9625</td><td>Kimberly Lindsey</td><td>28</td><td>2016-04-18T12:44:41.000+0000</td></tr><tr><td>9399</td><td>Linda Burch</td><td>40</td><td>2017-05-30T13:52:23.000+0000</td></tr><tr><td>4727</td><td>Heather Townsend</td><td>30</td><td>2017-03-06T16:40:44.000+0000</td></tr><tr><td>1233</td><td>Aaron Abbott</td><td>20</td><td>2015-10-31T18:51:07.000+0000</td></tr><tr><td>1192</td><td>Anthony Campbell</td><td>49</td><td>2016-02-19T12:10:25.000+0000</td></tr><tr><td>10646</td><td>Aaron Bailey</td><td>20</td><td>2015-11-02T04:40:42.000+0000</td></tr><tr><td>5043</td><td>Victoria Mata</td><td>29</td><td>2016-03-07T20:06:27.000+0000</td></tr><tr><td>1610</td><td>Victoria Hansen</td><td>32</td><td>2016-04-19T03:20:04.000+0000</td></tr><tr><td>2418</td><td>Amanda Adams</td><td>20</td><td>2015-10-21T08:27:36.000+0000</td></tr><tr><td>3259</td><td>Allison Acosta</td><td>20</td><td>2015-10-24T01:15:02.000+0000</td></tr><tr><td>1469</td><td>Angela Berg</td><td>20</td><td>2015-11-10T05:57:33.000+0000</td></tr><tr><td>4348</td><td>Barbara Allen</td><td>26</td><td>2015-10-30T21:57:35.000+0000</td></tr><tr><td>7163</td><td>Karen Randolph</td><td>57</td><td>2016-11-23T01:28:54.000+0000</td></tr><tr><td>7151</td><td>Charles Brady</td><td>23</td><td>2016-06-22T12:44:36.000+0000</td></tr><tr><td>6879</td><td>Anna Jones</td><td>37</td><td>2016-10-09T14:37:17.000+0000</td></tr><tr><td>10983</td><td>William Walker</td><td>56</td><td>2016-10-18T23:31:48.000+0000</td></tr><tr><td>4639</td><td>Angela Brown</td><td>20</td><td>2015-11-04T16:13:38.000+0000</td></tr><tr><td>8555</td><td>Alexander Bailey</td><td>20</td><td>2015-10-30T11:37:32.000+0000</td></tr><tr><td>1691</td><td>Duane Lopez</td><td>27</td><td>2016-05-01T09:31:11.000+0000</td></tr><tr><td>9463</td><td>Kayla Hamilton</td><td>24</td><td>2015-11-05T03:10:40.000+0000</td></tr><tr><td>2921</td><td>Stephanie White</td><td>47</td><td>2016-02-26T13:34:29.000+0000</td></tr><tr><td>2563</td><td>Jesse Flores</td><td>40</td><td>2016-08-19T19:39:43.000+0000</td></tr><tr><td>2877</td><td>Kenneth Vargas</td><td>56</td><td>2017-02-18T14:00:52.000+0000</td></tr><tr><td>1769</td><td>Brianna Fisher</td><td>41</td><td>2017-03-04T10:39:44.000+0000</td></tr><tr><td>5473</td><td>Anthony Durham</td><td>21</td><td>2015-11-06T20:03:21.000+0000</td></tr><tr><td>6243</td><td>Justin Smith</td><td>57</td><td>2016-11-30T12:07:25.000+0000</td></tr><tr><td>4890</td><td>Alicia Edwards</td><td>36</td><td>2015-11-07T04:27:56.000+0000</td></tr><tr><td>6859</td><td>Nancy Jones</td><td>35</td><td>2016-01-12T09:32:19.000+0000</td></tr><tr><td>206</td><td>Frank Bell</td><td>55</td><td>2017-08-24T14:05:12.000+0000</td></tr><tr><td>6126</td><td>Christina Cuevas</td><td>33</td><td>2016-10-03T13:28:46.000+0000</td></tr><tr><td>5828</td><td>Angela Brown</td><td>20</td><td>2015-11-04T16:13:38.000+0000</td></tr><tr><td>5108</td><td>Anthony Soto</td><td>20</td><td>2016-02-07T11:49:36.000+0000</td></tr><tr><td>5248</td><td>Alexandra Patel</td><td>21</td><td>2016-10-11T03:36:41.000+0000</td></tr><tr><td>3889</td><td>Amanda Casey</td><td>33</td><td>2016-12-19T03:26:26.000+0000</td></tr><tr><td>9234</td><td>Christina Aguilar</td><td>23</td><td>2015-12-09T20:29:10.000+0000</td></tr><tr><td>5217</td><td>Joshua Collins</td><td>43</td><td>2016-01-25T18:54:31.000+0000</td></tr><tr><td>9863</td><td>Kevin Johnson</td><td>37</td><td>2015-11-09T16:54:26.000+0000</td></tr><tr><td>8118</td><td>Donna Barrett</td><td>26</td><td>2016-07-09T18:58:30.000+0000</td></tr><tr><td>3568</td><td>Jessica Mason</td><td>35</td><td>2017-04-23T00:37:07.000+0000</td></tr><tr><td>693</td><td>Anna Bird</td><td>25</td><td>2015-10-21T18:29:08.000+0000</td></tr><tr><td>9695</td><td>Daniel Matthews</td><td>34</td><td>2016-01-23T03:59:37.000+0000</td></tr><tr><td>2573</td><td>Brooke Cline</td><td>22</td><td>2015-11-21T21:58:14.000+0000</td></tr><tr><td>8673</td><td>Gregory Carpenter</td><td>23</td><td>2016-07-14T11:45:49.000+0000</td></tr><tr><td>4175</td><td>Aaron Brown</td><td>20</td><td>2015-10-28T10:38:07.000+0000</td></tr><tr><td>4613</td><td>Christopher Butler</td><td>20</td><td>2015-12-01T15:08:31.000+0000</td></tr><tr><td>8253</td><td>Aaron Anderson</td><td>21</td><td>2015-10-24T05:35:27.000+0000</td></tr><tr><td>1106</td><td>Jason Horne</td><td>27</td><td>2016-02-06T15:31:57.000+0000</td></tr><tr><td>9893</td><td>Anthony Bonilla</td><td>21</td><td>2016-08-15T18:11:48.000+0000</td></tr><tr><td>6759</td><td>Bob Jackson</td><td>45</td><td>2016-03-25T18:19:55.000+0000</td></tr><tr><td>4227</td><td>Alex Jimenez</td><td>24</td><td>2015-10-29T18:48:47.000+0000</td></tr><tr><td>1968</td><td>Elizabeth Strickland</td><td>49</td><td>2016-07-07T09:22:33.000+0000</td></tr><tr><td>4760</td><td>Amanda Bowers</td><td>22</td><td>2016-01-18T20:23:23.000+0000</td></tr><tr><td>4640</td><td>Nicole Leon</td><td>46</td><td>2016-03-15T05:20:12.000+0000</td></tr><tr><td>6795</td><td>Aaron Frost</td><td>42</td><td>2015-10-23T09:36:23.000+0000</td></tr><tr><td>3824</td><td>Aaron Berry</td><td>28</td><td>2016-04-12T03:40:13.000+0000</td></tr><tr><td>9425</td><td>Katrina Fischer</td><td>47</td><td>2017-05-10T22:51:14.000+0000</td></tr><tr><td>649</td><td>Jill Gilmore</td><td>29</td><td>2017-01-13T08:26:21.000+0000</td></tr><tr><td>10371</td><td>Lori Campos</td><td>48</td><td>2016-04-26T11:49:56.000+0000</td></tr><tr><td>8637</td><td>Michael Grant</td><td>28</td><td>2016-09-08T04:09:44.000+0000</td></tr><tr><td>6671</td><td>Jessica Long</td><td>47</td><td>2017-10-06T04:10:16.000+0000</td></tr><tr><td>9173</td><td>Gary Collins</td><td>25</td><td>2016-07-07T18:59:52.000+0000</td></tr><tr><td>6709</td><td>Heather Morales</td><td>42</td><td>2017-08-12T22:55:20.000+0000</td></tr><tr><td>841</td><td>Alexandria Davis</td><td>27</td><td>2016-02-24T12:13:37.000+0000</td></tr><tr><td>2056</td><td>Brian Hansen</td><td>31</td><td>2016-01-30T13:25:52.000+0000</td></tr><tr><td>3284</td><td>Carla Mason</td><td>41</td><td>2016-07-22T18:48:48.000+0000</td></tr><tr><td>1355</td><td>Jonathan Anderson</td><td>30</td><td>2016-12-14T05:41:39.000+0000</td></tr><tr><td>5789</td><td>Brittany Gardner</td><td>22</td><td>2015-11-15T22:09:46.000+0000</td></tr><tr><td>2865</td><td>Mary Peterson</td><td>28</td><td>2016-06-18T12:58:17.000+0000</td></tr><tr><td>4317</td><td>Alexandria Alvarado</td><td>20</td><td>2015-10-23T04:13:23.000+0000</td></tr><tr><td>6755</td><td>Angela Allen</td><td>20</td><td>2015-10-26T04:12:32.000+0000</td></tr><tr><td>1340</td><td>Aaron Anderson</td><td>21</td><td>2015-10-23T03:43:54.000+0000</td></tr><tr><td>10499</td><td>Marie White</td><td>51</td><td>2016-04-29T06:04:15.000+0000</td></tr><tr><td>6560</td><td>Randall Taylor</td><td>56</td><td>2017-05-31T23:40:28.000+0000</td></tr><tr><td>7628</td><td>April Gonzalez</td><td>20</td><td>2015-10-22T14:29:35.000+0000</td></tr><tr><td>289</td><td>Andrew Burke</td><td>20</td><td>2015-11-14T17:38:31.000+0000</td></tr><tr><td>7953</td><td>Benjamin Adams</td><td>24</td><td>2015-10-25T03:23:53.000+0000</td></tr><tr><td>10525</td><td>Jennifer Brown</td><td>31</td><td>2015-11-05T14:30:01.000+0000</td></tr><tr><td>7018</td><td>Brian Ferrell</td><td>42</td><td>2016-09-04T11:52:16.000+0000</td></tr><tr><td>1204</td><td>Crystal Hines</td><td>50</td><td>2017-08-30T19:55:03.000+0000</td></tr><tr><td>4477</td><td>Abigail Barry</td><td>21</td><td>2015-12-03T10:40:24.000+0000</td></tr><tr><td>2451</td><td>Brooke Young</td><td>37</td><td>2016-12-01T18:08:11.000+0000</td></tr><tr><td>916</td><td>Aaron Anderson</td><td>21</td><td>2015-10-23T03:43:54.000+0000</td></tr><tr><td>2551</td><td>Donna Butler</td><td>27</td><td>2015-11-11T10:40:36.000+0000</td></tr><tr><td>2320</td><td>Corey Carpenter</td><td>25</td><td>2015-10-28T09:03:45.000+0000</td></tr><tr><td>6079</td><td>Albert Allison</td><td>20</td><td>2015-10-21T22:27:27.000+0000</td></tr><tr><td>1017</td><td>Anthony Crosby</td><td>26</td><td>2016-07-19T19:44:57.000+0000</td></tr><tr><td>648</td><td>Adam Acosta</td><td>20</td><td>2015-10-21T21:26:45.000+0000</td></tr><tr><td>10938</td><td>Andrea Roberts</td><td>22</td><td>2016-11-10T10:01:28.000+0000</td></tr><tr><td>8115</td><td>Diana Barry</td><td>26</td><td>2015-11-12T15:36:01.000+0000</td></tr><tr><td>8736</td><td>Donald Bentley</td><td>27</td><td>2016-03-23T20:43:09.000+0000</td></tr><tr><td>5686</td><td>Darrell Green</td><td>29</td><td>2016-02-13T01:44:53.000+0000</td></tr><tr><td>220</td><td>Andrew Anderson</td><td>23</td><td>2015-11-28T11:52:37.000+0000</td></tr><tr><td>9218</td><td>April Barr</td><td>26</td><td>2016-02-06T19:00:11.000+0000</td></tr><tr><td>7896</td><td>Andrew Alvarez</td><td>21</td><td>2015-11-10T12:55:13.000+0000</td></tr><tr><td>3260</td><td>Ariel Brown</td><td>26</td><td>2015-11-24T23:04:52.000+0000</td></tr><tr><td>7537</td><td>Jessica Sullivan</td><td>25</td><td>2016-01-19T18:17:05.000+0000</td></tr><tr><td>533</td><td>David Griffith</td><td>20</td><td>2016-01-07T19:49:22.000+0000</td></tr><tr><td>8972</td><td>Angela Becker</td><td>22</td><td>2016-04-03T08:54:01.000+0000</td></tr><tr><td>6944</td><td>Scott Jackson</td><td>36</td><td>2017-08-05T08:24:02.000+0000</td></tr><tr><td>577</td><td>Mario Hawkins</td><td>34</td><td>2017-06-15T01:11:03.000+0000</td></tr><tr><td>10751</td><td>Darren Ellison</td><td>33</td><td>2017-03-19T12:04:11.000+0000</td></tr><tr><td>7103</td><td>Amber Ashley</td><td>22</td><td>2016-09-05T00:23:48.000+0000</td></tr><tr><td>8841</td><td>Angela Becker</td><td>22</td><td>2016-04-03T08:54:01.000+0000</td></tr><tr><td>4708</td><td>Amber Bennett</td><td>29</td><td>2016-02-28T04:37:04.000+0000</td></tr><tr><td>2426</td><td>Stephen Baker</td><td>50</td><td>2016-08-06T01:49:31.000+0000</td></tr><tr><td>5386</td><td>Abigail Ali</td><td>20</td><td>2015-10-24T11:23:51.000+0000</td></tr><tr><td>8267</td><td>Sabrina Avila</td><td>42</td><td>2017-08-08T10:11:59.000+0000</td></tr><tr><td>1628</td><td>Adam Burns</td><td>20</td><td>2015-11-27T16:06:53.000+0000</td></tr><tr><td>4992</td><td>Abigail Barry</td><td>21</td><td>2015-12-03T10:40:24.000+0000</td></tr><tr><td>2065</td><td>Brandon Bender</td><td>21</td><td>2016-02-15T23:12:43.000+0000</td></tr><tr><td>6892</td><td>Mark Adams</td><td>46</td><td>2015-11-19T16:59:15.000+0000</td></tr><tr><td>10787</td><td>Brandon Bautista</td><td>35</td><td>2017-08-20T02:58:12.000+0000</td></tr><tr><td>7630</td><td>Aaron Abbott</td><td>20</td><td>2015-10-23T16:08:41.000+0000</td></tr><tr><td>4888</td><td>Molly Lawson</td><td>20</td><td>2017-10-02T12:20:54.000+0000</td></tr><tr><td>1547</td><td>Jackie Buchanan</td><td>28</td><td>2017-04-21T01:59:00.000+0000</td></tr><tr><td>5603</td><td>Destiny Parker</td><td>48</td><td>2017-01-18T00:20:22.000+0000</td></tr><tr><td>4560</td><td>Ariel Barrett</td><td>35</td><td>2015-12-03T12:48:15.000+0000</td></tr><tr><td>6341</td><td>Barbara Duran</td><td>22</td><td>2016-11-07T11:01:26.000+0000</td></tr><tr><td>4781</td><td>Cynthia Guerra</td><td>29</td><td>2016-12-25T23:51:01.000+0000</td></tr><tr><td>6328</td><td>Ashley Combs</td><td>34</td><td>2015-11-13T06:33:05.000+0000</td></tr><tr><td>7529</td><td>Robert Black</td><td>53</td><td>2016-05-21T02:14:41.000+0000</td></tr><tr><td>9942</td><td>Amanda Allen</td><td>22</td><td>2015-10-24T18:56:30.000+0000</td></tr><tr><td>4418</td><td>Paul Gonzalez</td><td>23</td><td>2016-03-29T06:12:48.000+0000</td></tr><tr><td>2197</td><td>Thomas Ingram</td><td>46</td><td>2015-11-19T14:25:53.000+0000</td></tr><tr><td>8369</td><td>Aaron Abbott</td><td>20</td><td>2015-10-23T16:08:41.000+0000</td></tr><tr><td>4198</td><td>Brian Ramos</td><td>37</td><td>2017-01-14T07:55:25.000+0000</td></tr><tr><td>10779</td><td>Matthew Jensen</td><td>35</td><td>2017-07-29T09:53:26.000+0000</td></tr><tr><td>9235</td><td>Clinton Berry</td><td>29</td><td>2016-08-10T10:28:10.000+0000</td></tr><tr><td>7080</td><td>Donna Carroll</td><td>21</td><td>2016-02-02T12:25:05.000+0000</td></tr><tr><td>9139</td><td>Christina Aguilar</td><td>23</td><td>2015-12-09T20:29:10.000+0000</td></tr><tr><td>9870</td><td>Danielle Bentley</td><td>53</td><td>2015-11-04T10:14:55.000+0000</td></tr><tr><td>10353</td><td>Anthony Buchanan</td><td>31</td><td>2015-12-11T10:56:55.000+0000</td></tr><tr><td>8214</td><td>Aaron Abbott</td><td>20</td><td>2015-10-23T16:08:41.000+0000</td></tr><tr><td>8396</td><td>Robin Miller</td><td>50</td><td>2016-04-13T01:27:55.000+0000</td></tr><tr><td>9668</td><td>Brendan Joseph</td><td>26</td><td>2015-12-20T10:28:00.000+0000</td></tr><tr><td>2145</td><td>Ashlee Barker</td><td>24</td><td>2016-01-04T03:30:38.000+0000</td></tr><tr><td>5598</td><td>Kerri Jones</td><td>48</td><td>2016-02-09T05:58:56.000+0000</td></tr><tr><td>590</td><td>Brian Aguirre</td><td>49</td><td>2016-09-13T10:58:48.000+0000</td></tr><tr><td>9290</td><td>Brian Davis</td><td>20</td><td>2016-06-14T20:15:34.000+0000</td></tr><tr><td>2880</td><td>Amber Casey</td><td>23</td><td>2016-01-06T12:22:08.000+0000</td></tr><tr><td>1755</td><td>Ashley Taylor</td><td>23</td><td>2016-05-17T05:36:06.000+0000</td></tr><tr><td>9743</td><td>Kurt James</td><td>33</td><td>2016-01-04T09:32:04.000+0000</td></tr><tr><td>7738</td><td>Alexis George</td><td>34</td><td>2016-02-26T00:38:01.000+0000</td></tr><tr><td>5488</td><td>Heather Edwards</td><td>33</td><td>2016-01-16T18:25:10.000+0000</td></tr><tr><td>4055</td><td>Grant George</td><td>27</td><td>2015-11-11T01:45:05.000+0000</td></tr><tr><td>10347</td><td>Julia Jackson</td><td>23</td><td>2016-11-13T02:31:21.000+0000</td></tr><tr><td>7631</td><td>Jennifer Bailey</td><td>42</td><td>2016-03-07T21:07:12.000+0000</td></tr><tr><td>4849</td><td>Erica Murphy</td><td>35</td><td>2015-11-03T05:49:39.000+0000</td></tr><tr><td>5332</td><td>Alan Anderson</td><td>23</td><td>2015-10-23T13:00:32.000+0000</td></tr><tr><td>4456</td><td>Adam Church</td><td>22</td><td>2016-02-18T14:51:45.000+0000</td></tr><tr><td>10139</td><td>Brian Clark</td><td>24</td><td>2016-05-03T10:56:36.000+0000</td></tr><tr><td>4017</td><td>Abigail Allen</td><td>20</td><td>2015-11-12T14:40:14.000+0000</td></tr><tr><td>1916</td><td>Amy Hubbard</td><td>23</td><td>2017-02-14T07:35:02.000+0000</td></tr><tr><td>7549</td><td>Crystal Davis</td><td>20</td><td>2015-11-22T04:28:31.000+0000</td></tr><tr><td>869</td><td>Brett Bryant</td><td>20</td><td>2015-10-23T12:40:19.000+0000</td></tr><tr><td>5036</td><td>Mary Caldwell</td><td>43</td><td>2016-12-16T23:45:44.000+0000</td></tr><tr><td>2275</td><td>Andrew Buck</td><td>23</td><td>2016-01-06T23:14:16.000+0000</td></tr><tr><td>6983</td><td>Angela Allen</td><td>20</td><td>2015-10-26T04:12:32.000+0000</td></tr><tr><td>3756</td><td>Alex Banks</td><td>27</td><td>2015-12-13T17:30:18.000+0000</td></tr><tr><td>7214</td><td>Jeremy Leblanc</td><td>49</td><td>2015-12-05T06:12:20.000+0000</td></tr><tr><td>171</td><td>Amanda Alvarez</td><td>21</td><td>2015-10-30T01:31:09.000+0000</td></tr><tr><td>1742</td><td>Timothy Lopez</td><td>39</td><td>2016-07-16T05:39:49.000+0000</td></tr><tr><td>2742</td><td>Courtney Joyce</td><td>21</td><td>2015-12-26T17:07:27.000+0000</td></tr><tr><td>4190</td><td>Amanda Allen</td><td>21</td><td>2015-11-16T23:15:00.000+0000</td></tr><tr><td>2649</td><td>Tristan Jennings</td><td>21</td><td>2016-10-29T05:57:47.000+0000</td></tr><tr><td>10325</td><td>James Castillo</td><td>58</td><td>2017-02-24T07:26:51.000+0000</td></tr><tr><td>7016</td><td>Steven Navarro</td><td>25</td><td>2017-04-09T13:31:54.000+0000</td></tr><tr><td>3351</td><td>Eric Taylor</td><td>39</td><td>2017-04-04T06:05:03.000+0000</td></tr><tr><td>5084</td><td>Marissa Spence</td><td>53</td><td>2016-06-30T20:53:16.000+0000</td></tr><tr><td>6978</td><td>Jack Morales</td><td>56</td><td>2016-10-23T06:50:28.000+0000</td></tr><tr><td>3638</td><td>Rebecca Conner</td><td>33</td><td>2015-12-29T22:26:53.000+0000</td></tr><tr><td>746</td><td>Diana Barry</td><td>26</td><td>2015-11-12T15:36:01.000+0000</td></tr><tr><td>27</td><td>Adam Acosta</td><td>20</td><td>2015-10-21T21:26:45.000+0000</td></tr><tr><td>4353</td><td>Brett Oliver</td><td>24</td><td>2015-12-26T21:27:59.000+0000</td></tr><tr><td>354</td><td>Ashley Allen</td><td>20</td><td>2016-01-12T03:41:16.000+0000</td></tr><tr><td>3433</td><td>Pamela Jones</td><td>28</td><td>2015-11-07T13:11:42.000+0000</td></tr><tr><td>7008</td><td>Jason Patterson</td><td>21</td><td>2017-01-10T11:35:34.000+0000</td></tr><tr><td>2933</td><td>Bridget Hendricks</td><td>26</td><td>2016-10-10T19:07:02.000+0000</td></tr><tr><td>5567</td><td>Austin Atkinson</td><td>31</td><td>2015-10-29T14:28:07.000+0000</td></tr><tr><td>7534</td><td>Angela Allen</td><td>20</td><td>2015-10-26T04:12:32.000+0000</td></tr><tr><td>2871</td><td>Jessica Gardner</td><td>39</td><td>2016-01-02T11:00:04.000+0000</td></tr><tr><td>2318</td><td>Jessica Love</td><td>33</td><td>2017-03-16T11:53:00.000+0000</td></tr><tr><td>6115</td><td>Malik Walters</td><td>53</td><td>2017-02-16T15:30:03.000+0000</td></tr><tr><td>8602</td><td>Chad Baker</td><td>20</td><td>2015-12-12T03:43:32.000+0000</td></tr><tr><td>6030</td><td>Albert Allison</td><td>20</td><td>2015-10-21T22:27:27.000+0000</td></tr><tr><td>9214</td><td>Adam Acosta</td><td>20</td><td>2015-10-21T21:26:45.000+0000</td></tr><tr><td>788</td><td>Brian Sherman</td><td>33</td><td>2016-12-15T14:42:39.000+0000</td></tr><tr><td>8883</td><td>Michael Carlson</td><td>24</td><td>2015-11-26T09:53:01.000+0000</td></tr><tr><td>8988</td><td>Amy Andrews</td><td>23</td><td>2015-10-29T19:12:55.000+0000</td></tr><tr><td>4851</td><td>Brandon Cummings</td><td>22</td><td>2016-05-11T01:36:00.000+0000</td></tr><tr><td>9900</td><td>Denise Jones</td><td>49</td><td>2016-05-28T09:59:02.000+0000</td></tr><tr><td>9269</td><td>Aaron Anderson</td><td>21</td><td>2015-10-23T03:43:54.000+0000</td></tr><tr><td>9550</td><td>John Foster</td><td>32</td><td>2016-06-10T15:27:19.000+0000</td></tr><tr><td>1881</td><td>Jeffrey Brooks</td><td>47</td><td>2017-02-08T21:03:46.000+0000</td></tr><tr><td>5044</td><td>Amanda Bowers</td><td>22</td><td>2016-01-18T20:23:23.000+0000</td></tr><tr><td>1481</td><td>Alison Harding</td><td>35</td><td>2017-10-05T17:45:20.000+0000</td></tr><tr><td>287</td><td>Amanda Alvarez</td><td>21</td><td>2015-10-30T01:31:09.000+0000</td></tr><tr><td>6359</td><td>Wendy Benjamin</td><td>55</td><td>2016-04-01T22:44:15.000+0000</td></tr><tr><td>4608</td><td>Brittany Collins</td><td>27</td><td>2017-03-22T19:36:45.000+0000</td></tr><tr><td>989</td><td>Aaron Anderson</td><td>21</td><td>2015-10-23T03:43:54.000+0000</td></tr><tr><td>5237</td><td>Aaron Brown</td><td>31</td><td>2016-01-04T16:38:42.000+0000</td></tr><tr><td>9905</td><td>Nancy Butler</td><td>30</td><td>2016-07-06T02:43:23.000+0000</td></tr><tr><td>1187</td><td>Abigail Ali</td><td>20</td><td>2015-10-24T11:23:51.000+0000</td></tr><tr><td>571</td><td>Allison Acosta</td><td>20</td><td>2015-10-24T01:15:02.000+0000</td></tr><tr><td>9263</td><td>Abigail Bates</td><td>20</td><td>2015-11-07T20:59:32.000+0000</td></tr><tr><td>5182</td><td>Jonathon Crawford</td><td>25</td><td>2016-12-09T04:56:37.000+0000</td></tr><tr><td>3435</td><td>Christina Bonilla</td><td>30</td><td>2015-12-01T18:29:38.000+0000</td></tr><tr><td>8498</td><td>Adam Burns</td><td>20</td><td>2015-11-27T16:06:53.000+0000</td></tr><tr><td>6032</td><td>Chad Wagner</td><td>28</td><td>2016-07-01T05:27:38.000+0000</td></tr><tr><td>4393</td><td>Amanda Ball</td><td>25</td><td>2016-01-13T17:36:30.000+0000</td></tr><tr><td>8687</td><td>Denise Adams</td><td>21</td><td>2015-11-12T06:21:36.000+0000</td></tr><tr><td>9043</td><td>Aaron Abbott</td><td>20</td><td>2015-10-31T18:51:07.000+0000</td></tr><tr><td>8984</td><td>Aaron Abbott</td><td>20</td><td>2015-10-23T16:08:41.000+0000</td></tr><tr><td>3497</td><td>Alexandria Alvarado</td><td>20</td><td>2015-10-23T04:13:23.000+0000</td></tr><tr><td>5321</td><td>Adam Alexander</td><td>20</td><td>2015-10-22T11:31:37.000+0000</td></tr><tr><td>5659</td><td>Darrell Green</td><td>29</td><td>2016-02-13T01:44:53.000+0000</td></tr><tr><td>6523</td><td>Devin Allen</td><td>29</td><td>2016-03-19T05:02:18.000+0000</td></tr><tr><td>5744</td><td>Alexander Burns</td><td>27</td><td>2015-11-05T18:33:17.000+0000</td></tr><tr><td>5539</td><td>Adam Cole</td><td>23</td><td>2015-11-15T23:49:12.000+0000</td></tr><tr><td>9950</td><td>Christopher Bates</td><td>30</td><td>2016-05-25T10:09:22.000+0000</td></tr><tr><td>1349</td><td>Andrew Allen</td><td>53</td><td>2017-01-23T23:59:16.000+0000</td></tr><tr><td>7258</td><td>Michael Snyder</td><td>44</td><td>2017-07-05T17:32:12.000+0000</td></tr><tr><td>6675</td><td>Ryan Long</td><td>50</td><td>2017-10-12T11:47:53.000+0000</td></tr><tr><td>9068</td><td>Adam Acosta</td><td>20</td><td>2015-10-21T21:26:45.000+0000</td></tr><tr><td>303</td><td>Natasha Cortez</td><td>51</td><td>2016-04-22T18:18:45.000+0000</td></tr><tr><td>10587</td><td>Nicole Allen</td><td>20</td><td>2016-02-28T10:35:06.000+0000</td></tr><tr><td>8052</td><td>Andrew Alexander</td><td>20</td><td>2015-11-20T09:08:00.000+0000</td></tr><tr><td>2829</td><td>Billy Armstrong</td><td>22</td><td>2015-12-18T20:54:14.000+0000</td></tr><tr><td>9031</td><td>Amanda Adams</td><td>20</td><td>2015-10-21T08:27:36.000+0000</td></tr><tr><td>351</td><td>Adam Acosta</td><td>20</td><td>2015-10-21T21:26:45.000+0000</td></tr><tr><td>10680</td><td>Morgan Santiago</td><td>45</td><td>2016-11-06T22:27:24.000+0000</td></tr><tr><td>7440</td><td>Ariana Walsh</td><td>53</td><td>2016-02-08T18:33:19.000+0000</td></tr><tr><td>4074</td><td>John Davis</td><td>35</td><td>2016-03-16T15:36:14.000+0000</td></tr><tr><td>8035</td><td>Eric Buck</td><td>45</td><td>2015-10-28T17:36:12.000+0000</td></tr><tr><td>946</td><td>Michael Duncan</td><td>42</td><td>2016-05-03T06:06:22.000+0000</td></tr><tr><td>6855</td><td>Lori Graham</td><td>56</td><td>2016-07-03T10:13:54.000+0000</td></tr><tr><td>2842</td><td>Allison Acosta</td><td>20</td><td>2015-10-24T01:15:02.000+0000</td></tr><tr><td>1136</td><td>Aaron Abbott</td><td>20</td><td>2015-10-31T18:51:07.000+0000</td></tr><tr><td>1064</td><td>Heidi Garcia</td><td>53</td><td>2016-02-22T11:19:07.000+0000</td></tr><tr><td>3011</td><td>Justin Singleton</td><td>20</td><td>2017-03-10T19:53:44.000+0000</td></tr><tr><td>10917</td><td>Valerie Rodriguez</td><td>31</td><td>2016-07-30T01:45:47.000+0000</td></tr><tr><td>7240</td><td>Abigail Ali</td><td>20</td><td>2015-10-24T11:23:51.000+0000</td></tr><tr><td>1173</td><td>Dana Jackson</td><td>57</td><td>2016-06-05T21:37:09.000+0000</td></tr><tr><td>10154</td><td>Lauren Hill</td><td>52</td><td>2016-01-08T17:05:07.000+0000</td></tr><tr><td>6937</td><td>Amanda Brewer</td><td>31</td><td>2016-04-05T12:30:56.000+0000</td></tr><tr><td>9413</td><td>Andrea Alexander</td><td>21</td><td>2015-11-10T09:27:42.000+0000</td></tr><tr><td>3037</td><td>Alexandra Fuentes</td><td>29</td><td>2016-01-03T02:33:53.000+0000</td></tr><tr><td>802</td><td>Chad Beard</td><td>28</td><td>2016-01-09T01:42:30.000+0000</td></tr><tr><td>5782</td><td>Krystal Richmond</td><td>30</td><td>2015-11-26T06:52:36.000+0000</td></tr><tr><td>5186</td><td>Stephanie Alexander</td><td>45</td><td>2017-08-27T14:41:36.000+0000</td></tr><tr><td>8536</td><td>Alexander Bailey</td><td>20</td><td>2015-10-30T11:37:32.000+0000</td></tr><tr><td>4057</td><td>Amber Arnold</td><td>20</td><td>2015-11-08T05:09:29.000+0000</td></tr><tr><td>9576</td><td>Kerri Moon</td><td>48</td><td>2016-11-18T10:41:30.000+0000</td></tr><tr><td>10423</td><td>Amanda Adams</td><td>21</td><td>2016-03-28T01:06:12.000+0000</td></tr><tr><td>5754</td><td>Edward Bailey</td><td>25</td><td>2016-01-13T01:06:35.000+0000</td></tr><tr><td>10181</td><td>Elizabeth Moreno</td><td>28</td><td>2016-04-07T18:01:32.000+0000</td></tr><tr><td>6223</td><td>Chelsea Williams</td><td>42</td><td>2017-06-12T20:51:07.000+0000</td></tr><tr><td>6329</td><td>Craig Stewart</td><td>22</td><td>2016-08-21T23:58:32.000+0000</td></tr><tr><td>4763</td><td>Jonathan Martinez</td><td>58</td><td>2016-05-27T13:42:02.000+0000</td></tr><tr><td>4277</td><td>Alex Jimenez</td><td>24</td><td>2015-10-29T18:48:47.000+0000</td></tr><tr><td>8318</td><td>Patricia Mejia</td><td>54</td><td>2017-07-02T03:14:06.000+0000</td></tr><tr><td>8467</td><td>Thomas Calderon</td><td>25</td><td>2016-07-30T00:30:30.000+0000</td></tr><tr><td>7082</td><td>Alvin Adams</td><td>20</td><td>2016-01-01T13:50:40.000+0000</td></tr><tr><td>8055</td><td>Aaron Abbott</td><td>20</td><td>2015-10-23T16:08:41.000+0000</td></tr><tr><td>8304</td><td>Charles Berry</td><td>25</td><td>2015-12-28T04:21:39.000+0000</td></tr><tr><td>8886</td><td>Abigail Bates</td><td>20</td><td>2015-11-07T20:59:32.000+0000</td></tr><tr><td>8488</td><td>Andrew Anderson</td><td>23</td><td>2015-11-28T11:52:37.000+0000</td></tr><tr><td>8511</td><td>Molly Curtis</td><td>20</td><td>2016-06-30T10:13:01.000+0000</td></tr><tr><td>1188</td><td>Cesar Miller</td><td>38</td><td>2015-11-19T03:01:18.000+0000</td></tr><tr><td>5820</td><td>Bradley Griffin</td><td>24</td><td>2016-04-05T09:58:20.000+0000</td></tr><tr><td>8091</td><td>Aaron Abbott</td><td>20</td><td>2015-10-23T16:08:41.000+0000</td></tr><tr><td>4291</td><td>John Jones</td><td>49</td><td>2016-09-29T21:27:39.000+0000</td></tr><tr><td>4225</td><td>Marc Hester</td><td>36</td><td>2016-09-13T21:07:02.000+0000</td></tr><tr><td>10309</td><td>Clarence Cruz</td><td>31</td><td>2015-11-26T02:58:35.000+0000</td></tr><tr><td>8610</td><td>Amy Brown</td><td>21</td><td>2015-11-08T16:14:16.000+0000</td></tr><tr><td>6037</td><td>Mary Hansen</td><td>20</td><td>2017-01-19T15:01:32.000+0000</td></tr><tr><td>5617</td><td>Christina Bell</td><td>30</td><td>2016-08-05T17:30:59.000+0000</td></tr><tr><td>242</td><td>Albert Calderon</td><td>21</td><td>2015-11-01T08:04:39.000+0000</td></tr><tr><td>3548</td><td>Cindy Barnes</td><td>21</td><td>2016-03-15T01:30:25.000+0000</td></tr><tr><td>5158</td><td>Daniel Black</td><td>20</td><td>2016-04-06T16:18:34.000+0000</td></tr><tr><td>6541</td><td>Victoria Ramos</td><td>40</td><td>2017-04-16T04:09:44.000+0000</td></tr><tr><td>7073</td><td>Manuel Ashley</td><td>55</td><td>2017-07-13T23:48:07.000+0000</td></tr><tr><td>4159</td><td>Darryl Alexander</td><td>25</td><td>2015-12-02T11:20:58.000+0000</td></tr><tr><td>884</td><td>Daniel Valentine</td><td>46</td><td>2017-01-17T18:12:39.000+0000</td></tr><tr><td>10175</td><td>Annette Andrews</td><td>28</td><td>2015-12-20T22:09:10.000+0000</td></tr><tr><td>2457</td><td>Nathan Davis</td><td>49</td><td>2016-08-06T18:35:35.000+0000</td></tr><tr><td>10155</td><td>Barbara Harris</td><td>28</td><td>2016-01-18T00:02:03.000+0000</td></tr><tr><td>2258</td><td>Gary Hall</td><td>29</td><td>2016-11-23T15:39:44.000+0000</td></tr><tr><td>7493</td><td>Monica Hernandez</td><td>33</td><td>2016-04-01T13:54:42.000+0000</td></tr><tr><td>1472</td><td>Andrew Simmons</td><td>26</td><td>2017-08-27T16:21:56.000+0000</td></tr><tr><td>9046</td><td>Angela Becker</td><td>22</td><td>2016-04-03T08:54:01.000+0000</td></tr><tr><td>469</td><td>Jeremy Moody</td><td>59</td><td>2017-10-17T09:58:14.000+0000</td></tr><tr><td>5175</td><td>Candice Casey</td><td>27</td><td>2015-10-30T14:51:37.000+0000</td></tr><tr><td>6399</td><td>Ashley Lee</td><td>38</td><td>2016-05-31T10:05:10.000+0000</td></tr><tr><td>7221</td><td>Tim Lester</td><td>22</td><td>2016-11-12T13:23:56.000+0000</td></tr><tr><td>5668</td><td>Kristin Khan</td><td>20</td><td>2017-01-23T16:38:11.000+0000</td></tr><tr><td>3028</td><td>Andrea Ball</td><td>20</td><td>2015-11-05T05:13:28.000+0000</td></tr><tr><td>9088</td><td>Alicia Brown</td><td>23</td><td>2016-05-27T08:41:11.000+0000</td></tr><tr><td>10829</td><td>Barbara Mathis</td><td>43</td><td>2016-05-30T07:44:41.000+0000</td></tr><tr><td>9526</td><td>Daniel Mccormick</td><td>32</td><td>2016-12-11T01:02:45.000+0000</td></tr><tr><td>5755</td><td>Ian Gomez</td><td>38</td><td>2016-05-18T11:52:25.000+0000</td></tr><tr><td>5833</td><td>Brandon Hebert</td><td>39</td><td>2016-03-03T11:41:05.000+0000</td></tr><tr><td>6868</td><td>Alejandra Acevedo</td><td>20</td><td>2015-11-24T21:01:23.000+0000</td></tr><tr><td>7459</td><td>Abigail Ali</td><td>20</td><td>2015-10-24T11:23:51.000+0000</td></tr><tr><td>5254</td><td>William Combs</td><td>50</td><td>2015-12-06T10:58:54.000+0000</td></tr><tr><td>2004</td><td>Andrea Blankenship</td><td>27</td><td>2016-04-11T21:27:52.000+0000</td></tr><tr><td>5187</td><td>Anne Hunt</td><td>30</td><td>2015-12-10T12:01:22.000+0000</td></tr><tr><td>6788</td><td>Angela Allen</td><td>20</td><td>2015-10-26T04:12:32.000+0000</td></tr><tr><td>8334</td><td>Cynthia Gibson</td><td>26</td><td>2017-06-22T02:26:21.000+0000</td></tr><tr><td>3790</td><td>Alexandria Alvarado</td><td>20</td><td>2015-10-23T04:13:23.000+0000</td></tr><tr><td>4033</td><td>Abigail Allen</td><td>20</td><td>2015-11-12T14:40:14.000+0000</td></tr><tr><td>9169</td><td>Aaron Alexander</td><td>21</td><td>2015-10-25T07:36:08.000+0000</td></tr><tr><td>9259</td><td>Christopher Carlson</td><td>32</td><td>2016-11-28T00:22:07.000+0000</td></tr><tr><td>5474</td><td>Andrea Benton</td><td>27</td><td>2015-11-03T11:44:52.000+0000</td></tr><tr><td>7424</td><td>Anna Lee</td><td>26</td><td>2015-12-10T21:36:11.000+0000</td></tr><tr><td>1584</td><td>Bruce Carney</td><td>32</td><td>2017-08-30T14:57:35.000+0000</td></tr><tr><td>3442</td><td>Anthony Bryan</td><td>22</td><td>2015-10-24T15:35:59.000+0000</td></tr><tr><td>4939</td><td>Peter Cabrera</td><td>30</td><td>2017-09-05T12:17:52.000+0000</td></tr><tr><td>8197</td><td>Aaron Abbott</td><td>20</td><td>2015-10-31T18:51:07.000+0000</td></tr><tr><td>1600</td><td>Brian Gentry</td><td>39</td><td>2015-11-25T13:17:55.000+0000</td></tr><tr><td>8011</td><td>Frank Combs</td><td>23</td><td>2015-11-30T05:25:22.000+0000</td></tr><tr><td>6209</td><td>Allen Diaz</td><td>20</td><td>2015-11-12T04:00:33.000+0000</td></tr><tr><td>6783</td><td>Timothy Gregory</td><td>22</td><td>2016-07-03T21:48:46.000+0000</td></tr><tr><td>5051</td><td>Justin Martin</td><td>57</td><td>2016-01-25T09:53:32.000+0000</td></tr><tr><td>7742</td><td>Amber Ashley</td><td>22</td><td>2016-09-05T00:23:48.000+0000</td></tr><tr><td>120</td><td>Amy Atkins</td><td>21</td><td>2015-10-31T07:37:40.000+0000</td></tr><tr><td>878</td><td>Brett Bryant</td><td>20</td><td>2015-10-23T12:40:19.000+0000</td></tr><tr><td>1054</td><td>Deanna Booker</td><td>36</td><td>2017-03-29T03:08:41.000+0000</td></tr><tr><td>7166</td><td>Alvin Adams</td><td>20</td><td>2016-01-01T13:50:40.000+0000</td></tr><tr><td>1967</td><td>Jay Flynn</td><td>24</td><td>2016-05-12T16:28:27.000+0000</td></tr><tr><td>187</td><td>Laura Knight</td><td>21</td><td>2016-12-02T03:34:06.000+0000</td></tr><tr><td>4821</td><td>Ashley Gentry</td><td>20</td><td>2015-11-12T00:58:51.000+0000</td></tr><tr><td>4441</td><td>Brittney Benitez</td><td>37</td><td>2016-01-12T00:25:28.000+0000</td></tr><tr><td>10758</td><td>Joyce Brown</td><td>24</td><td>2016-05-19T02:20:39.000+0000</td></tr><tr><td>7562</td><td>April Anderson</td><td>30</td><td>2016-06-27T08:35:51.000+0000</td></tr><tr><td>5688</td><td>Adam Alexander</td><td>20</td><td>2015-10-22T11:31:37.000+0000</td></tr><tr><td>6091</td><td>Kelly Snow</td><td>42</td><td>2016-10-12T15:57:17.000+0000</td></tr><tr><td>4166</td><td>Kylie Alvarez</td><td>35</td><td>2015-10-30T03:04:23.000+0000</td></tr><tr><td>3138</td><td>Abigail Adams</td><td>20</td><td>2015-10-25T13:11:51.000+0000</td></tr><tr><td>7102</td><td>Tracy West</td><td>24</td><td>2016-10-29T15:49:41.000+0000</td></tr><tr><td>905</td><td>Anthony Crosby</td><td>26</td><td>2016-07-19T19:44:57.000+0000</td></tr><tr><td>6438</td><td>Aaron Baldwin</td><td>20</td><td>2016-03-02T01:37:55.000+0000</td></tr><tr><td>8157</td><td>Diana Drake</td><td>20</td><td>2016-03-21T11:12:23.000+0000</td></tr><tr><td>10639</td><td>Todd Taylor</td><td>45</td><td>2017-06-16T06:04:00.000+0000</td></tr><tr><td>9130</td><td>Aaron Cole</td><td>20</td><td>2015-12-09T07:33:33.000+0000</td></tr><tr><td>8629</td><td>Alicia Greer</td><td>26</td><td>2016-06-24T10:33:53.000+0000</td></tr><tr><td>10821</td><td>Nicole Wright</td><td>50</td><td>2017-01-02T04:40:58.000+0000</td></tr><tr><td>5199</td><td>Clayton Stanley</td><td>44</td><td>2016-06-13T20:32:07.000+0000</td></tr><tr><td>3969</td><td>Jamie Jennings</td><td>25</td><td>2015-12-19T05:13:01.000+0000</td></tr><tr><td>8930</td><td>Andrew Anderson</td><td>23</td><td>2015-11-28T11:52:37.000+0000</td></tr><tr><td>223</td><td>Melanie Hill</td><td>51</td><td>2016-10-09T14:47:51.000+0000</td></tr><tr><td>9455</td><td>Calvin Baker</td><td>26</td><td>2015-11-14T05:58:38.000+0000</td></tr><tr><td>3475</td><td>Alexandria Alvarado</td><td>20</td><td>2015-10-23T04:13:23.000+0000</td></tr><tr><td>6936</td><td>Alan Newman</td><td>37</td><td>2016-06-22T01:47:16.000+0000</td></tr><tr><td>2424</td><td>April Anderson</td><td>21</td><td>2016-12-04T18:22:22.000+0000</td></tr><tr><td>5355</td><td>James Quinn</td><td>23</td><td>2017-10-08T23:24:49.000+0000</td></tr><tr><td>4390</td><td>John Shaw</td><td>47</td><td>2017-01-27T16:08:27.000+0000</td></tr><tr><td>8367</td><td>Aaron Abbott</td><td>20</td><td>2015-10-23T16:08:41.000+0000</td></tr><tr><td>3001</td><td>Charles Johnson</td><td>25</td><td>2015-12-07T02:19:50.000+0000</td></tr><tr><td>9554</td><td>Lori Evans</td><td>30</td><td>2015-12-23T04:43:03.000+0000</td></tr><tr><td>6741</td><td>Nancy Jones</td><td>35</td><td>2016-01-12T09:32:19.000+0000</td></tr><tr><td>7783</td><td>Paul Lawson</td><td>38</td><td>2017-05-11T19:37:34.000+0000</td></tr><tr><td>10791</td><td>Benjamin Brown</td><td>25</td><td>2016-07-07T23:22:12.000+0000</td></tr><tr><td>9622</td><td>Jennifer Briggs</td><td>28</td><td>2016-11-03T21:34:34.000+0000</td></tr><tr><td>1607</td><td>Austin Alvarez</td><td>38</td><td>2015-11-27T20:15:05.000+0000</td></tr><tr><td>519</td><td>Adam Acosta</td><td>20</td><td>2015-10-21T21:26:45.000+0000</td></tr><tr><td>10113</td><td>Dustin Hicks</td><td>40</td><td>2016-09-27T09:29:54.000+0000</td></tr><tr><td>4900</td><td>Diamond Watkins</td><td>59</td><td>2016-06-21T09:52:35.000+0000</td></tr><tr><td>7735</td><td>Aaron Abbott</td><td>20</td><td>2015-10-23T16:08:41.000+0000</td></tr><tr><td>7071</td><td>Isaac Whitehead</td><td>34</td><td>2017-06-16T01:23:38.000+0000</td></tr><tr><td>7835</td><td>Aaron Abbott</td><td>20</td><td>2015-10-23T16:08:41.000+0000</td></tr><tr><td>4064</td><td>Andrew Garcia</td><td>44</td><td>2015-10-27T20:31:15.000+0000</td></tr><tr><td>7318</td><td>James Dunn</td><td>45</td><td>2016-04-30T10:48:25.000+0000</td></tr><tr><td>10904</td><td>Deanna Alexander</td><td>29</td><td>2016-04-04T18:49:31.000+0000</td></tr><tr><td>6680</td><td>Sarah Buckley</td><td>51</td><td>2017-06-08T14:07:12.000+0000</td></tr><tr><td>6527</td><td>Brandon Bender</td><td>21</td><td>2016-02-15T23:12:43.000+0000</td></tr><tr><td>3810</td><td>Beth Johnson</td><td>30</td><td>2015-11-29T15:45:13.000+0000</td></tr><tr><td>2804</td><td>Kathryn Hanson</td><td>24</td><td>2016-05-06T15:17:51.000+0000</td></tr><tr><td>2718</td><td>Carmen Adams</td><td>20</td><td>2015-11-17T21:31:20.000+0000</td></tr><tr><td>6317</td><td>Albert Allison</td><td>20</td><td>2015-10-21T22:27:27.000+0000</td></tr><tr><td>3100</td><td>Andrew Brown</td><td>24</td><td>2016-04-22T22:35:24.000+0000</td></tr><tr><td>1352</td><td>Alyssa Martin</td><td>30</td><td>2016-10-17T04:12:47.000+0000</td></tr><tr><td>10773</td><td>April Davis</td><td>26</td><td>2016-05-17T22:11:51.000+0000</td></tr><tr><td>4603</td><td>Abigail Barry</td><td>21</td><td>2015-12-03T10:40:24.000+0000</td></tr><tr><td>4101</td><td>Crystal Bowman</td><td>34</td><td>2016-03-27T12:12:54.000+0000</td></tr><tr><td>1342</td><td>Taylor Becker</td><td>51</td><td>2016-09-04T01:09:46.000+0000</td></tr><tr><td>10557</td><td>Andrea Burke</td><td>20</td><td>2015-12-12T11:20:08.000+0000</td></tr><tr><td>1603</td><td>Lynn Jennings</td><td>21</td><td>2015-12-04T12:31:54.000+0000</td></tr><tr><td>5434</td><td>Angela Alexander</td><td>23</td><td>2015-12-04T08:20:12.000+0000</td></tr><tr><td>5520</td><td>Erika Rodriguez</td><td>22</td><td>2016-07-20T23:44:11.000+0000</td></tr><tr><td>9471</td><td>Benjamin Allen</td><td>38</td><td>2017-08-27T22:17:58.000+0000</td></tr><tr><td>10402</td><td>Michelle Ray</td><td>33</td><td>2016-09-18T11:03:14.000+0000</td></tr><tr><td>9906</td><td>Jeremy Jensen</td><td>22</td><td>2016-12-15T21:52:11.000+0000</td></tr><tr><td>1496</td><td>Alexander Chavez</td><td>21</td><td>2016-05-21T14:34:47.000+0000</td></tr><tr><td>9830</td><td>John Gomez</td><td>28</td><td>2017-02-27T15:22:40.000+0000</td></tr><tr><td>10793</td><td>Karen Webb</td><td>56</td><td>2015-12-29T05:45:13.000+0000</td></tr><tr><td>2109</td><td>Jason Morgan</td><td>29</td><td>2017-02-24T15:06:37.000+0000</td></tr><tr><td>8543</td><td>Clinton Berry</td><td>29</td><td>2016-08-10T10:28:10.000+0000</td></tr><tr><td>159</td><td>Alison Bell</td><td>21</td><td>2016-01-07T08:11:35.000+0000</td></tr><tr><td>8677</td><td>Amy Brown</td><td>21</td><td>2015-11-08T16:14:16.000+0000</td></tr><tr><td>4417</td><td>Maria Long</td><td>27</td><td>2017-09-28T00:27:20.000+0000</td></tr><tr><td>7861</td><td>Alexandria Gross</td><td>22</td><td>2016-06-07T14:30:06.000+0000</td></tr><tr><td>347</td><td>Grace Becker</td><td>42</td><td>2016-05-29T08:32:02.000+0000</td></tr><tr><td>9973</td><td>Cameron Silva</td><td>36</td><td>2016-06-22T18:47:06.000+0000</td></tr><tr><td>298</td><td>Amanda Alvarez</td><td>21</td><td>2015-10-30T01:31:09.000+0000</td></tr><tr><td>973</td><td>Kelsey Woods</td><td>21</td><td>2016-04-04T15:35:02.000+0000</td></tr><tr><td>2443</td><td>Amanda Bender</td><td>33</td><td>2016-09-23T06:02:49.000+0000</td></tr><tr><td>35</td><td>Anthony Adkins</td><td>21</td><td>2015-10-28T03:59:42.000+0000</td></tr><tr><td>5195</td><td>Amanda Downs</td><td>22</td><td>2016-04-06T04:57:45.000+0000</td></tr><tr><td>246</td><td>Adrienne Acosta</td><td>21</td><td>2015-11-17T14:56:48.000+0000</td></tr><tr><td>3522</td><td>Laura Ward</td><td>48</td><td>2017-01-26T22:42:40.000+0000</td></tr><tr><td>8960</td><td>Alicia Benjamin</td><td>27</td><td>2015-12-10T18:40:42.000+0000</td></tr><tr><td>9219</td><td>Amy Martin</td><td>45</td><td>2016-11-04T05:51:09.000+0000</td></tr><tr><td>8483</td><td>Andrew Arnold</td><td>21</td><td>2015-12-02T08:29:10.000+0000</td></tr><tr><td>9685</td><td>Cathy Wheeler</td><td>42</td><td>2016-05-26T04:02:10.000+0000</td></tr><tr><td>2645</td><td>Jessica Martinez</td><td>24</td><td>2016-04-12T10:18:47.000+0000</td></tr><tr><td>5359</td><td>Linda Blackwell</td><td>20</td><td>2015-12-11T03:23:37.000+0000</td></tr><tr><td>8968</td><td>Amanda Carlson</td><td>21</td><td>2015-11-23T09:01:37.000+0000</td></tr><tr><td>1773</td><td>Juan Hamilton</td><td>26</td><td>2015-10-30T02:00:31.000+0000</td></tr><tr><td>8727</td><td>Albert Allison</td><td>20</td><td>2015-10-21T22:27:27.000+0000</td></tr><tr><td>10681</td><td>Julian Esparza</td><td>42</td><td>2016-06-21T08:11:24.000+0000</td></tr><tr><td>8246</td><td>Amanda Dixon</td><td>25</td><td>2016-04-16T08:59:08.000+0000</td></tr><tr><td>4831</td><td>Jamie Davis</td><td>33</td><td>2016-03-23T06:58:08.000+0000</td></tr><tr><td>7105</td><td>Cody Benjamin</td><td>39</td><td>2016-09-21T01:49:54.000+0000</td></tr><tr><td>7880</td><td>Ryan Smith</td><td>57</td><td>2016-12-17T07:28:19.000+0000</td></tr><tr><td>3935</td><td>Jeffrey Gomez</td><td>36</td><td>2016-02-05T15:30:20.000+0000</td></tr><tr><td>1116</td><td>Adam Burns</td><td>20</td><td>2015-11-27T16:06:53.000+0000</td></tr><tr><td>10073</td><td>Jeffrey Hunter</td><td>32</td><td>2016-09-07T04:52:20.000+0000</td></tr><tr><td>4892</td><td>Pamela Wilson</td><td>28</td><td>2016-07-10T23:56:30.000+0000</td></tr><tr><td>2188</td><td>Jeremy Young</td><td>51</td><td>2016-01-31T00:50:50.000+0000</td></tr><tr><td>7486</td><td>Brenda Gonzalez</td><td>56</td><td>2015-12-07T11:53:35.000+0000</td></tr><tr><td>10414</td><td>Helen Moses</td><td>25</td><td>2016-02-02T20:10:52.000+0000</td></tr><tr><td>1904</td><td>Lindsay Gardner</td><td>47</td><td>2016-02-22T07:09:11.000+0000</td></tr><tr><td>9424</td><td>Aaron Abbott</td><td>20</td><td>2015-10-23T16:08:41.000+0000</td></tr><tr><td>5600</td><td>Alexis Bell</td><td>20</td><td>2015-11-23T06:34:47.000+0000</td></tr><tr><td>4142</td><td>Nicole Hammond</td><td>33</td><td>2017-10-07T03:02:07.000+0000</td></tr><tr><td>8811</td><td>Marissa Hayes</td><td>45</td><td>2017-09-21T17:20:56.000+0000</td></tr><tr><td>821</td><td>Becky Brady</td><td>21</td><td>2015-11-05T20:19:03.000+0000</td></tr><tr><td>10102</td><td>Amy Adams</td><td>23</td><td>2015-11-19T13:16:24.000+0000</td></tr><tr><td>4874</td><td>Katrina Murray</td><td>54</td><td>2017-02-22T11:17:02.000+0000</td></tr><tr><td>3802</td><td>Alison Bell</td><td>21</td><td>2016-01-07T08:11:35.000+0000</td></tr><tr><td>4247</td><td>Robyn Ayala</td><td>52</td><td>2017-06-13T22:07:28.000+0000</td></tr><tr><td>9490</td><td>Juan Hammond</td><td>30</td><td>2016-04-09T14:15:47.000+0000</td></tr><tr><td>1692</td><td>Melissa Smith</td><td>29</td><td>2016-12-22T16:37:44.000+0000</td></tr><tr><td>665</td><td>Anthony Adkins</td><td>21</td><td>2015-10-28T03:59:42.000+0000</td></tr><tr><td>7167</td><td>Dawn Bradley</td><td>20</td><td>2016-08-26T16:09:52.000+0000</td></tr><tr><td>7874</td><td>Aaron Abbott</td><td>20</td><td>2015-10-23T16:08:41.000+0000</td></tr><tr><td>9268</td><td>Alexander Bailey</td><td>20</td><td>2015-10-30T11:37:32.000+0000</td></tr><tr><td>1864</td><td>Alexander Adams</td><td>32</td><td>2015-10-28T15:48:24.000+0000</td></tr><tr><td>6014</td><td>Mary Luna</td><td>22</td><td>2016-01-02T01:40:52.000+0000</td></tr><tr><td>640</td><td>Aaron Anderson</td><td>21</td><td>2015-10-24T05:35:27.000+0000</td></tr><tr><td>3644</td><td>Angela Hall</td><td>27</td><td>2016-02-22T03:37:09.000+0000</td></tr><tr><td>10600</td><td>Robert Mclaughlin</td><td>49</td><td>2016-02-27T04:42:03.000+0000</td></tr><tr><td>6305</td><td>Aaron Anderson</td><td>21</td><td>2015-10-23T03:43:54.000+0000</td></tr><tr><td>5679</td><td>Melanie Allison</td><td>32</td><td>2017-07-02T05:22:18.000+0000</td></tr><tr><td>3281</td><td>Grant George</td><td>27</td><td>2015-11-11T01:45:05.000+0000</td></tr><tr><td>8477</td><td>Ryan Adams</td><td>58</td><td>2016-07-11T22:23:30.000+0000</td></tr><tr><td>6509</td><td>Alexis Frazier</td><td>22</td><td>2016-04-19T13:21:10.000+0000</td></tr><tr><td>2126</td><td>David Moss</td><td>22</td><td>2016-03-01T07:11:48.000+0000</td></tr><tr><td>4714</td><td>Brenda Cherry</td><td>31</td><td>2017-03-10T05:00:27.000+0000</td></tr><tr><td>8228</td><td>Aaron Abbott</td><td>20</td><td>2015-10-23T16:08:41.000+0000</td></tr><tr><td>6678</td><td>Christopher Allen</td><td>23</td><td>2015-11-25T08:07:08.000+0000</td></tr><tr><td>10519</td><td>Ariel Mason</td><td>50</td><td>2016-02-24T05:05:28.000+0000</td></tr><tr><td>4223</td><td>Alex Banks</td><td>27</td><td>2015-12-13T17:30:18.000+0000</td></tr><tr><td>10578</td><td>Gabrielle Flores</td><td>34</td><td>2017-09-17T01:53:38.000+0000</td></tr><tr><td>5982</td><td>Christina Green</td><td>21</td><td>2016-09-23T03:09:07.000+0000</td></tr><tr><td>3135</td><td>Alex Adams</td><td>22</td><td>2016-10-22T21:06:32.000+0000</td></tr><tr><td>7578</td><td>Amanda Adams</td><td>20</td><td>2015-10-21T08:27:36.000+0000</td></tr><tr><td>9209</td><td>Angela Becker</td><td>22</td><td>2016-04-03T08:54:01.000+0000</td></tr><tr><td>10628</td><td>David Evans</td><td>21</td><td>2016-03-28T10:54:55.000+0000</td></tr><tr><td>1319</td><td>Elizabeth Cobb</td><td>45</td><td>2017-10-16T02:56:01.000+0000</td></tr><tr><td>3728</td><td>Richard Perry</td><td>28</td><td>2016-08-10T20:02:22.000+0000</td></tr><tr><td>4703</td><td>Kim Strickland</td><td>52</td><td>2017-01-21T16:45:35.000+0000</td></tr><tr><td>3997</td><td>Alice Edwards</td><td>27</td><td>2016-01-05T20:59:33.000+0000</td></tr><tr><td>6373</td><td>Bryan Malone</td><td>23</td><td>2015-11-25T13:53:55.000+0000</td></tr><tr><td>8564</td><td>Adam Davis</td><td>23</td><td>2015-11-10T00:04:39.000+0000</td></tr><tr><td>1575</td><td>Austin Murillo</td><td>35</td><td>2017-06-23T18:40:50.000+0000</td></tr><tr><td>2604</td><td>Ashley Evans</td><td>30</td><td>2016-02-21T12:54:01.000+0000</td></tr><tr><td>1341</td><td>Abigail Ali</td><td>20</td><td>2015-10-24T11:23:51.000+0000</td></tr><tr><td>2025</td><td>Aaron Abbott</td><td>20</td><td>2015-10-31T18:51:07.000+0000</td></tr><tr><td>10026</td><td>Ann Holmes</td><td>34</td><td>2016-04-14T21:47:18.000+0000</td></tr><tr><td>3428</td><td>Abigail Ali</td><td>20</td><td>2015-10-24T11:23:51.000+0000</td></tr><tr><td>5368</td><td>Christina Haas</td><td>25</td><td>2016-02-14T18:52:16.000+0000</td></tr><tr><td>8156</td><td>Amanda Adams</td><td>20</td><td>2015-10-21T08:27:36.000+0000</td></tr><tr><td>9122</td><td>Albert Adams</td><td>21</td><td>2015-11-05T22:07:56.000+0000</td></tr><tr><td>10830</td><td>Dana Sherman</td><td>53</td><td>2016-09-22T05:56:01.000+0000</td></tr><tr><td>4581</td><td>Benjamin Graham</td><td>20</td><td>2016-01-18T04:39:27.000+0000</td></tr><tr><td>2721</td><td>Gerald Anderson</td><td>36</td><td>2017-03-05T10:44:04.000+0000</td></tr><tr><td>1395</td><td>Dylan Gillespie</td><td>56</td><td>2017-05-08T12:29:32.000+0000</td></tr><tr><td>8190</td><td>Aaron Abbott</td><td>20</td><td>2015-10-23T16:08:41.000+0000</td></tr><tr><td>1884</td><td>Alexandra Brown</td><td>21</td><td>2015-11-05T07:52:21.000+0000</td></tr><tr><td>10456</td><td>Regina Mendez</td><td>31</td><td>2016-07-05T18:48:57.000+0000</td></tr><tr><td>10477</td><td>Lance Smith</td><td>28</td><td>2016-01-26T05:33:19.000+0000</td></tr><tr><td>3838</td><td>Lynn Hunter</td><td>52</td><td>2016-10-28T16:40:22.000+0000</td></tr><tr><td>3023</td><td>Anthony Bryan</td><td>22</td><td>2015-10-24T15:35:59.000+0000</td></tr><tr><td>10895</td><td>Steve Hale</td><td>40</td><td>2017-04-19T05:27:43.000+0000</td></tr><tr><td>1522</td><td>Daniel Prince</td><td>31</td><td>2016-06-23T20:18:56.000+0000</td></tr><tr><td>8471</td><td>Karen Smith</td><td>37</td><td>2017-07-15T17:54:43.000+0000</td></tr><tr><td>10211</td><td>Karen Buckley</td><td>26</td><td>2017-03-24T08:28:46.000+0000</td></tr><tr><td>2930</td><td>Abigail Adams</td><td>20</td><td>2015-10-25T13:11:51.000+0000</td></tr><tr><td>7295</td><td>Corey Malone</td><td>51</td><td>2016-07-25T16:46:07.000+0000</td></tr><tr><td>2202</td><td>Kevin Rodriguez</td><td>37</td><td>2016-03-06T20:52:05.000+0000</td></tr><tr><td>7383</td><td>Dawn Bradley</td><td>20</td><td>2016-08-26T16:09:52.000+0000</td></tr><tr><td>8505</td><td>Sandra Humphrey</td><td>41</td><td>2017-04-16T22:40:56.000+0000</td></tr><tr><td>7563</td><td>Alejandra Acevedo</td><td>20</td><td>2015-11-24T21:01:23.000+0000</td></tr><tr><td>8233</td><td>Andrew Alexander</td><td>20</td><td>2015-11-20T09:08:00.000+0000</td></tr><tr><td>10689</td><td>Margaret Banks</td><td>25</td><td>2016-07-11T18:09:50.000+0000</td></tr><tr><td>2107</td><td>Allison Acosta</td><td>20</td><td>2015-10-24T01:15:02.000+0000</td></tr><tr><td>4222</td><td>Alexandria Alvarado</td><td>20</td><td>2015-10-23T04:13:23.000+0000</td></tr><tr><td>8492</td><td>Aaron Abbott</td><td>20</td><td>2015-10-23T16:08:41.000+0000</td></tr><tr><td>10051</td><td>Juan Hammond</td><td>30</td><td>2016-04-09T14:15:47.000+0000</td></tr><tr><td>6452</td><td>Jacob Jones</td><td>22</td><td>2016-06-06T02:55:54.000+0000</td></tr><tr><td>1190</td><td>Ashley Aguilar</td><td>31</td><td>2015-12-26T09:26:38.000+0000</td></tr><tr><td>8056</td><td>Billy Daniels</td><td>40</td><td>2016-05-22T05:51:52.000+0000</td></tr><tr><td>6388</td><td>Benjamin Trevino</td><td>52</td><td>2016-02-25T10:35:58.000+0000</td></tr><tr><td>3192</td><td>Amanda Adams</td><td>20</td><td>2015-10-21T08:27:36.000+0000</td></tr><tr><td>6151</td><td>Michelle Stone</td><td>55</td><td>2017-09-21T08:58:19.000+0000</td></tr><tr><td>3495</td><td>Alexandria Alvarado</td><td>20</td><td>2015-10-23T04:13:23.000+0000</td></tr><tr><td>9677</td><td>Bruce Lyons</td><td>20</td><td>2016-07-09T23:03:37.000+0000</td></tr><tr><td>1112</td><td>Eric Harmon</td><td>20</td><td>2016-05-28T01:26:38.000+0000</td></tr><tr><td>2491</td><td>Christopher Allen</td><td>23</td><td>2016-01-16T20:10:28.000+0000</td></tr><tr><td>3210</td><td>Anthony Chen</td><td>24</td><td>2016-06-15T12:49:30.000+0000</td></tr><tr><td>5346</td><td>Joshua Bentley</td><td>38</td><td>2016-12-07T05:36:28.000+0000</td></tr><tr><td>7567</td><td>Mark Russell</td><td>56</td><td>2017-05-18T20:35:15.000+0000</td></tr><tr><td>10285</td><td>Thomas Bailey</td><td>26</td><td>2017-07-03T15:47:27.000+0000</td></tr><tr><td>7190</td><td>Ernest Booker</td><td>58</td><td>2017-06-03T02:23:52.000+0000</td></tr><tr><td>315</td><td>Shannon Jones</td><td>37</td><td>2016-03-27T07:27:17.000+0000</td></tr><tr><td>5992</td><td>Jeremiah Fletcher</td><td>51</td><td>2016-08-12T17:53:40.000+0000</td></tr><tr><td>474</td><td>Amanda Benitez</td><td>21</td><td>2015-11-01T09:16:18.000+0000</td></tr><tr><td>4321</td><td>Leslie Phelps</td><td>37</td><td>2016-09-08T00:18:15.000+0000</td></tr><tr><td>1897</td><td>Adam Boyd</td><td>25</td><td>2017-08-12T08:23:43.000+0000</td></tr><tr><td>7088</td><td>April Blake</td><td>21</td><td>2015-10-28T03:16:59.000+0000</td></tr><tr><td>2055</td><td>April Shaffer</td><td>28</td><td>2017-01-05T12:11:56.000+0000</td></tr><tr><td>3903</td><td>Joshua Smith</td><td>54</td><td>2016-10-31T11:54:23.000+0000</td></tr><tr><td>7788</td><td>Mario Anderson</td><td>44</td><td>2017-07-26T13:29:08.000+0000</td></tr><tr><td>4020</td><td>Brenda Bailey</td><td>22</td><td>2016-08-11T06:14:21.000+0000</td></tr><tr><td>2959</td><td>David Griffith</td><td>20</td><td>2016-01-07T19:49:22.000+0000</td></tr><tr><td>5911</td><td>Anna Adams</td><td>21</td><td>2015-11-27T08:22:20.000+0000</td></tr><tr><td>10513</td><td>Melody Thompson</td><td>28</td><td>2016-10-28T04:09:37.000+0000</td></tr><tr><td>7209</td><td>April Anderson</td><td>30</td><td>2016-06-27T08:35:51.000+0000</td></tr><tr><td>4115</td><td>Danielle Cook</td><td>22</td><td>2016-05-18T00:47:21.000+0000</td></tr><tr><td>2754</td><td>Lance Li</td><td>23</td><td>2016-06-14T14:03:04.000+0000</td></tr><tr><td>8452</td><td>Aaron Anderson</td><td>21</td><td>2015-10-24T05:35:27.000+0000</td></tr><tr><td>10582</td><td>Jessica Cline</td><td>39</td><td>2017-07-12T12:51:57.000+0000</td></tr><tr><td>1208</td><td>Amy Hughes</td><td>35</td><td>2017-07-05T18:03:31.000+0000</td></tr><tr><td>3132</td><td>Phillip Torres</td><td>51</td><td>2017-06-18T13:12:59.000+0000</td></tr><tr><td>437</td><td>Heather Tate</td><td>38</td><td>2016-02-11T08:52:59.000+0000</td></tr><tr><td>3431</td><td>Becky Brady</td><td>21</td><td>2015-11-05T20:19:03.000+0000</td></tr><tr><td>282</td><td>Tammy Guzman</td><td>52</td><td>2017-09-18T00:17:19.000+0000</td></tr><tr><td>985</td><td>John Morris</td><td>37</td><td>2017-05-01T03:12:27.000+0000</td></tr><tr><td>1941</td><td>Steven Anderson</td><td>42</td><td>2017-05-22T22:32:45.000+0000</td></tr><tr><td>3303</td><td>Carmen Adams</td><td>20</td><td>2015-11-17T21:31:20.000+0000</td></tr><tr><td>9231</td><td>Andrea Alexander</td><td>21</td><td>2015-11-10T09:27:42.000+0000</td></tr><tr><td>2513</td><td>William Larson</td><td>47</td><td>2016-02-25T07:10:47.000+0000</td></tr><tr><td>8651</td><td>Diana Barry</td><td>26</td><td>2015-11-12T15:36:01.000+0000</td></tr><tr><td>507</td><td>Adam Acosta</td><td>20</td><td>2015-10-21T21:26:45.000+0000</td></tr><tr><td>8798</td><td>Andrew Anderson</td><td>23</td><td>2015-11-28T11:52:37.000+0000</td></tr><tr><td>89</td><td>Jordan Rojas</td><td>60</td><td>2016-11-01T04:55:02.000+0000</td></tr><tr><td>7721</td><td>Andrew Brown</td><td>25</td><td>2016-03-26T04:30:23.000+0000</td></tr><tr><td>10380</td><td>Anthony Bullock</td><td>42</td><td>2016-09-01T03:50:31.000+0000</td></tr><tr><td>1114</td><td>Charles Clark</td><td>25</td><td>2016-01-14T12:21:54.000+0000</td></tr><tr><td>974</td><td>David Jones</td><td>40</td><td>2016-06-30T00:50:31.000+0000</td></tr><tr><td>4944</td><td>Amber Bennett</td><td>29</td><td>2016-02-28T04:37:04.000+0000</td></tr><tr><td>7958</td><td>Tommy Murray</td><td>37</td><td>2015-10-22T18:00:07.000+0000</td></tr><tr><td>5206</td><td>Jessica English</td><td>40</td><td>2016-10-11T06:55:24.000+0000</td></tr><tr><td>7161</td><td>Mary Davis</td><td>36</td><td>2016-06-19T11:29:39.000+0000</td></tr><tr><td>7524</td><td>Crystal Davis</td><td>20</td><td>2015-11-22T04:28:31.000+0000</td></tr><tr><td>1476</td><td>Christopher Romero</td><td>56</td><td>2017-09-06T08:07:57.000+0000</td></tr><tr><td>10332</td><td>Elizabeth Murphy</td><td>59</td><td>2016-05-31T17:11:11.000+0000</td></tr><tr><td>4604</td><td>Robert Holt</td><td>57</td><td>2016-07-06T14:11:03.000+0000</td></tr><tr><td>2003</td><td>Michelle Doyle</td><td>40</td><td>2016-10-16T07:36:56.000+0000</td></tr><tr><td>5433</td><td>Megan Edwards</td><td>40</td><td>2015-12-15T10:06:07.000+0000</td></tr><tr><td>8772</td><td>Erin Bond</td><td>42</td><td>2016-01-13T23:16:53.000+0000</td></tr><tr><td>4803</td><td>Anthony Dean</td><td>21</td><td>2016-04-15T19:54:05.000+0000</td></tr><tr><td>7842</td><td>Helen Wilson</td><td>25</td><td>2017-09-03T17:18:11.000+0000</td></tr><tr><td>5334</td><td>Angela Montes</td><td>29</td><td>2017-02-17T13:17:55.000+0000</td></tr><tr><td>2581</td><td>Brandon Smith</td><td>22</td><td>2016-08-27T13:05:47.000+0000</td></tr><tr><td>3426</td><td>Anthony Bridges</td><td>47</td><td>2016-01-27T06:39:33.000+0000</td></tr><tr><td>6248</td><td>David Jackson</td><td>29</td><td>2016-03-10T17:00:10.000+0000</td></tr><tr><td>4422</td><td>Adam Church</td><td>22</td><td>2016-02-18T14:51:45.000+0000</td></tr><tr><td>6474</td><td>Allen Diaz</td><td>20</td><td>2015-11-12T04:00:33.000+0000</td></tr><tr><td>5896</td><td>Andrew Estrada</td><td>25</td><td>2015-11-15T13:36:03.000+0000</td></tr><tr><td>2885</td><td>Allison Acosta</td><td>20</td><td>2015-10-24T01:15:02.000+0000</td></tr><tr><td>5107</td><td>Anthony Rowland</td><td>26</td><td>2016-07-09T11:19:56.000+0000</td></tr><tr><td>767</td><td>Aaron Abbott</td><td>20</td><td>2015-10-31T18:51:07.000+0000</td></tr><tr><td>4901</td><td>Donald Chavez</td><td>21</td><td>2015-12-01T05:37:53.000+0000</td></tr><tr><td>8306</td><td>Andrew Alexander</td><td>20</td><td>2015-11-20T09:08:00.000+0000</td></tr><tr><td>3377</td><td>Carmen Adams</td><td>20</td><td>2015-11-17T21:31:20.000+0000</td></tr><tr><td>1558</td><td>Alfred Murray</td><td>36</td><td>2016-03-15T11:19:05.000+0000</td></tr><tr><td>7777</td><td>Dawn Rivera</td><td>37</td><td>2016-03-06T21:52:56.000+0000</td></tr><tr><td>5704</td><td>David Craig</td><td>30</td><td>2016-01-30T06:09:57.000+0000</td></tr><tr><td>9185</td><td>Scott Copeland</td><td>25</td><td>2017-10-18T06:45:02.000+0000</td></tr><tr><td>2928</td><td>Caitlin Smith</td><td>52</td><td>2016-02-14T10:15:47.000+0000</td></tr><tr><td>7645</td><td>Benjamin Adams</td><td>24</td><td>2015-10-25T03:23:53.000+0000</td></tr><tr><td>2183</td><td>Courtney Barton</td><td>20</td><td>2017-05-02T10:41:29.000+0000</td></tr><tr><td>476</td><td>Timothy Smith</td><td>49</td><td>2016-03-01T18:50:01.000+0000</td></tr><tr><td>2395</td><td>Amy Adams</td><td>20</td><td>2015-10-24T05:05:28.000+0000</td></tr><tr><td>6568</td><td>Christopher Allen</td><td>23</td><td>2016-01-16T20:10:28.000+0000</td></tr><tr><td>4673</td><td>Jeffrey Farley</td><td>42</td><td>2016-03-11T00:11:54.000+0000</td></tr><tr><td>2036</td><td>Amy Adams</td><td>20</td><td>2015-10-24T05:05:28.000+0000</td></tr><tr><td>5449</td><td>Paul Russo</td><td>23</td><td>2016-11-01T05:03:41.000+0000</td></tr><tr><td>10468</td><td>Cory Perez</td><td>44</td><td>2016-01-27T05:46:03.000+0000</td></tr><tr><td>3736</td><td>Molly Bryant</td><td>24</td><td>2015-12-15T15:15:16.000+0000</td></tr><tr><td>3942</td><td>Alexandria Alvarado</td><td>20</td><td>2015-10-23T04:13:23.000+0000</td></tr><tr><td>6116</td><td>Thomas Ramirez</td><td>22</td><td>2016-12-28T08:15:28.000+0000</td></tr><tr><td>9880</td><td>Stephen Harris</td><td>37</td><td>2016-10-01T03:08:11.000+0000</td></tr><tr><td>2727</td><td>Anna Campbell</td><td>26</td><td>2016-06-28T12:30:55.000+0000</td></tr><tr><td>8481</td><td>Andrew Alexander</td><td>20</td><td>2015-11-20T09:08:00.000+0000</td></tr><tr><td>3613</td><td>Sharon Ortiz</td><td>34</td><td>2016-10-01T17:35:18.000+0000</td></tr><tr><td>10784</td><td>Haley Nguyen</td><td>27</td><td>2017-03-11T05:44:32.000+0000</td></tr><tr><td>4137</td><td>Michael Decker</td><td>59</td><td>2017-06-29T22:35:17.000+0000</td></tr><tr><td>6602</td><td>Alexandria Anderson</td><td>23</td><td>2015-10-31T19:20:09.000+0000</td></tr><tr><td>4249</td><td>Alexandria Alvarado</td><td>20</td><td>2015-10-23T04:13:23.000+0000</td></tr><tr><td>6170</td><td>Eric Gonzalez</td><td>36</td><td>2016-07-31T17:22:08.000+0000</td></tr><tr><td>10440</td><td>Christian Howell</td><td>29</td><td>2016-08-20T04:54:42.000+0000</td></tr><tr><td>709</td><td>Adam Acosta</td><td>20</td><td>2015-10-21T21:26:45.000+0000</td></tr><tr><td>7377</td><td>Jose Franklin</td><td>49</td><td>2016-12-09T03:29:50.000+0000</td></tr><tr><td>10091</td><td>Stephanie Taylor</td><td>36</td><td>2017-08-13T20:35:56.000+0000</td></tr><tr><td>10239</td><td>Matthew Bray</td><td>36</td><td>2016-05-06T15:28:47.000+0000</td></tr><tr><td>6954</td><td>Dawn Anderson</td><td>20</td><td>2016-12-31T00:06:36.000+0000</td></tr><tr><td>8799</td><td>Alan Burton</td><td>20</td><td>2015-12-19T07:34:17.000+0000</td></tr><tr><td>3991</td><td>Alison Bell</td><td>21</td><td>2016-01-07T08:11:35.000+0000</td></tr><tr><td>1404</td><td>Cassandra Browning</td><td>27</td><td>2017-08-09T15:14:15.000+0000</td></tr><tr><td>199</td><td>Cynthia Harper</td><td>43</td><td>2016-01-23T05:44:11.000+0000</td></tr><tr><td>5213</td><td>Brian Sparks</td><td>32</td><td>2016-04-22T06:39:12.000+0000</td></tr><tr><td>1372</td><td>Aaron Abbott</td><td>20</td><td>2015-10-31T18:51:07.000+0000</td></tr><tr><td>10251</td><td>Amy Adams</td><td>23</td><td>2015-11-19T13:16:24.000+0000</td></tr><tr><td>10531</td><td>David Evans</td><td>21</td><td>2016-03-28T10:54:55.000+0000</td></tr><tr><td>3246</td><td>Abigail Adams</td><td>20</td><td>2015-10-25T13:11:51.000+0000</td></tr><tr><td>9712</td><td>Alexandra Austin</td><td>22</td><td>2015-11-06T05:05:43.000+0000</td></tr><tr><td>10660</td><td>Shannon Richmond</td><td>39</td><td>2015-12-04T13:08:31.000+0000</td></tr><tr><td>8428</td><td>Madison Byrd</td><td>53</td><td>2016-12-03T11:55:38.000+0000</td></tr><tr><td>1571</td><td>Aaron Anderson</td><td>21</td><td>2015-10-23T03:43:54.000+0000</td></tr><tr><td>7871</td><td>Aaron Abbott</td><td>20</td><td>2015-10-23T16:08:41.000+0000</td></tr><tr><td>6661</td><td>Jody Glover</td><td>22</td><td>2016-03-15T14:01:44.000+0000</td></tr><tr><td>8276</td><td>Alexander Briggs</td><td>31</td><td>2016-06-30T04:37:04.000+0000</td></tr><tr><td>5953</td><td>Elizabeth Green</td><td>20</td><td>2016-06-21T10:08:09.000+0000</td></tr><tr><td>7745</td><td>Aaron Abbott</td><td>20</td><td>2015-10-23T16:08:41.000+0000</td></tr><tr><td>9530</td><td>Denise Graves</td><td>21</td><td>2016-01-28T22:04:16.000+0000</td></tr><tr><td>2970</td><td>Anthony Brown</td><td>33</td><td>2015-10-24T16:39:50.000+0000</td></tr><tr><td>6333</td><td>Julia Bennett</td><td>30</td><td>2016-04-21T15:45:11.000+0000</td></tr><tr><td>9452</td><td>Aaron Alexander</td><td>21</td><td>2015-10-25T07:36:08.000+0000</td></tr><tr><td>4510</td><td>Cristina Delgado</td><td>55</td><td>2016-05-20T04:05:38.000+0000</td></tr><tr><td>2989</td><td>Adam Boyd</td><td>25</td><td>2017-08-12T08:23:43.000+0000</td></tr><tr><td>1282</td><td>Elizabeth Mccormick</td><td>23</td><td>2016-10-01T06:22:38.000+0000</td></tr><tr><td>6112</td><td>Christian Cruz</td><td>26</td><td>2015-11-03T06:28:57.000+0000</td></tr><tr><td>7361</td><td>Michael Harris</td><td>34</td><td>2016-09-01T08:17:57.000+0000</td></tr><tr><td>2484</td><td>Amanda Adams</td><td>20</td><td>2015-10-21T08:27:36.000+0000</td></tr><tr><td>10290</td><td>Brenda Baker</td><td>22</td><td>2015-11-24T12:08:06.000+0000</td></tr><tr><td>5102</td><td>Adam Cole</td><td>23</td><td>2015-11-15T23:49:12.000+0000</td></tr><tr><td>1105</td><td>Jennifer Barker</td><td>30</td><td>2016-07-07T04:55:31.000+0000</td></tr><tr><td>4191</td><td>Dana Mckinney</td><td>25</td><td>2015-10-25T14:27:30.000+0000</td></tr><tr><td>8421</td><td>Brenda Medina</td><td>23</td><td>2016-03-10T16:00:38.000+0000</td></tr><tr><td>6510</td><td>Christopher Robinson</td><td>55</td><td>2016-11-07T18:56:07.000+0000</td></tr><tr><td>2222</td><td>Kevin Richards</td><td>47</td><td>2016-07-25T20:56:37.000+0000</td></tr><tr><td>8086</td><td>David Davis</td><td>38</td><td>2016-11-20T06:55:49.000+0000</td></tr><tr><td>2329</td><td>Christopher Lopez</td><td>23</td><td>2016-03-20T14:04:27.000+0000</td></tr><tr><td>10020</td><td>Christopher Hawkins</td><td>45</td><td>2016-09-15T06:02:53.000+0000</td></tr><tr><td>7560</td><td>Theresa Dixon</td><td>47</td><td>2015-12-18T14:49:13.000+0000</td></tr><tr><td>5126</td><td>Bradley Long</td><td>25</td><td>2016-02-18T20:48:04.000+0000</td></tr><tr><td>867</td><td>Herbert Sawyer</td><td>45</td><td>2016-07-27T15:08:03.000+0000</td></tr><tr><td>10868</td><td>Benjamin Keith</td><td>24</td><td>2017-02-25T21:08:31.000+0000</td></tr><tr><td>816</td><td>Adam Acosta</td><td>20</td><td>2015-10-21T21:26:45.000+0000</td></tr><tr><td>2535</td><td>Aaron Doyle</td><td>26</td><td>2016-04-16T17:51:53.000+0000</td></tr><tr><td>7833</td><td>Aaron Abbott</td><td>20</td><td>2015-10-23T16:08:41.000+0000</td></tr><tr><td>10971</td><td>Jane Aguilar</td><td>32</td><td>2016-03-02T01:25:48.000+0000</td></tr><tr><td>346</td><td>Aaron Abbott</td><td>20</td><td>2015-10-31T18:51:07.000+0000</td></tr><tr><td>3591</td><td>Cindy Barnes</td><td>21</td><td>2016-03-15T01:30:25.000+0000</td></tr><tr><td>43</td><td>Adam Acosta</td><td>20</td><td>2015-10-21T21:26:45.000+0000</td></tr><tr><td>10461</td><td>Kristin Park</td><td>20</td><td>2016-07-11T04:08:56.000+0000</td></tr><tr><td>7647</td><td>Aaron Abbott</td><td>20</td><td>2015-10-23T16:08:41.000+0000</td></tr><tr><td>10472</td><td>Kevin Barr</td><td>39</td><td>2016-08-02T05:35:37.000+0000</td></tr><tr><td>7058</td><td>Maurice Sanders</td><td>25</td><td>2016-10-04T14:30:49.000+0000</td></tr><tr><td>3322</td><td>Scott Levine</td><td>33</td><td>2016-12-24T10:27:39.000+0000</td></tr><tr><td>5700</td><td>Barbara Edwards</td><td>24</td><td>2016-01-09T19:37:29.000+0000</td></tr><tr><td>1040</td><td>Aaron Abbott</td><td>20</td><td>2015-10-31T18:51:07.000+0000</td></tr><tr><td>2994</td><td>Alexandra Fuentes</td><td>29</td><td>2016-01-03T02:33:53.000+0000</td></tr><tr><td>7469</td><td>Debra Becker</td><td>20</td><td>2016-07-27T06:20:48.000+0000</td></tr><tr><td>3240</td><td>April Brown</td><td>20</td><td>2016-04-10T02:39:57.000+0000</td></tr><tr><td>10671</td><td>Kristina Dawson</td><td>59</td><td>2017-08-19T13:07:48.000+0000</td></tr><tr><td>8732</td><td>Annette Barber</td><td>43</td><td>2017-09-16T15:37:45.000+0000</td></tr><tr><td>9496</td><td>Maxwell James</td><td>52</td><td>2016-07-12T11:24:37.000+0000</td></tr><tr><td>3232</td><td>Aaron Bartlett</td><td>21</td><td>2015-11-24T02:15:36.000+0000</td></tr><tr><td>7029</td><td>Angela Allen</td><td>20</td><td>2015-10-26T04:12:32.000+0000</td></tr><tr><td>4520</td><td>Sarah Greene</td><td>28</td><td>2016-11-15T20:52:41.000+0000</td></tr><tr><td>6569</td><td>Cynthia Adams</td><td>20</td><td>2016-01-28T01:03:35.000+0000</td></tr><tr><td>8394</td><td>Amanda Brown</td><td>32</td><td>2015-11-05T03:01:49.000+0000</td></tr><tr><td>4643</td><td>Andrew Bartlett</td><td>26</td><td>2015-11-04T03:26:35.000+0000</td></tr><tr><td>4288</td><td>Kyle Floyd</td><td>20</td><td>2016-07-29T04:25:14.000+0000</td></tr></tbody></table>Showing the first 1000 rows.</div>"
      ]
     },
     "metadata": {
      "application/vnd.databricks.v1+output": {
       "addedWidgets": {},
       "aggData": [],
       "aggError": "",
       "aggOverflow": false,
       "aggSchema": [],
       "aggSeriesLimitReached": false,
       "aggType": "",
       "arguments": {},
       "columnCustomDisplayInfos": {},
       "data": [
        [
         3185,
         "Alexandra Fuentes",
         29,
         "2016-01-03T02:33:53.000+0000"
        ],
        [
         9812,
         "Janet Andrews",
         28,
         "2016-06-11T14:48:17.000+0000"
        ],
        [
         5360,
         "Anna Cross",
         38,
         "2015-11-21T18:19:10.000+0000"
        ],
        [
         9536,
         "Bruce Lyons",
         20,
         "2016-07-09T23:03:37.000+0000"
        ],
        [
         9966,
         "Abigail Ali",
         20,
         "2015-10-24T11:23:51.000+0000"
        ],
        [
         10114,
         "Benjamin Brady",
         21,
         "2016-05-11T06:22:07.000+0000"
        ],
        [
         10909,
         "Margaret Hancock",
         33,
         "2016-08-04T13:07:57.000+0000"
        ],
        [
         4662,
         "Dominique Ford",
         42,
         "2016-01-04T17:04:43.000+0000"
        ],
        [
         7857,
         "Benjamin Adams",
         24,
         "2015-10-25T03:23:53.000+0000"
        ],
        [
         7296,
         "Christopher Mckee",
         38,
         "2016-11-22T23:41:41.000+0000"
        ],
        [
         4823,
         "Diana White",
         20,
         "2016-08-22T07:52:49.000+0000"
        ],
        [
         8073,
         "Aaron Alexander",
         21,
         "2015-10-25T07:36:08.000+0000"
        ],
        [
         1751,
         "John Jackson",
         60,
         "2016-10-20T10:51:09.000+0000"
        ],
        [
         7121,
         "Christopher Mckee",
         38,
         "2016-11-22T23:41:41.000+0000"
        ],
        [
         8625,
         "Andrea Alexander",
         21,
         "2015-11-10T09:27:42.000+0000"
        ],
        [
         2227,
         "Amy Adams",
         20,
         "2015-10-24T05:05:28.000+0000"
        ],
        [
         8271,
         "Angela Mclaughlin",
         44,
         "2016-08-03T19:25:22.000+0000"
        ],
        [
         9379,
         "Amy Adams",
         20,
         "2015-10-24T05:05:28.000+0000"
        ],
        [
         10625,
         "Christian Lang",
         32,
         "2017-10-10T20:09:33.000+0000"
        ],
        [
         7268,
         "Alejandra Acevedo",
         20,
         "2015-11-24T21:01:23.000+0000"
        ],
        [
         409,
         "Alfred Chen",
         24,
         "2016-07-01T16:11:59.000+0000"
        ],
        [
         5198,
         "James Sharp",
         23,
         "2016-10-21T08:22:24.000+0000"
        ],
        [
         2337,
         "Alex Bean",
         24,
         "2016-01-11T23:08:27.000+0000"
        ],
        [
         8385,
         "Austin Miller",
         31,
         "2015-11-25T21:28:12.000+0000"
        ],
        [
         8462,
         "Aaron Abbott",
         20,
         "2015-10-23T16:08:41.000+0000"
        ],
        [
         10275,
         "Leslie Rodriguez",
         26,
         "2016-04-13T19:11:21.000+0000"
        ],
        [
         8693,
         "Aaron Abbott",
         20,
         "2015-10-23T16:08:41.000+0000"
        ],
        [
         2881,
         "Courtney Joyce",
         21,
         "2015-12-26T17:07:27.000+0000"
        ],
        [
         5129,
         "Adam Cole",
         23,
         "2015-11-15T23:49:12.000+0000"
        ],
        [
         7232,
         "Don Johnson",
         30,
         "2017-08-23T23:49:00.000+0000"
        ],
        [
         846,
         "Andres Cortez",
         26,
         "2015-11-20T21:50:39.000+0000"
        ],
        [
         10957,
         "Kevin Fleming",
         39,
         "2017-09-02T08:11:03.000+0000"
        ],
        [
         7030,
         "Alejandra Acevedo",
         20,
         "2015-11-24T21:01:23.000+0000"
        ],
        [
         3958,
         "Christina Berg",
         40,
         "2015-10-22T06:35:25.000+0000"
        ],
        [
         8297,
         "Andrew Brown",
         25,
         "2016-03-26T04:30:23.000+0000"
        ],
        [
         840,
         "Aaron Bartlett",
         21,
         "2015-11-24T02:15:36.000+0000"
        ],
        [
         7652,
         "Erin Newton",
         39,
         "2015-10-24T03:55:03.000+0000"
        ],
        [
         6961,
         "Michael Harris",
         34,
         "2016-09-01T08:17:57.000+0000"
        ],
        [
         10240,
         "Jonathan Smith",
         26,
         "2017-08-04T17:41:32.000+0000"
        ],
        [
         4683,
         "Elijah Boyer",
         37,
         "2016-11-10T17:10:13.000+0000"
        ],
        [
         913,
         "Daniel Baldwin",
         23,
         "2016-01-11T05:33:09.000+0000"
        ],
        [
         1693,
         "Andrew Gray",
         29,
         "2016-08-19T05:18:37.000+0000"
        ],
        [
         3,
         "Amanda Alvarez",
         21,
         "2015-10-30T01:31:09.000+0000"
        ],
        [
         4654,
         "Nathan Howard",
         37,
         "2016-03-06T21:35:04.000+0000"
        ],
        [
         1631,
         "Lauren Powell",
         30,
         "2016-05-22T08:40:37.000+0000"
        ],
        [
         10429,
         "Brandon Henderson",
         24,
         "2016-01-12T17:59:43.000+0000"
        ],
        [
         7285,
         "Alejandra Acevedo",
         20,
         "2015-11-24T21:01:23.000+0000"
        ],
        [
         3175,
         "David Bell",
         20,
         "2016-04-15T17:11:11.000+0000"
        ],
        [
         8309,
         "Vickie Acevedo",
         43,
         "2017-04-09T08:19:09.000+0000"
        ],
        [
         7619,
         "Andrew Alexander",
         20,
         "2015-11-20T09:08:00.000+0000"
        ],
        [
         3162,
         "Kristen Garza",
         45,
         "2016-11-24T02:41:52.000+0000"
        ],
        [
         5845,
         "Ann Acevedo",
         22,
         "2016-01-26T15:27:05.000+0000"
        ],
        [
         3866,
         "Jonathan Burch",
         22,
         "2016-12-04T23:35:58.000+0000"
        ],
        [
         8577,
         "Dale Bates",
         25,
         "2015-12-15T18:10:44.000+0000"
        ],
        [
         3655,
         "Colleen Pacheco",
         31,
         "2017-08-07T22:57:05.000+0000"
        ],
        [
         5645,
         "David Craig",
         30,
         "2016-01-30T06:09:57.000+0000"
        ],
        [
         4035,
         "Antonio Davis",
         21,
         "2015-12-05T06:09:18.000+0000"
        ],
        [
         3364,
         "Courtney Berg",
         20,
         "2015-11-30T10:24:37.000+0000"
        ],
        [
         7181,
         "Cindy Thomas",
         34,
         "2017-02-27T03:50:05.000+0000"
        ],
        [
         6970,
         "Joan Brewer",
         51,
         "2016-10-15T10:00:11.000+0000"
        ],
        [
         9400,
         "Alexander Bailey",
         20,
         "2015-10-30T11:37:32.000+0000"
        ],
        [
         4174,
         "Antonio Davis",
         21,
         "2015-12-05T06:09:18.000+0000"
        ],
        [
         1659,
         "Alexandra Brown",
         21,
         "2015-11-05T07:52:21.000+0000"
        ],
        [
         6623,
         "Heather Weber",
         28,
         "2016-10-06T14:42:21.000+0000"
        ],
        [
         10650,
         "Amanda Hughes",
         20,
         "2017-07-14T03:42:17.000+0000"
        ],
        [
         6852,
         "Abigail Ali",
         20,
         "2015-10-24T11:23:51.000+0000"
        ],
        [
         6477,
         "Caleb Carpenter",
         29,
         "2016-05-09T12:14:11.000+0000"
        ],
        [
         2762,
         "Arthur Gross",
         30,
         "2017-05-24T14:30:51.000+0000"
        ],
        [
         6940,
         "Alison Chan",
         27,
         "2016-03-26T10:36:04.000+0000"
        ],
        [
         10120,
         "Jacob Baird",
         24,
         "2016-02-25T08:52:45.000+0000"
        ],
        [
         8100,
         "Aaron Abbott",
         20,
         "2015-10-23T16:08:41.000+0000"
        ],
        [
         365,
         "Kevin Torres",
         51,
         "2016-08-07T18:45:21.000+0000"
        ],
        [
         3710,
         "Nicole Johnson",
         44,
         "2016-02-08T18:55:39.000+0000"
        ],
        [
         4936,
         "Andrew Miller",
         28,
         "2016-03-12T02:52:38.000+0000"
        ],
        [
         204,
         "Meghan Larson",
         56,
         "2017-04-17T06:27:04.000+0000"
        ],
        [
         1379,
         "Aaron Abbott",
         20,
         "2015-10-31T18:51:07.000+0000"
        ],
        [
         8946,
         "Patty Chang",
         42,
         "2016-07-17T16:11:13.000+0000"
        ],
        [
         63,
         "Adam Acosta",
         20,
         "2015-10-21T21:26:45.000+0000"
        ],
        [
         5452,
         "Deborah Cooper",
         20,
         "2015-11-16T21:00:24.000+0000"
        ],
        [
         6088,
         "Paul Martinez",
         33,
         "2016-09-13T09:18:43.000+0000"
        ],
        [
         2629,
         "Sarah Lam",
         28,
         "2015-12-26T23:55:44.000+0000"
        ],
        [
         9605,
         "Preston Friedman",
         50,
         "2016-11-29T00:46:08.000+0000"
        ],
        [
         6013,
         "Carol Alexander",
         25,
         "2016-03-17T05:33:57.000+0000"
        ],
        [
         6869,
         "Alvin Adams",
         20,
         "2016-01-01T13:50:40.000+0000"
        ],
        [
         9763,
         "Amanda Allen",
         22,
         "2015-10-24T18:56:30.000+0000"
        ],
        [
         1008,
         "Christopher Craig",
         20,
         "2016-06-24T23:55:34.000+0000"
        ],
        [
         2949,
         "Angela Andrews",
         20,
         "2015-10-28T21:44:56.000+0000"
        ],
        [
         3090,
         "Joyce Gordon",
         39,
         "2017-08-02T19:06:11.000+0000"
        ],
        [
         7320,
         "Elizabeth Peterson",
         45,
         "2016-11-28T03:36:34.000+0000"
        ],
        [
         874,
         "Edward Mcmahon",
         47,
         "2016-08-24T18:35:44.000+0000"
        ],
        [
         2034,
         "Anthony Bryan",
         22,
         "2015-10-24T15:35:59.000+0000"
        ],
        [
         3173,
         "Patricia Howell",
         38,
         "2017-09-22T16:09:32.000+0000"
        ],
        [
         6011,
         "Emily Bailey",
         21,
         "2016-02-24T19:06:46.000+0000"
        ],
        [
         5989,
         "April Drake",
         21,
         "2016-05-28T04:49:09.000+0000"
        ],
        [
         2385,
         "Ashley Evans",
         30,
         "2016-02-21T12:54:01.000+0000"
        ],
        [
         1852,
         "Amanda Adams",
         20,
         "2015-10-21T08:27:36.000+0000"
        ],
        [
         7992,
         "Christopher Morales",
         29,
         "2016-02-21T11:56:39.000+0000"
        ],
        [
         1814,
         "Brian Hansen",
         31,
         "2016-01-30T13:25:52.000+0000"
        ],
        [
         9749,
         "Arthur Riggs",
         46,
         "2016-05-01T10:44:18.000+0000"
        ],
        [
         93,
         "Angela Bates",
         23,
         "2015-10-30T15:08:57.000+0000"
        ],
        [
         3357,
         "Shane Huang",
         60,
         "2017-08-05T09:41:18.000+0000"
        ],
        [
         10400,
         "Amanda Carlson",
         21,
         "2015-11-23T09:01:37.000+0000"
        ],
        [
         10007,
         "Earl Rogers",
         23,
         "2016-04-06T15:05:28.000+0000"
        ],
        [
         8411,
         "Allen Adams",
         32,
         "2016-12-01T23:59:15.000+0000"
        ],
        [
         7307,
         "Anne Ellis",
         21,
         "2017-01-18T09:42:29.000+0000"
        ],
        [
         7876,
         "Aaron Abbott",
         20,
         "2015-10-23T16:08:41.000+0000"
        ],
        [
         10465,
         "Barbara Johnson",
         45,
         "2016-06-30T04:44:57.000+0000"
        ],
        [
         1810,
         "Nancy Dyer",
         48,
         "2017-04-14T23:42:05.000+0000"
        ],
        [
         3585,
         "Chelsea Barajas",
         41,
         "2016-09-20T23:11:15.000+0000"
        ],
        [
         4966,
         "Amy Brown",
         21,
         "2015-11-08T16:14:16.000+0000"
        ],
        [
         3092,
         "Shelby Perez",
         47,
         "2016-08-21T10:38:34.000+0000"
        ],
        [
         8353,
         "Andrew Melendez",
         56,
         "2016-11-15T04:12:38.000+0000"
        ],
        [
         26,
         "Kenneth Hanson",
         33,
         "2015-11-09T02:54:30.000+0000"
        ],
        [
         9371,
         "Abigail Bates",
         20,
         "2015-11-07T20:59:32.000+0000"
        ],
        [
         6080,
         "Maria Davidson",
         28,
         "2016-04-22T05:55:48.000+0000"
        ],
        [
         5037,
         "Adam Walker",
         42,
         "2017-10-16T09:17:24.000+0000"
        ],
        [
         8690,
         "April Bush",
         27,
         "2016-06-19T03:39:06.000+0000"
        ],
        [
         6496,
         "Cindy Bennett",
         26,
         "2016-01-03T06:10:45.000+0000"
        ],
        [
         6181,
         "Albert Allison",
         20,
         "2015-10-21T22:27:27.000+0000"
        ],
        [
         1707,
         "Albert Jackson",
         23,
         "2016-04-13T18:06:15.000+0000"
        ],
        [
         9123,
         "Margaret Torres",
         21,
         "2017-05-24T03:44:43.000+0000"
        ],
        [
         8699,
         "Brandi Martin",
         25,
         "2017-08-24T13:05:36.000+0000"
        ],
        [
         2633,
         "Abigail Burch",
         29,
         "2016-03-17T11:34:05.000+0000"
        ],
        [
         229,
         "Sandra Bell",
         26,
         "2016-02-28T09:10:31.000+0000"
        ],
        [
         4858,
         "Mary Moon",
         51,
         "2016-11-24T18:54:48.000+0000"
        ],
        [
         4337,
         "Alexis Bell",
         20,
         "2015-11-23T06:34:47.000+0000"
        ],
        [
         1847,
         "Nathan Black",
         29,
         "2017-08-03T20:32:24.000+0000"
        ],
        [
         9866,
         "Monica Banks",
         33,
         "2015-12-07T17:43:45.000+0000"
        ],
        [
         10017,
         "Alexandra Austin",
         22,
         "2015-11-06T05:05:43.000+0000"
        ],
        [
         4692,
         "Amanda Bowers",
         22,
         "2016-01-18T20:23:23.000+0000"
        ],
        [
         1627,
         "Gregory Andersen",
         40,
         "2016-01-12T17:37:38.000+0000"
        ],
        [
         6275,
         "Barbara Barton",
         22,
         "2015-11-14T13:31:13.000+0000"
        ],
        [
         8952,
         "Amy Brown",
         21,
         "2015-11-08T16:14:16.000+0000"
        ],
        [
         3646,
         "Charles Curtis",
         36,
         "2017-05-30T06:31:02.000+0000"
        ],
        [
         4672,
         "Andre Bartlett",
         20,
         "2015-10-30T20:41:47.000+0000"
        ],
        [
         5218,
         "Bonnie Evans",
         47,
         "2016-04-09T02:56:39.000+0000"
        ],
        [
         7066,
         "Walter Moody",
         31,
         "2015-12-16T23:25:39.000+0000"
        ],
        [
         264,
         "Pamela Parsons",
         34,
         "2017-08-17T13:49:46.000+0000"
        ],
        [
         722,
         "Beth Armstrong",
         22,
         "2017-03-23T03:41:14.000+0000"
        ],
        [
         10422,
         "Kathleen Archer",
         55,
         "2016-04-13T05:22:18.000+0000"
        ],
        [
         5938,
         "Joshua Levine",
         39,
         "2016-04-26T18:03:40.000+0000"
        ],
        [
         2785,
         "Andrew Butler",
         27,
         "2015-11-04T03:13:03.000+0000"
        ],
        [
         719,
         "Alicia Avila",
         20,
         "2016-01-26T01:49:23.000+0000"
        ],
        [
         9778,
         "Holly Campbell",
         30,
         "2016-07-08T19:10:37.000+0000"
        ],
        [
         8745,
         "Grant Villanueva",
         53,
         "2016-02-14T19:17:10.000+0000"
        ],
        [
         2403,
         "Erin Lawson",
         59,
         "2017-06-29T10:23:41.000+0000"
        ],
        [
         2508,
         "Aaron Johnson",
         59,
         "2016-07-02T04:35:40.000+0000"
        ],
        [
         8836,
         "Dalton Daniels",
         21,
         "2015-11-11T10:19:51.000+0000"
        ],
        [
         10157,
         "Sheila Jones",
         39,
         "2015-12-02T16:17:12.000+0000"
        ],
        [
         3235,
         "Brian Dalton",
         39,
         "2016-07-09T06:15:21.000+0000"
        ],
        [
         9784,
         "Annette Andrews",
         28,
         "2015-12-20T22:09:10.000+0000"
        ],
        [
         6860,
         "Angela Allen",
         20,
         "2015-10-26T04:12:32.000+0000"
        ],
        [
         5858,
         "Caitlin Bailey",
         28,
         "2015-10-24T04:11:28.000+0000"
        ],
        [
         8476,
         "Andrew Arnold",
         21,
         "2015-12-02T08:29:10.000+0000"
        ],
        [
         574,
         "Kenneth Hanson",
         33,
         "2015-11-09T02:54:30.000+0000"
        ],
        [
         4359,
         "Jason Barnes",
         27,
         "2017-07-10T21:06:14.000+0000"
        ],
        [
         1083,
         "Heather Pope",
         49,
         "2016-01-07T21:35:55.000+0000"
        ],
        [
         5853,
         "Anthony Durham",
         21,
         "2015-11-06T20:03:21.000+0000"
        ],
        [
         8994,
         "Andrea Alexander",
         21,
         "2015-11-10T09:27:42.000+0000"
        ],
        [
         6440,
         "Adrian Allen",
         21,
         "2015-10-21T22:43:58.000+0000"
        ],
        [
         785,
         "Nicole Flores",
         27,
         "2016-06-10T03:57:23.000+0000"
        ],
        [
         1669,
         "Amanda Cooper",
         22,
         "2016-01-19T16:56:23.000+0000"
        ],
        [
         6472,
         "Nancy Frye",
         57,
         "2015-10-23T16:17:03.000+0000"
        ],
        [
         2509,
         "Antonio Fletcher",
         23,
         "2016-01-25T21:17:27.000+0000"
        ],
        [
         10780,
         "Thomas Schroeder",
         38,
         "2016-10-08T10:17:32.000+0000"
        ],
        [
         9354,
         "Aaron Alexander",
         21,
         "2015-10-25T07:36:08.000+0000"
        ],
        [
         10552,
         "Michael Hunter",
         40,
         "2017-05-16T07:09:21.000+0000"
        ],
        [
         7733,
         "Aaron Abbott",
         20,
         "2015-10-23T16:08:41.000+0000"
        ],
        [
         232,
         "Sarah Buchanan",
         33,
         "2017-04-19T08:49:40.000+0000"
        ],
        [
         9426,
         "Nicholas Mcdaniel",
         45,
         "2017-05-24T01:41:26.000+0000"
        ],
        [
         3360,
         "Amber Casey",
         23,
         "2016-01-06T12:22:08.000+0000"
        ],
        [
         3436,
         "Charles Johnson",
         25,
         "2015-12-07T02:19:50.000+0000"
        ],
        [
         6488,
         "Alec Bell",
         22,
         "2016-01-09T15:37:07.000+0000"
        ],
        [
         1078,
         "Amanda Guzman",
         26,
         "2016-01-19T18:41:59.000+0000"
        ],
        [
         1507,
         "Blake Carpenter",
         52,
         "2017-01-19T02:25:18.000+0000"
        ],
        [
         4098,
         "Brian Gonzalez",
         58,
         "2017-02-06T04:49:42.000+0000"
        ],
        [
         4557,
         "Amber Blevins",
         20,
         "2015-12-13T16:33:13.000+0000"
        ],
        [
         2734,
         "Andrew Burke",
         20,
         "2015-11-14T17:38:31.000+0000"
        ],
        [
         4451,
         "Christina Anderson",
         50,
         "2016-07-05T12:13:41.000+0000"
        ],
        [
         2849,
         "Patricia Browning",
         26,
         "2016-05-20T12:11:38.000+0000"
        ],
        [
         6977,
         "Brenda Gonzalez",
         56,
         "2015-12-07T11:53:35.000+0000"
        ],
        [
         8649,
         "Albert Allison",
         20,
         "2015-10-21T22:27:27.000+0000"
        ],
        [
         9103,
         "Michael Carlson",
         24,
         "2015-11-26T09:53:01.000+0000"
        ],
        [
         10233,
         "John Bailey",
         45,
         "2016-04-20T00:06:30.000+0000"
        ],
        [
         5880,
         "Andrea Blankenship",
         27,
         "2016-04-11T21:27:52.000+0000"
        ],
        [
         2995,
         "Michelle Macias",
         32,
         "2015-11-07T19:56:37.000+0000"
        ],
        [
         7001,
         "April Blake",
         21,
         "2015-10-28T03:16:59.000+0000"
        ],
        [
         9534,
         "Jason Jones",
         22,
         "2016-03-13T09:35:08.000+0000"
        ],
        [
         2824,
         "Amy Atkins",
         21,
         "2015-10-31T07:37:40.000+0000"
        ],
        [
         9150,
         "Richard Martinez",
         32,
         "2016-01-14T21:56:11.000+0000"
        ],
        [
         6817,
         "Daniel Hopkins",
         28,
         "2017-04-25T04:52:52.000+0000"
        ],
        [
         7095,
         "Adam Carroll",
         25,
         "2015-11-28T22:42:31.000+0000"
        ],
        [
         2060,
         "Joshua Long",
         27,
         "2016-12-18T10:11:23.000+0000"
        ],
        [
         2301,
         "Karina Morton",
         31,
         "2016-01-21T12:53:34.000+0000"
        ],
        [
         6814,
         "April Blake",
         21,
         "2015-10-28T03:16:59.000+0000"
        ],
        [
         9402,
         "Andrew Anderson",
         23,
         "2015-11-28T11:52:37.000+0000"
        ],
        [
         4420,
         "Abigail Barry",
         21,
         "2015-12-03T10:40:24.000+0000"
        ],
        [
         1951,
         "Bryan Williams",
         42,
         "2016-10-07T06:05:52.000+0000"
        ],
        [
         6245,
         "Alec Bell",
         22,
         "2016-01-09T15:37:07.000+0000"
        ],
        [
         6287,
         "Jessica Holder",
         24,
         "2017-03-17T01:09:47.000+0000"
        ],
        [
         8012,
         "Lori Johnson",
         28,
         "2016-02-20T22:06:43.000+0000"
        ],
        [
         9171,
         "Gary Collins",
         25,
         "2016-07-07T18:59:52.000+0000"
        ],
        [
         5991,
         "Donald Adams",
         30,
         "2016-02-13T23:50:05.000+0000"
        ],
        [
         8284,
         "Steve Romero",
         34,
         "2016-09-12T11:18:17.000+0000"
        ],
        [
         6896,
         "Aaron Anderson",
         21,
         "2015-10-23T03:43:54.000+0000"
        ],
        [
         9949,
         "Daniel Brooks",
         25,
         "2015-11-19T21:24:33.000+0000"
        ],
        [
         9639,
         "Steven Barr",
         52,
         "2017-07-04T23:31:09.000+0000"
        ],
        [
         1665,
         "Bryan Noble",
         30,
         "2016-06-04T17:09:58.000+0000"
        ],
        [
         7358,
         "Jon Haynes",
         27,
         "2016-02-17T05:07:06.000+0000"
        ],
        [
         8155,
         "Christopher Ramirez",
         54,
         "2017-01-22T13:12:03.000+0000"
        ],
        [
         2684,
         "Andrew Baker",
         22,
         "2015-12-21T08:06:54.000+0000"
        ],
        [
         9217,
         "Albert Adams",
         21,
         "2015-11-05T22:07:56.000+0000"
        ],
        [
         4431,
         "Allison Adams",
         22,
         "2015-11-30T10:51:59.000+0000"
        ],
        [
         7789,
         "Aaron Abbott",
         20,
         "2015-10-23T16:08:41.000+0000"
        ],
        [
         4394,
         "James Brooks",
         50,
         "2016-02-23T15:25:00.000+0000"
        ],
        [
         4289,
         "Samantha Ortega",
         31,
         "2016-03-12T00:41:28.000+0000"
        ],
        [
         6561,
         "Julie Mills",
         58,
         "2016-07-28T19:57:15.000+0000"
        ],
        [
         5902,
         "Carla Bennett",
         49,
         "2016-03-21T13:43:10.000+0000"
        ],
        [
         7448,
         "Brenda Gonzalez",
         56,
         "2015-12-07T11:53:35.000+0000"
        ],
        [
         7271,
         "Ashley Castro",
         38,
         "2017-06-25T02:03:31.000+0000"
        ],
        [
         4489,
         "Tracie Thompson",
         34,
         "2017-08-21T02:27:26.000+0000"
        ],
        [
         7183,
         "Amanda Maldonado",
         38,
         "2016-11-17T23:45:04.000+0000"
        ],
        [
         7050,
         "Corey Anderson",
         28,
         "2015-12-05T21:26:20.000+0000"
        ],
        [
         8212,
         "Benjamin Adams",
         24,
         "2015-10-25T03:23:53.000+0000"
        ],
        [
         10366,
         "Clayton George",
         29,
         "2016-09-04T21:30:48.000+0000"
        ],
        [
         1000,
         "Angela Berg",
         20,
         "2015-11-10T05:57:33.000+0000"
        ],
        [
         8864,
         "Andrew Anderson",
         23,
         "2015-11-28T11:52:37.000+0000"
        ],
        [
         1035,
         "Jonathan Avila",
         46,
         "2015-11-27T23:11:21.000+0000"
        ],
        [
         3059,
         "Angela Andrews",
         20,
         "2015-10-28T21:44:56.000+0000"
        ],
        [
         7613,
         "Aaron Abbott",
         20,
         "2015-10-23T16:08:41.000+0000"
        ],
        [
         8845,
         "Angela Berg",
         20,
         "2015-11-10T05:57:33.000+0000"
        ],
        [
         3127,
         "Andrew Hampton",
         21,
         "2016-01-11T22:18:24.000+0000"
        ],
        [
         1359,
         "Nicholas Torres",
         53,
         "2016-01-26T15:21:06.000+0000"
        ],
        [
         8596,
         "Abigail Bates",
         20,
         "2015-11-07T20:59:32.000+0000"
        ],
        [
         4783,
         "Ariel Barrett",
         35,
         "2015-12-03T12:48:15.000+0000"
        ],
        [
         9319,
         "Albert Adams",
         21,
         "2015-11-05T22:07:56.000+0000"
        ],
        [
         5378,
         "Amanda Horton",
         27,
         "2016-04-22T19:28:17.000+0000"
        ],
        [
         5670,
         "Anthony Durham",
         21,
         "2015-11-06T20:03:21.000+0000"
        ],
        [
         3919,
         "Derrick Perez",
         26,
         "2016-07-08T09:33:24.000+0000"
        ],
        [
         6052,
         "Bobby Fox",
         21,
         "2016-02-05T14:33:08.000+0000"
        ],
        [
         1908,
         "Andrew Buck",
         23,
         "2016-01-06T23:14:16.000+0000"
        ],
        [
         4792,
         "Andrew Bartlett",
         26,
         "2015-11-04T03:26:35.000+0000"
        ],
        [
         6063,
         "Corey Andrews",
         23,
         "2015-11-25T13:36:22.000+0000"
        ],
        [
         4508,
         "Michael Carter",
         58,
         "2016-06-03T23:35:30.000+0000"
        ],
        [
         9074,
         "Aaron Alexander",
         21,
         "2015-10-25T07:36:08.000+0000"
        ],
        [
         2498,
         "Jeremy Chase",
         50,
         "2017-07-31T16:56:52.000+0000"
        ],
        [
         6250,
         "Lydia Nelson",
         59,
         "2016-09-06T06:21:57.000+0000"
        ],
        [
         6806,
         "Christopher Daniel",
         25,
         "2016-04-15T17:06:49.000+0000"
        ],
        [
         372,
         "Alicia Avila",
         20,
         "2016-01-26T01:49:23.000+0000"
        ],
        [
         3766,
         "Abigail Allen",
         20,
         "2015-11-12T14:40:14.000+0000"
        ],
        [
         4801,
         "Brad Guerrero",
         23,
         "2017-08-27T08:03:36.000+0000"
        ],
        [
         10379,
         "David Leach",
         36,
         "2017-01-01T06:02:17.000+0000"
        ],
        [
         1091,
         "Brenda Holden",
         47,
         "2016-02-29T23:24:56.000+0000"
        ],
        [
         1619,
         "Kenneth Lopez",
         26,
         "2016-07-12T01:16:22.000+0000"
        ],
        [
         10311,
         "Amy Jones",
         20,
         "2016-03-08T11:19:39.000+0000"
        ],
        [
         7550,
         "Alejandra Acevedo",
         20,
         "2015-11-24T21:01:23.000+0000"
        ],
        [
         2580,
         "Hannah Erickson",
         60,
         "2017-01-05T12:11:34.000+0000"
        ],
        [
         6676,
         "Emily Hawkins",
         30,
         "2015-12-25T20:24:37.000+0000"
        ],
        [
         10434,
         "Jacqueline Taylor",
         37,
         "2017-01-17T05:17:36.000+0000"
        ],
        [
         9144,
         "Amy Floyd",
         20,
         "2016-01-31T16:39:58.000+0000"
        ],
        [
         1270,
         "Kenneth Jackson",
         58,
         "2017-02-18T12:16:58.000+0000"
        ],
        [
         4270,
         "Jessica Dixon",
         35,
         "2017-02-11T05:51:47.000+0000"
        ],
        [
         1237,
         "April Brown",
         20,
         "2016-04-10T02:39:57.000+0000"
        ],
        [
         8377,
         "Aaron Abbott",
         20,
         "2015-10-23T16:08:41.000+0000"
        ],
        [
         3516,
         "Maria Reyes",
         42,
         "2016-03-07T23:13:14.000+0000"
        ],
        [
         4070,
         "Danielle Cook",
         22,
         "2016-05-18T00:47:21.000+0000"
        ],
        [
         4957,
         "Mary Barnes",
         50,
         "2017-09-24T20:27:10.000+0000"
        ],
        [
         6216,
         "Ashley Anderson",
         32,
         "2015-10-24T14:27:06.000+0000"
        ],
        [
         1706,
         "Amy Adams",
         20,
         "2015-10-24T05:05:28.000+0000"
        ],
        [
         10853,
         "Amanda Cox",
         37,
         "2015-12-29T23:56:30.000+0000"
        ],
        [
         3345,
         "Benjamin Turner",
         36,
         "2016-08-30T14:33:44.000+0000"
        ],
        [
         2297,
         "Debbie Mitchell",
         46,
         "2017-02-23T00:45:45.000+0000"
        ],
        [
         7487,
         "Adrian Marshall",
         35,
         "2017-05-29T13:35:25.000+0000"
        ],
        [
         1649,
         "Allison Acosta",
         20,
         "2015-10-24T01:15:02.000+0000"
        ],
        [
         10580,
         "Amanda Anderson",
         26,
         "2016-03-11T23:42:05.000+0000"
        ],
        [
         4369,
         "Noah Donaldson",
         34,
         "2016-08-06T19:04:40.000+0000"
        ],
        [
         1960,
         "Andrew Aguilar",
         24,
         "2015-11-17T03:24:36.000+0000"
        ],
        [
         266,
         "Aaron Anderson",
         21,
         "2015-10-24T05:35:27.000+0000"
        ],
        [
         6752,
         "John Johnson",
         49,
         "2017-01-28T22:03:24.000+0000"
        ],
        [
         49,
         "Brian Hansen",
         31,
         "2016-01-30T13:25:52.000+0000"
        ],
        [
         1984,
         "Annette Forbes",
         21,
         "2016-01-03T15:42:12.000+0000"
        ],
        [
         2743,
         "Kelly Kim",
         36,
         "2016-04-07T11:05:37.000+0000"
        ],
        [
         9730,
         "Mary Blair",
         25,
         "2016-03-14T18:03:10.000+0000"
        ],
        [
         7210,
         "Cameron Howard",
         22,
         "2017-01-27T20:38:37.000+0000"
        ],
        [
         8307,
         "Aaron Abbott",
         20,
         "2015-10-23T16:08:41.000+0000"
        ],
        [
         9273,
         "April Guerrero",
         26,
         "2016-08-06T10:43:57.000+0000"
        ],
        [
         6067,
         "Alyssa Schultz",
         48,
         "2016-04-04T03:59:51.000+0000"
        ],
        [
         6696,
         "Amy Brown",
         34,
         "2016-01-08T20:49:30.000+0000"
        ],
        [
         4012,
         "Ashley Brown",
         22,
         "2016-02-27T10:22:16.000+0000"
        ],
        [
         9751,
         "Alexandra Austin",
         22,
         "2015-11-06T05:05:43.000+0000"
        ],
        [
         4484,
         "Erin Nelson",
         42,
         "2017-03-31T22:02:30.000+0000"
        ],
        [
         1300,
         "Daniel Garcia",
         42,
         "2016-03-11T22:14:25.000+0000"
        ],
        [
         863,
         "Henry Avila",
         20,
         "2016-02-25T03:21:22.000+0000"
        ],
        [
         4791,
         "Angela Barker",
         32,
         "2016-01-28T12:48:27.000+0000"
        ],
        [
         2691,
         "Ariel Brown",
         26,
         "2015-11-24T23:04:52.000+0000"
        ],
        [
         9026,
         "Rebecca Miller",
         39,
         "2016-02-03T08:41:20.000+0000"
        ],
        [
         6942,
         "Thomas Smith",
         39,
         "2017-03-13T15:54:27.000+0000"
        ],
        [
         10386,
         "Abigail Ali",
         20,
         "2015-10-24T11:23:51.000+0000"
        ],
        [
         2658,
         "Connie Hall",
         25,
         "2015-12-04T18:38:34.000+0000"
        ],
        [
         2675,
         "Hunter Burgess",
         38,
         "2017-08-02T13:07:53.000+0000"
        ],
        [
         7343,
         "Anne Clayton",
         24,
         "2016-01-11T12:03:48.000+0000"
        ],
        [
         5309,
         "Daniel Roy",
         31,
         "2016-03-07T01:01:24.000+0000"
        ],
        [
         6645,
         "Amanda Herrera",
         38,
         "2016-05-01T21:17:08.000+0000"
        ],
        [
         3485,
         "Andrew Burke",
         20,
         "2015-11-14T17:38:31.000+0000"
        ],
        [
         10427,
         "Amanda Stevens",
         49,
         "2017-05-09T12:12:20.000+0000"
        ],
        [
         3120,
         "Christy Anderson",
         22,
         "2016-05-02T19:28:20.000+0000"
        ],
        [
         6392,
         "Kathy Campbell",
         21,
         "2016-01-24T14:59:33.000+0000"
        ],
        [
         5042,
         "Joseph Black",
         20,
         "2017-01-08T15:25:45.000+0000"
        ],
        [
         3466,
         "Christopher Green",
         34,
         "2016-09-17T04:22:25.000+0000"
        ],
        [
         2938,
         "Sarah Velez",
         56,
         "2017-08-08T03:07:29.000+0000"
        ],
        [
         8792,
         "Angela Berg",
         20,
         "2015-11-10T05:57:33.000+0000"
        ],
        [
         9625,
         "Kimberly Lindsey",
         28,
         "2016-04-18T12:44:41.000+0000"
        ],
        [
         9399,
         "Linda Burch",
         40,
         "2017-05-30T13:52:23.000+0000"
        ],
        [
         4727,
         "Heather Townsend",
         30,
         "2017-03-06T16:40:44.000+0000"
        ],
        [
         1233,
         "Aaron Abbott",
         20,
         "2015-10-31T18:51:07.000+0000"
        ],
        [
         1192,
         "Anthony Campbell",
         49,
         "2016-02-19T12:10:25.000+0000"
        ],
        [
         10646,
         "Aaron Bailey",
         20,
         "2015-11-02T04:40:42.000+0000"
        ],
        [
         5043,
         "Victoria Mata",
         29,
         "2016-03-07T20:06:27.000+0000"
        ],
        [
         1610,
         "Victoria Hansen",
         32,
         "2016-04-19T03:20:04.000+0000"
        ],
        [
         2418,
         "Amanda Adams",
         20,
         "2015-10-21T08:27:36.000+0000"
        ],
        [
         3259,
         "Allison Acosta",
         20,
         "2015-10-24T01:15:02.000+0000"
        ],
        [
         1469,
         "Angela Berg",
         20,
         "2015-11-10T05:57:33.000+0000"
        ],
        [
         4348,
         "Barbara Allen",
         26,
         "2015-10-30T21:57:35.000+0000"
        ],
        [
         7163,
         "Karen Randolph",
         57,
         "2016-11-23T01:28:54.000+0000"
        ],
        [
         7151,
         "Charles Brady",
         23,
         "2016-06-22T12:44:36.000+0000"
        ],
        [
         6879,
         "Anna Jones",
         37,
         "2016-10-09T14:37:17.000+0000"
        ],
        [
         10983,
         "William Walker",
         56,
         "2016-10-18T23:31:48.000+0000"
        ],
        [
         4639,
         "Angela Brown",
         20,
         "2015-11-04T16:13:38.000+0000"
        ],
        [
         8555,
         "Alexander Bailey",
         20,
         "2015-10-30T11:37:32.000+0000"
        ],
        [
         1691,
         "Duane Lopez",
         27,
         "2016-05-01T09:31:11.000+0000"
        ],
        [
         9463,
         "Kayla Hamilton",
         24,
         "2015-11-05T03:10:40.000+0000"
        ],
        [
         2921,
         "Stephanie White",
         47,
         "2016-02-26T13:34:29.000+0000"
        ],
        [
         2563,
         "Jesse Flores",
         40,
         "2016-08-19T19:39:43.000+0000"
        ],
        [
         2877,
         "Kenneth Vargas",
         56,
         "2017-02-18T14:00:52.000+0000"
        ],
        [
         1769,
         "Brianna Fisher",
         41,
         "2017-03-04T10:39:44.000+0000"
        ],
        [
         5473,
         "Anthony Durham",
         21,
         "2015-11-06T20:03:21.000+0000"
        ],
        [
         6243,
         "Justin Smith",
         57,
         "2016-11-30T12:07:25.000+0000"
        ],
        [
         4890,
         "Alicia Edwards",
         36,
         "2015-11-07T04:27:56.000+0000"
        ],
        [
         6859,
         "Nancy Jones",
         35,
         "2016-01-12T09:32:19.000+0000"
        ],
        [
         206,
         "Frank Bell",
         55,
         "2017-08-24T14:05:12.000+0000"
        ],
        [
         6126,
         "Christina Cuevas",
         33,
         "2016-10-03T13:28:46.000+0000"
        ],
        [
         5828,
         "Angela Brown",
         20,
         "2015-11-04T16:13:38.000+0000"
        ],
        [
         5108,
         "Anthony Soto",
         20,
         "2016-02-07T11:49:36.000+0000"
        ],
        [
         5248,
         "Alexandra Patel",
         21,
         "2016-10-11T03:36:41.000+0000"
        ],
        [
         3889,
         "Amanda Casey",
         33,
         "2016-12-19T03:26:26.000+0000"
        ],
        [
         9234,
         "Christina Aguilar",
         23,
         "2015-12-09T20:29:10.000+0000"
        ],
        [
         5217,
         "Joshua Collins",
         43,
         "2016-01-25T18:54:31.000+0000"
        ],
        [
         9863,
         "Kevin Johnson",
         37,
         "2015-11-09T16:54:26.000+0000"
        ],
        [
         8118,
         "Donna Barrett",
         26,
         "2016-07-09T18:58:30.000+0000"
        ],
        [
         3568,
         "Jessica Mason",
         35,
         "2017-04-23T00:37:07.000+0000"
        ],
        [
         693,
         "Anna Bird",
         25,
         "2015-10-21T18:29:08.000+0000"
        ],
        [
         9695,
         "Daniel Matthews",
         34,
         "2016-01-23T03:59:37.000+0000"
        ],
        [
         2573,
         "Brooke Cline",
         22,
         "2015-11-21T21:58:14.000+0000"
        ],
        [
         8673,
         "Gregory Carpenter",
         23,
         "2016-07-14T11:45:49.000+0000"
        ],
        [
         4175,
         "Aaron Brown",
         20,
         "2015-10-28T10:38:07.000+0000"
        ],
        [
         4613,
         "Christopher Butler",
         20,
         "2015-12-01T15:08:31.000+0000"
        ],
        [
         8253,
         "Aaron Anderson",
         21,
         "2015-10-24T05:35:27.000+0000"
        ],
        [
         1106,
         "Jason Horne",
         27,
         "2016-02-06T15:31:57.000+0000"
        ],
        [
         9893,
         "Anthony Bonilla",
         21,
         "2016-08-15T18:11:48.000+0000"
        ],
        [
         6759,
         "Bob Jackson",
         45,
         "2016-03-25T18:19:55.000+0000"
        ],
        [
         4227,
         "Alex Jimenez",
         24,
         "2015-10-29T18:48:47.000+0000"
        ],
        [
         1968,
         "Elizabeth Strickland",
         49,
         "2016-07-07T09:22:33.000+0000"
        ],
        [
         4760,
         "Amanda Bowers",
         22,
         "2016-01-18T20:23:23.000+0000"
        ],
        [
         4640,
         "Nicole Leon",
         46,
         "2016-03-15T05:20:12.000+0000"
        ],
        [
         6795,
         "Aaron Frost",
         42,
         "2015-10-23T09:36:23.000+0000"
        ],
        [
         3824,
         "Aaron Berry",
         28,
         "2016-04-12T03:40:13.000+0000"
        ],
        [
         9425,
         "Katrina Fischer",
         47,
         "2017-05-10T22:51:14.000+0000"
        ],
        [
         649,
         "Jill Gilmore",
         29,
         "2017-01-13T08:26:21.000+0000"
        ],
        [
         10371,
         "Lori Campos",
         48,
         "2016-04-26T11:49:56.000+0000"
        ],
        [
         8637,
         "Michael Grant",
         28,
         "2016-09-08T04:09:44.000+0000"
        ],
        [
         6671,
         "Jessica Long",
         47,
         "2017-10-06T04:10:16.000+0000"
        ],
        [
         9173,
         "Gary Collins",
         25,
         "2016-07-07T18:59:52.000+0000"
        ],
        [
         6709,
         "Heather Morales",
         42,
         "2017-08-12T22:55:20.000+0000"
        ],
        [
         841,
         "Alexandria Davis",
         27,
         "2016-02-24T12:13:37.000+0000"
        ],
        [
         2056,
         "Brian Hansen",
         31,
         "2016-01-30T13:25:52.000+0000"
        ],
        [
         3284,
         "Carla Mason",
         41,
         "2016-07-22T18:48:48.000+0000"
        ],
        [
         1355,
         "Jonathan Anderson",
         30,
         "2016-12-14T05:41:39.000+0000"
        ],
        [
         5789,
         "Brittany Gardner",
         22,
         "2015-11-15T22:09:46.000+0000"
        ],
        [
         2865,
         "Mary Peterson",
         28,
         "2016-06-18T12:58:17.000+0000"
        ],
        [
         4317,
         "Alexandria Alvarado",
         20,
         "2015-10-23T04:13:23.000+0000"
        ],
        [
         6755,
         "Angela Allen",
         20,
         "2015-10-26T04:12:32.000+0000"
        ],
        [
         1340,
         "Aaron Anderson",
         21,
         "2015-10-23T03:43:54.000+0000"
        ],
        [
         10499,
         "Marie White",
         51,
         "2016-04-29T06:04:15.000+0000"
        ],
        [
         6560,
         "Randall Taylor",
         56,
         "2017-05-31T23:40:28.000+0000"
        ],
        [
         7628,
         "April Gonzalez",
         20,
         "2015-10-22T14:29:35.000+0000"
        ],
        [
         289,
         "Andrew Burke",
         20,
         "2015-11-14T17:38:31.000+0000"
        ],
        [
         7953,
         "Benjamin Adams",
         24,
         "2015-10-25T03:23:53.000+0000"
        ],
        [
         10525,
         "Jennifer Brown",
         31,
         "2015-11-05T14:30:01.000+0000"
        ],
        [
         7018,
         "Brian Ferrell",
         42,
         "2016-09-04T11:52:16.000+0000"
        ],
        [
         1204,
         "Crystal Hines",
         50,
         "2017-08-30T19:55:03.000+0000"
        ],
        [
         4477,
         "Abigail Barry",
         21,
         "2015-12-03T10:40:24.000+0000"
        ],
        [
         2451,
         "Brooke Young",
         37,
         "2016-12-01T18:08:11.000+0000"
        ],
        [
         916,
         "Aaron Anderson",
         21,
         "2015-10-23T03:43:54.000+0000"
        ],
        [
         2551,
         "Donna Butler",
         27,
         "2015-11-11T10:40:36.000+0000"
        ],
        [
         2320,
         "Corey Carpenter",
         25,
         "2015-10-28T09:03:45.000+0000"
        ],
        [
         6079,
         "Albert Allison",
         20,
         "2015-10-21T22:27:27.000+0000"
        ],
        [
         1017,
         "Anthony Crosby",
         26,
         "2016-07-19T19:44:57.000+0000"
        ],
        [
         648,
         "Adam Acosta",
         20,
         "2015-10-21T21:26:45.000+0000"
        ],
        [
         10938,
         "Andrea Roberts",
         22,
         "2016-11-10T10:01:28.000+0000"
        ],
        [
         8115,
         "Diana Barry",
         26,
         "2015-11-12T15:36:01.000+0000"
        ],
        [
         8736,
         "Donald Bentley",
         27,
         "2016-03-23T20:43:09.000+0000"
        ],
        [
         5686,
         "Darrell Green",
         29,
         "2016-02-13T01:44:53.000+0000"
        ],
        [
         220,
         "Andrew Anderson",
         23,
         "2015-11-28T11:52:37.000+0000"
        ],
        [
         9218,
         "April Barr",
         26,
         "2016-02-06T19:00:11.000+0000"
        ],
        [
         7896,
         "Andrew Alvarez",
         21,
         "2015-11-10T12:55:13.000+0000"
        ],
        [
         3260,
         "Ariel Brown",
         26,
         "2015-11-24T23:04:52.000+0000"
        ],
        [
         7537,
         "Jessica Sullivan",
         25,
         "2016-01-19T18:17:05.000+0000"
        ],
        [
         533,
         "David Griffith",
         20,
         "2016-01-07T19:49:22.000+0000"
        ],
        [
         8972,
         "Angela Becker",
         22,
         "2016-04-03T08:54:01.000+0000"
        ],
        [
         6944,
         "Scott Jackson",
         36,
         "2017-08-05T08:24:02.000+0000"
        ],
        [
         577,
         "Mario Hawkins",
         34,
         "2017-06-15T01:11:03.000+0000"
        ],
        [
         10751,
         "Darren Ellison",
         33,
         "2017-03-19T12:04:11.000+0000"
        ],
        [
         7103,
         "Amber Ashley",
         22,
         "2016-09-05T00:23:48.000+0000"
        ],
        [
         8841,
         "Angela Becker",
         22,
         "2016-04-03T08:54:01.000+0000"
        ],
        [
         4708,
         "Amber Bennett",
         29,
         "2016-02-28T04:37:04.000+0000"
        ],
        [
         2426,
         "Stephen Baker",
         50,
         "2016-08-06T01:49:31.000+0000"
        ],
        [
         5386,
         "Abigail Ali",
         20,
         "2015-10-24T11:23:51.000+0000"
        ],
        [
         8267,
         "Sabrina Avila",
         42,
         "2017-08-08T10:11:59.000+0000"
        ],
        [
         1628,
         "Adam Burns",
         20,
         "2015-11-27T16:06:53.000+0000"
        ],
        [
         4992,
         "Abigail Barry",
         21,
         "2015-12-03T10:40:24.000+0000"
        ],
        [
         2065,
         "Brandon Bender",
         21,
         "2016-02-15T23:12:43.000+0000"
        ],
        [
         6892,
         "Mark Adams",
         46,
         "2015-11-19T16:59:15.000+0000"
        ],
        [
         10787,
         "Brandon Bautista",
         35,
         "2017-08-20T02:58:12.000+0000"
        ],
        [
         7630,
         "Aaron Abbott",
         20,
         "2015-10-23T16:08:41.000+0000"
        ],
        [
         4888,
         "Molly Lawson",
         20,
         "2017-10-02T12:20:54.000+0000"
        ],
        [
         1547,
         "Jackie Buchanan",
         28,
         "2017-04-21T01:59:00.000+0000"
        ],
        [
         5603,
         "Destiny Parker",
         48,
         "2017-01-18T00:20:22.000+0000"
        ],
        [
         4560,
         "Ariel Barrett",
         35,
         "2015-12-03T12:48:15.000+0000"
        ],
        [
         6341,
         "Barbara Duran",
         22,
         "2016-11-07T11:01:26.000+0000"
        ],
        [
         4781,
         "Cynthia Guerra",
         29,
         "2016-12-25T23:51:01.000+0000"
        ],
        [
         6328,
         "Ashley Combs",
         34,
         "2015-11-13T06:33:05.000+0000"
        ],
        [
         7529,
         "Robert Black",
         53,
         "2016-05-21T02:14:41.000+0000"
        ],
        [
         9942,
         "Amanda Allen",
         22,
         "2015-10-24T18:56:30.000+0000"
        ],
        [
         4418,
         "Paul Gonzalez",
         23,
         "2016-03-29T06:12:48.000+0000"
        ],
        [
         2197,
         "Thomas Ingram",
         46,
         "2015-11-19T14:25:53.000+0000"
        ],
        [
         8369,
         "Aaron Abbott",
         20,
         "2015-10-23T16:08:41.000+0000"
        ],
        [
         4198,
         "Brian Ramos",
         37,
         "2017-01-14T07:55:25.000+0000"
        ],
        [
         10779,
         "Matthew Jensen",
         35,
         "2017-07-29T09:53:26.000+0000"
        ],
        [
         9235,
         "Clinton Berry",
         29,
         "2016-08-10T10:28:10.000+0000"
        ],
        [
         7080,
         "Donna Carroll",
         21,
         "2016-02-02T12:25:05.000+0000"
        ],
        [
         9139,
         "Christina Aguilar",
         23,
         "2015-12-09T20:29:10.000+0000"
        ],
        [
         9870,
         "Danielle Bentley",
         53,
         "2015-11-04T10:14:55.000+0000"
        ],
        [
         10353,
         "Anthony Buchanan",
         31,
         "2015-12-11T10:56:55.000+0000"
        ],
        [
         8214,
         "Aaron Abbott",
         20,
         "2015-10-23T16:08:41.000+0000"
        ],
        [
         8396,
         "Robin Miller",
         50,
         "2016-04-13T01:27:55.000+0000"
        ],
        [
         9668,
         "Brendan Joseph",
         26,
         "2015-12-20T10:28:00.000+0000"
        ],
        [
         2145,
         "Ashlee Barker",
         24,
         "2016-01-04T03:30:38.000+0000"
        ],
        [
         5598,
         "Kerri Jones",
         48,
         "2016-02-09T05:58:56.000+0000"
        ],
        [
         590,
         "Brian Aguirre",
         49,
         "2016-09-13T10:58:48.000+0000"
        ],
        [
         9290,
         "Brian Davis",
         20,
         "2016-06-14T20:15:34.000+0000"
        ],
        [
         2880,
         "Amber Casey",
         23,
         "2016-01-06T12:22:08.000+0000"
        ],
        [
         1755,
         "Ashley Taylor",
         23,
         "2016-05-17T05:36:06.000+0000"
        ],
        [
         9743,
         "Kurt James",
         33,
         "2016-01-04T09:32:04.000+0000"
        ],
        [
         7738,
         "Alexis George",
         34,
         "2016-02-26T00:38:01.000+0000"
        ],
        [
         5488,
         "Heather Edwards",
         33,
         "2016-01-16T18:25:10.000+0000"
        ],
        [
         4055,
         "Grant George",
         27,
         "2015-11-11T01:45:05.000+0000"
        ],
        [
         10347,
         "Julia Jackson",
         23,
         "2016-11-13T02:31:21.000+0000"
        ],
        [
         7631,
         "Jennifer Bailey",
         42,
         "2016-03-07T21:07:12.000+0000"
        ],
        [
         4849,
         "Erica Murphy",
         35,
         "2015-11-03T05:49:39.000+0000"
        ],
        [
         5332,
         "Alan Anderson",
         23,
         "2015-10-23T13:00:32.000+0000"
        ],
        [
         4456,
         "Adam Church",
         22,
         "2016-02-18T14:51:45.000+0000"
        ],
        [
         10139,
         "Brian Clark",
         24,
         "2016-05-03T10:56:36.000+0000"
        ],
        [
         4017,
         "Abigail Allen",
         20,
         "2015-11-12T14:40:14.000+0000"
        ],
        [
         1916,
         "Amy Hubbard",
         23,
         "2017-02-14T07:35:02.000+0000"
        ],
        [
         7549,
         "Crystal Davis",
         20,
         "2015-11-22T04:28:31.000+0000"
        ],
        [
         869,
         "Brett Bryant",
         20,
         "2015-10-23T12:40:19.000+0000"
        ],
        [
         5036,
         "Mary Caldwell",
         43,
         "2016-12-16T23:45:44.000+0000"
        ],
        [
         2275,
         "Andrew Buck",
         23,
         "2016-01-06T23:14:16.000+0000"
        ],
        [
         6983,
         "Angela Allen",
         20,
         "2015-10-26T04:12:32.000+0000"
        ],
        [
         3756,
         "Alex Banks",
         27,
         "2015-12-13T17:30:18.000+0000"
        ],
        [
         7214,
         "Jeremy Leblanc",
         49,
         "2015-12-05T06:12:20.000+0000"
        ],
        [
         171,
         "Amanda Alvarez",
         21,
         "2015-10-30T01:31:09.000+0000"
        ],
        [
         1742,
         "Timothy Lopez",
         39,
         "2016-07-16T05:39:49.000+0000"
        ],
        [
         2742,
         "Courtney Joyce",
         21,
         "2015-12-26T17:07:27.000+0000"
        ],
        [
         4190,
         "Amanda Allen",
         21,
         "2015-11-16T23:15:00.000+0000"
        ],
        [
         2649,
         "Tristan Jennings",
         21,
         "2016-10-29T05:57:47.000+0000"
        ],
        [
         10325,
         "James Castillo",
         58,
         "2017-02-24T07:26:51.000+0000"
        ],
        [
         7016,
         "Steven Navarro",
         25,
         "2017-04-09T13:31:54.000+0000"
        ],
        [
         3351,
         "Eric Taylor",
         39,
         "2017-04-04T06:05:03.000+0000"
        ],
        [
         5084,
         "Marissa Spence",
         53,
         "2016-06-30T20:53:16.000+0000"
        ],
        [
         6978,
         "Jack Morales",
         56,
         "2016-10-23T06:50:28.000+0000"
        ],
        [
         3638,
         "Rebecca Conner",
         33,
         "2015-12-29T22:26:53.000+0000"
        ],
        [
         746,
         "Diana Barry",
         26,
         "2015-11-12T15:36:01.000+0000"
        ],
        [
         27,
         "Adam Acosta",
         20,
         "2015-10-21T21:26:45.000+0000"
        ],
        [
         4353,
         "Brett Oliver",
         24,
         "2015-12-26T21:27:59.000+0000"
        ],
        [
         354,
         "Ashley Allen",
         20,
         "2016-01-12T03:41:16.000+0000"
        ],
        [
         3433,
         "Pamela Jones",
         28,
         "2015-11-07T13:11:42.000+0000"
        ],
        [
         7008,
         "Jason Patterson",
         21,
         "2017-01-10T11:35:34.000+0000"
        ],
        [
         2933,
         "Bridget Hendricks",
         26,
         "2016-10-10T19:07:02.000+0000"
        ],
        [
         5567,
         "Austin Atkinson",
         31,
         "2015-10-29T14:28:07.000+0000"
        ],
        [
         7534,
         "Angela Allen",
         20,
         "2015-10-26T04:12:32.000+0000"
        ],
        [
         2871,
         "Jessica Gardner",
         39,
         "2016-01-02T11:00:04.000+0000"
        ],
        [
         2318,
         "Jessica Love",
         33,
         "2017-03-16T11:53:00.000+0000"
        ],
        [
         6115,
         "Malik Walters",
         53,
         "2017-02-16T15:30:03.000+0000"
        ],
        [
         8602,
         "Chad Baker",
         20,
         "2015-12-12T03:43:32.000+0000"
        ],
        [
         6030,
         "Albert Allison",
         20,
         "2015-10-21T22:27:27.000+0000"
        ],
        [
         9214,
         "Adam Acosta",
         20,
         "2015-10-21T21:26:45.000+0000"
        ],
        [
         788,
         "Brian Sherman",
         33,
         "2016-12-15T14:42:39.000+0000"
        ],
        [
         8883,
         "Michael Carlson",
         24,
         "2015-11-26T09:53:01.000+0000"
        ],
        [
         8988,
         "Amy Andrews",
         23,
         "2015-10-29T19:12:55.000+0000"
        ],
        [
         4851,
         "Brandon Cummings",
         22,
         "2016-05-11T01:36:00.000+0000"
        ],
        [
         9900,
         "Denise Jones",
         49,
         "2016-05-28T09:59:02.000+0000"
        ],
        [
         9269,
         "Aaron Anderson",
         21,
         "2015-10-23T03:43:54.000+0000"
        ],
        [
         9550,
         "John Foster",
         32,
         "2016-06-10T15:27:19.000+0000"
        ],
        [
         1881,
         "Jeffrey Brooks",
         47,
         "2017-02-08T21:03:46.000+0000"
        ],
        [
         5044,
         "Amanda Bowers",
         22,
         "2016-01-18T20:23:23.000+0000"
        ],
        [
         1481,
         "Alison Harding",
         35,
         "2017-10-05T17:45:20.000+0000"
        ],
        [
         287,
         "Amanda Alvarez",
         21,
         "2015-10-30T01:31:09.000+0000"
        ],
        [
         6359,
         "Wendy Benjamin",
         55,
         "2016-04-01T22:44:15.000+0000"
        ],
        [
         4608,
         "Brittany Collins",
         27,
         "2017-03-22T19:36:45.000+0000"
        ],
        [
         989,
         "Aaron Anderson",
         21,
         "2015-10-23T03:43:54.000+0000"
        ],
        [
         5237,
         "Aaron Brown",
         31,
         "2016-01-04T16:38:42.000+0000"
        ],
        [
         9905,
         "Nancy Butler",
         30,
         "2016-07-06T02:43:23.000+0000"
        ],
        [
         1187,
         "Abigail Ali",
         20,
         "2015-10-24T11:23:51.000+0000"
        ],
        [
         571,
         "Allison Acosta",
         20,
         "2015-10-24T01:15:02.000+0000"
        ],
        [
         9263,
         "Abigail Bates",
         20,
         "2015-11-07T20:59:32.000+0000"
        ],
        [
         5182,
         "Jonathon Crawford",
         25,
         "2016-12-09T04:56:37.000+0000"
        ],
        [
         3435,
         "Christina Bonilla",
         30,
         "2015-12-01T18:29:38.000+0000"
        ],
        [
         8498,
         "Adam Burns",
         20,
         "2015-11-27T16:06:53.000+0000"
        ],
        [
         6032,
         "Chad Wagner",
         28,
         "2016-07-01T05:27:38.000+0000"
        ],
        [
         4393,
         "Amanda Ball",
         25,
         "2016-01-13T17:36:30.000+0000"
        ],
        [
         8687,
         "Denise Adams",
         21,
         "2015-11-12T06:21:36.000+0000"
        ],
        [
         9043,
         "Aaron Abbott",
         20,
         "2015-10-31T18:51:07.000+0000"
        ],
        [
         8984,
         "Aaron Abbott",
         20,
         "2015-10-23T16:08:41.000+0000"
        ],
        [
         3497,
         "Alexandria Alvarado",
         20,
         "2015-10-23T04:13:23.000+0000"
        ],
        [
         5321,
         "Adam Alexander",
         20,
         "2015-10-22T11:31:37.000+0000"
        ],
        [
         5659,
         "Darrell Green",
         29,
         "2016-02-13T01:44:53.000+0000"
        ],
        [
         6523,
         "Devin Allen",
         29,
         "2016-03-19T05:02:18.000+0000"
        ],
        [
         5744,
         "Alexander Burns",
         27,
         "2015-11-05T18:33:17.000+0000"
        ],
        [
         5539,
         "Adam Cole",
         23,
         "2015-11-15T23:49:12.000+0000"
        ],
        [
         9950,
         "Christopher Bates",
         30,
         "2016-05-25T10:09:22.000+0000"
        ],
        [
         1349,
         "Andrew Allen",
         53,
         "2017-01-23T23:59:16.000+0000"
        ],
        [
         7258,
         "Michael Snyder",
         44,
         "2017-07-05T17:32:12.000+0000"
        ],
        [
         6675,
         "Ryan Long",
         50,
         "2017-10-12T11:47:53.000+0000"
        ],
        [
         9068,
         "Adam Acosta",
         20,
         "2015-10-21T21:26:45.000+0000"
        ],
        [
         303,
         "Natasha Cortez",
         51,
         "2016-04-22T18:18:45.000+0000"
        ],
        [
         10587,
         "Nicole Allen",
         20,
         "2016-02-28T10:35:06.000+0000"
        ],
        [
         8052,
         "Andrew Alexander",
         20,
         "2015-11-20T09:08:00.000+0000"
        ],
        [
         2829,
         "Billy Armstrong",
         22,
         "2015-12-18T20:54:14.000+0000"
        ],
        [
         9031,
         "Amanda Adams",
         20,
         "2015-10-21T08:27:36.000+0000"
        ],
        [
         351,
         "Adam Acosta",
         20,
         "2015-10-21T21:26:45.000+0000"
        ],
        [
         10680,
         "Morgan Santiago",
         45,
         "2016-11-06T22:27:24.000+0000"
        ],
        [
         7440,
         "Ariana Walsh",
         53,
         "2016-02-08T18:33:19.000+0000"
        ],
        [
         4074,
         "John Davis",
         35,
         "2016-03-16T15:36:14.000+0000"
        ],
        [
         8035,
         "Eric Buck",
         45,
         "2015-10-28T17:36:12.000+0000"
        ],
        [
         946,
         "Michael Duncan",
         42,
         "2016-05-03T06:06:22.000+0000"
        ],
        [
         6855,
         "Lori Graham",
         56,
         "2016-07-03T10:13:54.000+0000"
        ],
        [
         2842,
         "Allison Acosta",
         20,
         "2015-10-24T01:15:02.000+0000"
        ],
        [
         1136,
         "Aaron Abbott",
         20,
         "2015-10-31T18:51:07.000+0000"
        ],
        [
         1064,
         "Heidi Garcia",
         53,
         "2016-02-22T11:19:07.000+0000"
        ],
        [
         3011,
         "Justin Singleton",
         20,
         "2017-03-10T19:53:44.000+0000"
        ],
        [
         10917,
         "Valerie Rodriguez",
         31,
         "2016-07-30T01:45:47.000+0000"
        ],
        [
         7240,
         "Abigail Ali",
         20,
         "2015-10-24T11:23:51.000+0000"
        ],
        [
         1173,
         "Dana Jackson",
         57,
         "2016-06-05T21:37:09.000+0000"
        ],
        [
         10154,
         "Lauren Hill",
         52,
         "2016-01-08T17:05:07.000+0000"
        ],
        [
         6937,
         "Amanda Brewer",
         31,
         "2016-04-05T12:30:56.000+0000"
        ],
        [
         9413,
         "Andrea Alexander",
         21,
         "2015-11-10T09:27:42.000+0000"
        ],
        [
         3037,
         "Alexandra Fuentes",
         29,
         "2016-01-03T02:33:53.000+0000"
        ],
        [
         802,
         "Chad Beard",
         28,
         "2016-01-09T01:42:30.000+0000"
        ],
        [
         5782,
         "Krystal Richmond",
         30,
         "2015-11-26T06:52:36.000+0000"
        ],
        [
         5186,
         "Stephanie Alexander",
         45,
         "2017-08-27T14:41:36.000+0000"
        ],
        [
         8536,
         "Alexander Bailey",
         20,
         "2015-10-30T11:37:32.000+0000"
        ],
        [
         4057,
         "Amber Arnold",
         20,
         "2015-11-08T05:09:29.000+0000"
        ],
        [
         9576,
         "Kerri Moon",
         48,
         "2016-11-18T10:41:30.000+0000"
        ],
        [
         10423,
         "Amanda Adams",
         21,
         "2016-03-28T01:06:12.000+0000"
        ],
        [
         5754,
         "Edward Bailey",
         25,
         "2016-01-13T01:06:35.000+0000"
        ],
        [
         10181,
         "Elizabeth Moreno",
         28,
         "2016-04-07T18:01:32.000+0000"
        ],
        [
         6223,
         "Chelsea Williams",
         42,
         "2017-06-12T20:51:07.000+0000"
        ],
        [
         6329,
         "Craig Stewart",
         22,
         "2016-08-21T23:58:32.000+0000"
        ],
        [
         4763,
         "Jonathan Martinez",
         58,
         "2016-05-27T13:42:02.000+0000"
        ],
        [
         4277,
         "Alex Jimenez",
         24,
         "2015-10-29T18:48:47.000+0000"
        ],
        [
         8318,
         "Patricia Mejia",
         54,
         "2017-07-02T03:14:06.000+0000"
        ],
        [
         8467,
         "Thomas Calderon",
         25,
         "2016-07-30T00:30:30.000+0000"
        ],
        [
         7082,
         "Alvin Adams",
         20,
         "2016-01-01T13:50:40.000+0000"
        ],
        [
         8055,
         "Aaron Abbott",
         20,
         "2015-10-23T16:08:41.000+0000"
        ],
        [
         8304,
         "Charles Berry",
         25,
         "2015-12-28T04:21:39.000+0000"
        ],
        [
         8886,
         "Abigail Bates",
         20,
         "2015-11-07T20:59:32.000+0000"
        ],
        [
         8488,
         "Andrew Anderson",
         23,
         "2015-11-28T11:52:37.000+0000"
        ],
        [
         8511,
         "Molly Curtis",
         20,
         "2016-06-30T10:13:01.000+0000"
        ],
        [
         1188,
         "Cesar Miller",
         38,
         "2015-11-19T03:01:18.000+0000"
        ],
        [
         5820,
         "Bradley Griffin",
         24,
         "2016-04-05T09:58:20.000+0000"
        ],
        [
         8091,
         "Aaron Abbott",
         20,
         "2015-10-23T16:08:41.000+0000"
        ],
        [
         4291,
         "John Jones",
         49,
         "2016-09-29T21:27:39.000+0000"
        ],
        [
         4225,
         "Marc Hester",
         36,
         "2016-09-13T21:07:02.000+0000"
        ],
        [
         10309,
         "Clarence Cruz",
         31,
         "2015-11-26T02:58:35.000+0000"
        ],
        [
         8610,
         "Amy Brown",
         21,
         "2015-11-08T16:14:16.000+0000"
        ],
        [
         6037,
         "Mary Hansen",
         20,
         "2017-01-19T15:01:32.000+0000"
        ],
        [
         5617,
         "Christina Bell",
         30,
         "2016-08-05T17:30:59.000+0000"
        ],
        [
         242,
         "Albert Calderon",
         21,
         "2015-11-01T08:04:39.000+0000"
        ],
        [
         3548,
         "Cindy Barnes",
         21,
         "2016-03-15T01:30:25.000+0000"
        ],
        [
         5158,
         "Daniel Black",
         20,
         "2016-04-06T16:18:34.000+0000"
        ],
        [
         6541,
         "Victoria Ramos",
         40,
         "2017-04-16T04:09:44.000+0000"
        ],
        [
         7073,
         "Manuel Ashley",
         55,
         "2017-07-13T23:48:07.000+0000"
        ],
        [
         4159,
         "Darryl Alexander",
         25,
         "2015-12-02T11:20:58.000+0000"
        ],
        [
         884,
         "Daniel Valentine",
         46,
         "2017-01-17T18:12:39.000+0000"
        ],
        [
         10175,
         "Annette Andrews",
         28,
         "2015-12-20T22:09:10.000+0000"
        ],
        [
         2457,
         "Nathan Davis",
         49,
         "2016-08-06T18:35:35.000+0000"
        ],
        [
         10155,
         "Barbara Harris",
         28,
         "2016-01-18T00:02:03.000+0000"
        ],
        [
         2258,
         "Gary Hall",
         29,
         "2016-11-23T15:39:44.000+0000"
        ],
        [
         7493,
         "Monica Hernandez",
         33,
         "2016-04-01T13:54:42.000+0000"
        ],
        [
         1472,
         "Andrew Simmons",
         26,
         "2017-08-27T16:21:56.000+0000"
        ],
        [
         9046,
         "Angela Becker",
         22,
         "2016-04-03T08:54:01.000+0000"
        ],
        [
         469,
         "Jeremy Moody",
         59,
         "2017-10-17T09:58:14.000+0000"
        ],
        [
         5175,
         "Candice Casey",
         27,
         "2015-10-30T14:51:37.000+0000"
        ],
        [
         6399,
         "Ashley Lee",
         38,
         "2016-05-31T10:05:10.000+0000"
        ],
        [
         7221,
         "Tim Lester",
         22,
         "2016-11-12T13:23:56.000+0000"
        ],
        [
         5668,
         "Kristin Khan",
         20,
         "2017-01-23T16:38:11.000+0000"
        ],
        [
         3028,
         "Andrea Ball",
         20,
         "2015-11-05T05:13:28.000+0000"
        ],
        [
         9088,
         "Alicia Brown",
         23,
         "2016-05-27T08:41:11.000+0000"
        ],
        [
         10829,
         "Barbara Mathis",
         43,
         "2016-05-30T07:44:41.000+0000"
        ],
        [
         9526,
         "Daniel Mccormick",
         32,
         "2016-12-11T01:02:45.000+0000"
        ],
        [
         5755,
         "Ian Gomez",
         38,
         "2016-05-18T11:52:25.000+0000"
        ],
        [
         5833,
         "Brandon Hebert",
         39,
         "2016-03-03T11:41:05.000+0000"
        ],
        [
         6868,
         "Alejandra Acevedo",
         20,
         "2015-11-24T21:01:23.000+0000"
        ],
        [
         7459,
         "Abigail Ali",
         20,
         "2015-10-24T11:23:51.000+0000"
        ],
        [
         5254,
         "William Combs",
         50,
         "2015-12-06T10:58:54.000+0000"
        ],
        [
         2004,
         "Andrea Blankenship",
         27,
         "2016-04-11T21:27:52.000+0000"
        ],
        [
         5187,
         "Anne Hunt",
         30,
         "2015-12-10T12:01:22.000+0000"
        ],
        [
         6788,
         "Angela Allen",
         20,
         "2015-10-26T04:12:32.000+0000"
        ],
        [
         8334,
         "Cynthia Gibson",
         26,
         "2017-06-22T02:26:21.000+0000"
        ],
        [
         3790,
         "Alexandria Alvarado",
         20,
         "2015-10-23T04:13:23.000+0000"
        ],
        [
         4033,
         "Abigail Allen",
         20,
         "2015-11-12T14:40:14.000+0000"
        ],
        [
         9169,
         "Aaron Alexander",
         21,
         "2015-10-25T07:36:08.000+0000"
        ],
        [
         9259,
         "Christopher Carlson",
         32,
         "2016-11-28T00:22:07.000+0000"
        ],
        [
         5474,
         "Andrea Benton",
         27,
         "2015-11-03T11:44:52.000+0000"
        ],
        [
         7424,
         "Anna Lee",
         26,
         "2015-12-10T21:36:11.000+0000"
        ],
        [
         1584,
         "Bruce Carney",
         32,
         "2017-08-30T14:57:35.000+0000"
        ],
        [
         3442,
         "Anthony Bryan",
         22,
         "2015-10-24T15:35:59.000+0000"
        ],
        [
         4939,
         "Peter Cabrera",
         30,
         "2017-09-05T12:17:52.000+0000"
        ],
        [
         8197,
         "Aaron Abbott",
         20,
         "2015-10-31T18:51:07.000+0000"
        ],
        [
         1600,
         "Brian Gentry",
         39,
         "2015-11-25T13:17:55.000+0000"
        ],
        [
         8011,
         "Frank Combs",
         23,
         "2015-11-30T05:25:22.000+0000"
        ],
        [
         6209,
         "Allen Diaz",
         20,
         "2015-11-12T04:00:33.000+0000"
        ],
        [
         6783,
         "Timothy Gregory",
         22,
         "2016-07-03T21:48:46.000+0000"
        ],
        [
         5051,
         "Justin Martin",
         57,
         "2016-01-25T09:53:32.000+0000"
        ],
        [
         7742,
         "Amber Ashley",
         22,
         "2016-09-05T00:23:48.000+0000"
        ],
        [
         120,
         "Amy Atkins",
         21,
         "2015-10-31T07:37:40.000+0000"
        ],
        [
         878,
         "Brett Bryant",
         20,
         "2015-10-23T12:40:19.000+0000"
        ],
        [
         1054,
         "Deanna Booker",
         36,
         "2017-03-29T03:08:41.000+0000"
        ],
        [
         7166,
         "Alvin Adams",
         20,
         "2016-01-01T13:50:40.000+0000"
        ],
        [
         1967,
         "Jay Flynn",
         24,
         "2016-05-12T16:28:27.000+0000"
        ],
        [
         187,
         "Laura Knight",
         21,
         "2016-12-02T03:34:06.000+0000"
        ],
        [
         4821,
         "Ashley Gentry",
         20,
         "2015-11-12T00:58:51.000+0000"
        ],
        [
         4441,
         "Brittney Benitez",
         37,
         "2016-01-12T00:25:28.000+0000"
        ],
        [
         10758,
         "Joyce Brown",
         24,
         "2016-05-19T02:20:39.000+0000"
        ],
        [
         7562,
         "April Anderson",
         30,
         "2016-06-27T08:35:51.000+0000"
        ],
        [
         5688,
         "Adam Alexander",
         20,
         "2015-10-22T11:31:37.000+0000"
        ],
        [
         6091,
         "Kelly Snow",
         42,
         "2016-10-12T15:57:17.000+0000"
        ],
        [
         4166,
         "Kylie Alvarez",
         35,
         "2015-10-30T03:04:23.000+0000"
        ],
        [
         3138,
         "Abigail Adams",
         20,
         "2015-10-25T13:11:51.000+0000"
        ],
        [
         7102,
         "Tracy West",
         24,
         "2016-10-29T15:49:41.000+0000"
        ],
        [
         905,
         "Anthony Crosby",
         26,
         "2016-07-19T19:44:57.000+0000"
        ],
        [
         6438,
         "Aaron Baldwin",
         20,
         "2016-03-02T01:37:55.000+0000"
        ],
        [
         8157,
         "Diana Drake",
         20,
         "2016-03-21T11:12:23.000+0000"
        ],
        [
         10639,
         "Todd Taylor",
         45,
         "2017-06-16T06:04:00.000+0000"
        ],
        [
         9130,
         "Aaron Cole",
         20,
         "2015-12-09T07:33:33.000+0000"
        ],
        [
         8629,
         "Alicia Greer",
         26,
         "2016-06-24T10:33:53.000+0000"
        ],
        [
         10821,
         "Nicole Wright",
         50,
         "2017-01-02T04:40:58.000+0000"
        ],
        [
         5199,
         "Clayton Stanley",
         44,
         "2016-06-13T20:32:07.000+0000"
        ],
        [
         3969,
         "Jamie Jennings",
         25,
         "2015-12-19T05:13:01.000+0000"
        ],
        [
         8930,
         "Andrew Anderson",
         23,
         "2015-11-28T11:52:37.000+0000"
        ],
        [
         223,
         "Melanie Hill",
         51,
         "2016-10-09T14:47:51.000+0000"
        ],
        [
         9455,
         "Calvin Baker",
         26,
         "2015-11-14T05:58:38.000+0000"
        ],
        [
         3475,
         "Alexandria Alvarado",
         20,
         "2015-10-23T04:13:23.000+0000"
        ],
        [
         6936,
         "Alan Newman",
         37,
         "2016-06-22T01:47:16.000+0000"
        ],
        [
         2424,
         "April Anderson",
         21,
         "2016-12-04T18:22:22.000+0000"
        ],
        [
         5355,
         "James Quinn",
         23,
         "2017-10-08T23:24:49.000+0000"
        ],
        [
         4390,
         "John Shaw",
         47,
         "2017-01-27T16:08:27.000+0000"
        ],
        [
         8367,
         "Aaron Abbott",
         20,
         "2015-10-23T16:08:41.000+0000"
        ],
        [
         3001,
         "Charles Johnson",
         25,
         "2015-12-07T02:19:50.000+0000"
        ],
        [
         9554,
         "Lori Evans",
         30,
         "2015-12-23T04:43:03.000+0000"
        ],
        [
         6741,
         "Nancy Jones",
         35,
         "2016-01-12T09:32:19.000+0000"
        ],
        [
         7783,
         "Paul Lawson",
         38,
         "2017-05-11T19:37:34.000+0000"
        ],
        [
         10791,
         "Benjamin Brown",
         25,
         "2016-07-07T23:22:12.000+0000"
        ],
        [
         9622,
         "Jennifer Briggs",
         28,
         "2016-11-03T21:34:34.000+0000"
        ],
        [
         1607,
         "Austin Alvarez",
         38,
         "2015-11-27T20:15:05.000+0000"
        ],
        [
         519,
         "Adam Acosta",
         20,
         "2015-10-21T21:26:45.000+0000"
        ],
        [
         10113,
         "Dustin Hicks",
         40,
         "2016-09-27T09:29:54.000+0000"
        ],
        [
         4900,
         "Diamond Watkins",
         59,
         "2016-06-21T09:52:35.000+0000"
        ],
        [
         7735,
         "Aaron Abbott",
         20,
         "2015-10-23T16:08:41.000+0000"
        ],
        [
         7071,
         "Isaac Whitehead",
         34,
         "2017-06-16T01:23:38.000+0000"
        ],
        [
         7835,
         "Aaron Abbott",
         20,
         "2015-10-23T16:08:41.000+0000"
        ],
        [
         4064,
         "Andrew Garcia",
         44,
         "2015-10-27T20:31:15.000+0000"
        ],
        [
         7318,
         "James Dunn",
         45,
         "2016-04-30T10:48:25.000+0000"
        ],
        [
         10904,
         "Deanna Alexander",
         29,
         "2016-04-04T18:49:31.000+0000"
        ],
        [
         6680,
         "Sarah Buckley",
         51,
         "2017-06-08T14:07:12.000+0000"
        ],
        [
         6527,
         "Brandon Bender",
         21,
         "2016-02-15T23:12:43.000+0000"
        ],
        [
         3810,
         "Beth Johnson",
         30,
         "2015-11-29T15:45:13.000+0000"
        ],
        [
         2804,
         "Kathryn Hanson",
         24,
         "2016-05-06T15:17:51.000+0000"
        ],
        [
         2718,
         "Carmen Adams",
         20,
         "2015-11-17T21:31:20.000+0000"
        ],
        [
         6317,
         "Albert Allison",
         20,
         "2015-10-21T22:27:27.000+0000"
        ],
        [
         3100,
         "Andrew Brown",
         24,
         "2016-04-22T22:35:24.000+0000"
        ],
        [
         1352,
         "Alyssa Martin",
         30,
         "2016-10-17T04:12:47.000+0000"
        ],
        [
         10773,
         "April Davis",
         26,
         "2016-05-17T22:11:51.000+0000"
        ],
        [
         4603,
         "Abigail Barry",
         21,
         "2015-12-03T10:40:24.000+0000"
        ],
        [
         4101,
         "Crystal Bowman",
         34,
         "2016-03-27T12:12:54.000+0000"
        ],
        [
         1342,
         "Taylor Becker",
         51,
         "2016-09-04T01:09:46.000+0000"
        ],
        [
         10557,
         "Andrea Burke",
         20,
         "2015-12-12T11:20:08.000+0000"
        ],
        [
         1603,
         "Lynn Jennings",
         21,
         "2015-12-04T12:31:54.000+0000"
        ],
        [
         5434,
         "Angela Alexander",
         23,
         "2015-12-04T08:20:12.000+0000"
        ],
        [
         5520,
         "Erika Rodriguez",
         22,
         "2016-07-20T23:44:11.000+0000"
        ],
        [
         9471,
         "Benjamin Allen",
         38,
         "2017-08-27T22:17:58.000+0000"
        ],
        [
         10402,
         "Michelle Ray",
         33,
         "2016-09-18T11:03:14.000+0000"
        ],
        [
         9906,
         "Jeremy Jensen",
         22,
         "2016-12-15T21:52:11.000+0000"
        ],
        [
         1496,
         "Alexander Chavez",
         21,
         "2016-05-21T14:34:47.000+0000"
        ],
        [
         9830,
         "John Gomez",
         28,
         "2017-02-27T15:22:40.000+0000"
        ],
        [
         10793,
         "Karen Webb",
         56,
         "2015-12-29T05:45:13.000+0000"
        ],
        [
         2109,
         "Jason Morgan",
         29,
         "2017-02-24T15:06:37.000+0000"
        ],
        [
         8543,
         "Clinton Berry",
         29,
         "2016-08-10T10:28:10.000+0000"
        ],
        [
         159,
         "Alison Bell",
         21,
         "2016-01-07T08:11:35.000+0000"
        ],
        [
         8677,
         "Amy Brown",
         21,
         "2015-11-08T16:14:16.000+0000"
        ],
        [
         4417,
         "Maria Long",
         27,
         "2017-09-28T00:27:20.000+0000"
        ],
        [
         7861,
         "Alexandria Gross",
         22,
         "2016-06-07T14:30:06.000+0000"
        ],
        [
         347,
         "Grace Becker",
         42,
         "2016-05-29T08:32:02.000+0000"
        ],
        [
         9973,
         "Cameron Silva",
         36,
         "2016-06-22T18:47:06.000+0000"
        ],
        [
         298,
         "Amanda Alvarez",
         21,
         "2015-10-30T01:31:09.000+0000"
        ],
        [
         973,
         "Kelsey Woods",
         21,
         "2016-04-04T15:35:02.000+0000"
        ],
        [
         2443,
         "Amanda Bender",
         33,
         "2016-09-23T06:02:49.000+0000"
        ],
        [
         35,
         "Anthony Adkins",
         21,
         "2015-10-28T03:59:42.000+0000"
        ],
        [
         5195,
         "Amanda Downs",
         22,
         "2016-04-06T04:57:45.000+0000"
        ],
        [
         246,
         "Adrienne Acosta",
         21,
         "2015-11-17T14:56:48.000+0000"
        ],
        [
         3522,
         "Laura Ward",
         48,
         "2017-01-26T22:42:40.000+0000"
        ],
        [
         8960,
         "Alicia Benjamin",
         27,
         "2015-12-10T18:40:42.000+0000"
        ],
        [
         9219,
         "Amy Martin",
         45,
         "2016-11-04T05:51:09.000+0000"
        ],
        [
         8483,
         "Andrew Arnold",
         21,
         "2015-12-02T08:29:10.000+0000"
        ],
        [
         9685,
         "Cathy Wheeler",
         42,
         "2016-05-26T04:02:10.000+0000"
        ],
        [
         2645,
         "Jessica Martinez",
         24,
         "2016-04-12T10:18:47.000+0000"
        ],
        [
         5359,
         "Linda Blackwell",
         20,
         "2015-12-11T03:23:37.000+0000"
        ],
        [
         8968,
         "Amanda Carlson",
         21,
         "2015-11-23T09:01:37.000+0000"
        ],
        [
         1773,
         "Juan Hamilton",
         26,
         "2015-10-30T02:00:31.000+0000"
        ],
        [
         8727,
         "Albert Allison",
         20,
         "2015-10-21T22:27:27.000+0000"
        ],
        [
         10681,
         "Julian Esparza",
         42,
         "2016-06-21T08:11:24.000+0000"
        ],
        [
         8246,
         "Amanda Dixon",
         25,
         "2016-04-16T08:59:08.000+0000"
        ],
        [
         4831,
         "Jamie Davis",
         33,
         "2016-03-23T06:58:08.000+0000"
        ],
        [
         7105,
         "Cody Benjamin",
         39,
         "2016-09-21T01:49:54.000+0000"
        ],
        [
         7880,
         "Ryan Smith",
         57,
         "2016-12-17T07:28:19.000+0000"
        ],
        [
         3935,
         "Jeffrey Gomez",
         36,
         "2016-02-05T15:30:20.000+0000"
        ],
        [
         1116,
         "Adam Burns",
         20,
         "2015-11-27T16:06:53.000+0000"
        ],
        [
         10073,
         "Jeffrey Hunter",
         32,
         "2016-09-07T04:52:20.000+0000"
        ],
        [
         4892,
         "Pamela Wilson",
         28,
         "2016-07-10T23:56:30.000+0000"
        ],
        [
         2188,
         "Jeremy Young",
         51,
         "2016-01-31T00:50:50.000+0000"
        ],
        [
         7486,
         "Brenda Gonzalez",
         56,
         "2015-12-07T11:53:35.000+0000"
        ],
        [
         10414,
         "Helen Moses",
         25,
         "2016-02-02T20:10:52.000+0000"
        ],
        [
         1904,
         "Lindsay Gardner",
         47,
         "2016-02-22T07:09:11.000+0000"
        ],
        [
         9424,
         "Aaron Abbott",
         20,
         "2015-10-23T16:08:41.000+0000"
        ],
        [
         5600,
         "Alexis Bell",
         20,
         "2015-11-23T06:34:47.000+0000"
        ],
        [
         4142,
         "Nicole Hammond",
         33,
         "2017-10-07T03:02:07.000+0000"
        ],
        [
         8811,
         "Marissa Hayes",
         45,
         "2017-09-21T17:20:56.000+0000"
        ],
        [
         821,
         "Becky Brady",
         21,
         "2015-11-05T20:19:03.000+0000"
        ],
        [
         10102,
         "Amy Adams",
         23,
         "2015-11-19T13:16:24.000+0000"
        ],
        [
         4874,
         "Katrina Murray",
         54,
         "2017-02-22T11:17:02.000+0000"
        ],
        [
         3802,
         "Alison Bell",
         21,
         "2016-01-07T08:11:35.000+0000"
        ],
        [
         4247,
         "Robyn Ayala",
         52,
         "2017-06-13T22:07:28.000+0000"
        ],
        [
         9490,
         "Juan Hammond",
         30,
         "2016-04-09T14:15:47.000+0000"
        ],
        [
         1692,
         "Melissa Smith",
         29,
         "2016-12-22T16:37:44.000+0000"
        ],
        [
         665,
         "Anthony Adkins",
         21,
         "2015-10-28T03:59:42.000+0000"
        ],
        [
         7167,
         "Dawn Bradley",
         20,
         "2016-08-26T16:09:52.000+0000"
        ],
        [
         7874,
         "Aaron Abbott",
         20,
         "2015-10-23T16:08:41.000+0000"
        ],
        [
         9268,
         "Alexander Bailey",
         20,
         "2015-10-30T11:37:32.000+0000"
        ],
        [
         1864,
         "Alexander Adams",
         32,
         "2015-10-28T15:48:24.000+0000"
        ],
        [
         6014,
         "Mary Luna",
         22,
         "2016-01-02T01:40:52.000+0000"
        ],
        [
         640,
         "Aaron Anderson",
         21,
         "2015-10-24T05:35:27.000+0000"
        ],
        [
         3644,
         "Angela Hall",
         27,
         "2016-02-22T03:37:09.000+0000"
        ],
        [
         10600,
         "Robert Mclaughlin",
         49,
         "2016-02-27T04:42:03.000+0000"
        ],
        [
         6305,
         "Aaron Anderson",
         21,
         "2015-10-23T03:43:54.000+0000"
        ],
        [
         5679,
         "Melanie Allison",
         32,
         "2017-07-02T05:22:18.000+0000"
        ],
        [
         3281,
         "Grant George",
         27,
         "2015-11-11T01:45:05.000+0000"
        ],
        [
         8477,
         "Ryan Adams",
         58,
         "2016-07-11T22:23:30.000+0000"
        ],
        [
         6509,
         "Alexis Frazier",
         22,
         "2016-04-19T13:21:10.000+0000"
        ],
        [
         2126,
         "David Moss",
         22,
         "2016-03-01T07:11:48.000+0000"
        ],
        [
         4714,
         "Brenda Cherry",
         31,
         "2017-03-10T05:00:27.000+0000"
        ],
        [
         8228,
         "Aaron Abbott",
         20,
         "2015-10-23T16:08:41.000+0000"
        ],
        [
         6678,
         "Christopher Allen",
         23,
         "2015-11-25T08:07:08.000+0000"
        ],
        [
         10519,
         "Ariel Mason",
         50,
         "2016-02-24T05:05:28.000+0000"
        ],
        [
         4223,
         "Alex Banks",
         27,
         "2015-12-13T17:30:18.000+0000"
        ],
        [
         10578,
         "Gabrielle Flores",
         34,
         "2017-09-17T01:53:38.000+0000"
        ],
        [
         5982,
         "Christina Green",
         21,
         "2016-09-23T03:09:07.000+0000"
        ],
        [
         3135,
         "Alex Adams",
         22,
         "2016-10-22T21:06:32.000+0000"
        ],
        [
         7578,
         "Amanda Adams",
         20,
         "2015-10-21T08:27:36.000+0000"
        ],
        [
         9209,
         "Angela Becker",
         22,
         "2016-04-03T08:54:01.000+0000"
        ],
        [
         10628,
         "David Evans",
         21,
         "2016-03-28T10:54:55.000+0000"
        ],
        [
         1319,
         "Elizabeth Cobb",
         45,
         "2017-10-16T02:56:01.000+0000"
        ],
        [
         3728,
         "Richard Perry",
         28,
         "2016-08-10T20:02:22.000+0000"
        ],
        [
         4703,
         "Kim Strickland",
         52,
         "2017-01-21T16:45:35.000+0000"
        ],
        [
         3997,
         "Alice Edwards",
         27,
         "2016-01-05T20:59:33.000+0000"
        ],
        [
         6373,
         "Bryan Malone",
         23,
         "2015-11-25T13:53:55.000+0000"
        ],
        [
         8564,
         "Adam Davis",
         23,
         "2015-11-10T00:04:39.000+0000"
        ],
        [
         1575,
         "Austin Murillo",
         35,
         "2017-06-23T18:40:50.000+0000"
        ],
        [
         2604,
         "Ashley Evans",
         30,
         "2016-02-21T12:54:01.000+0000"
        ],
        [
         1341,
         "Abigail Ali",
         20,
         "2015-10-24T11:23:51.000+0000"
        ],
        [
         2025,
         "Aaron Abbott",
         20,
         "2015-10-31T18:51:07.000+0000"
        ],
        [
         10026,
         "Ann Holmes",
         34,
         "2016-04-14T21:47:18.000+0000"
        ],
        [
         3428,
         "Abigail Ali",
         20,
         "2015-10-24T11:23:51.000+0000"
        ],
        [
         5368,
         "Christina Haas",
         25,
         "2016-02-14T18:52:16.000+0000"
        ],
        [
         8156,
         "Amanda Adams",
         20,
         "2015-10-21T08:27:36.000+0000"
        ],
        [
         9122,
         "Albert Adams",
         21,
         "2015-11-05T22:07:56.000+0000"
        ],
        [
         10830,
         "Dana Sherman",
         53,
         "2016-09-22T05:56:01.000+0000"
        ],
        [
         4581,
         "Benjamin Graham",
         20,
         "2016-01-18T04:39:27.000+0000"
        ],
        [
         2721,
         "Gerald Anderson",
         36,
         "2017-03-05T10:44:04.000+0000"
        ],
        [
         1395,
         "Dylan Gillespie",
         56,
         "2017-05-08T12:29:32.000+0000"
        ],
        [
         8190,
         "Aaron Abbott",
         20,
         "2015-10-23T16:08:41.000+0000"
        ],
        [
         1884,
         "Alexandra Brown",
         21,
         "2015-11-05T07:52:21.000+0000"
        ],
        [
         10456,
         "Regina Mendez",
         31,
         "2016-07-05T18:48:57.000+0000"
        ],
        [
         10477,
         "Lance Smith",
         28,
         "2016-01-26T05:33:19.000+0000"
        ],
        [
         3838,
         "Lynn Hunter",
         52,
         "2016-10-28T16:40:22.000+0000"
        ],
        [
         3023,
         "Anthony Bryan",
         22,
         "2015-10-24T15:35:59.000+0000"
        ],
        [
         10895,
         "Steve Hale",
         40,
         "2017-04-19T05:27:43.000+0000"
        ],
        [
         1522,
         "Daniel Prince",
         31,
         "2016-06-23T20:18:56.000+0000"
        ],
        [
         8471,
         "Karen Smith",
         37,
         "2017-07-15T17:54:43.000+0000"
        ],
        [
         10211,
         "Karen Buckley",
         26,
         "2017-03-24T08:28:46.000+0000"
        ],
        [
         2930,
         "Abigail Adams",
         20,
         "2015-10-25T13:11:51.000+0000"
        ],
        [
         7295,
         "Corey Malone",
         51,
         "2016-07-25T16:46:07.000+0000"
        ],
        [
         2202,
         "Kevin Rodriguez",
         37,
         "2016-03-06T20:52:05.000+0000"
        ],
        [
         7383,
         "Dawn Bradley",
         20,
         "2016-08-26T16:09:52.000+0000"
        ],
        [
         8505,
         "Sandra Humphrey",
         41,
         "2017-04-16T22:40:56.000+0000"
        ],
        [
         7563,
         "Alejandra Acevedo",
         20,
         "2015-11-24T21:01:23.000+0000"
        ],
        [
         8233,
         "Andrew Alexander",
         20,
         "2015-11-20T09:08:00.000+0000"
        ],
        [
         10689,
         "Margaret Banks",
         25,
         "2016-07-11T18:09:50.000+0000"
        ],
        [
         2107,
         "Allison Acosta",
         20,
         "2015-10-24T01:15:02.000+0000"
        ],
        [
         4222,
         "Alexandria Alvarado",
         20,
         "2015-10-23T04:13:23.000+0000"
        ],
        [
         8492,
         "Aaron Abbott",
         20,
         "2015-10-23T16:08:41.000+0000"
        ],
        [
         10051,
         "Juan Hammond",
         30,
         "2016-04-09T14:15:47.000+0000"
        ],
        [
         6452,
         "Jacob Jones",
         22,
         "2016-06-06T02:55:54.000+0000"
        ],
        [
         1190,
         "Ashley Aguilar",
         31,
         "2015-12-26T09:26:38.000+0000"
        ],
        [
         8056,
         "Billy Daniels",
         40,
         "2016-05-22T05:51:52.000+0000"
        ],
        [
         6388,
         "Benjamin Trevino",
         52,
         "2016-02-25T10:35:58.000+0000"
        ],
        [
         3192,
         "Amanda Adams",
         20,
         "2015-10-21T08:27:36.000+0000"
        ],
        [
         6151,
         "Michelle Stone",
         55,
         "2017-09-21T08:58:19.000+0000"
        ],
        [
         3495,
         "Alexandria Alvarado",
         20,
         "2015-10-23T04:13:23.000+0000"
        ],
        [
         9677,
         "Bruce Lyons",
         20,
         "2016-07-09T23:03:37.000+0000"
        ],
        [
         1112,
         "Eric Harmon",
         20,
         "2016-05-28T01:26:38.000+0000"
        ],
        [
         2491,
         "Christopher Allen",
         23,
         "2016-01-16T20:10:28.000+0000"
        ],
        [
         3210,
         "Anthony Chen",
         24,
         "2016-06-15T12:49:30.000+0000"
        ],
        [
         5346,
         "Joshua Bentley",
         38,
         "2016-12-07T05:36:28.000+0000"
        ],
        [
         7567,
         "Mark Russell",
         56,
         "2017-05-18T20:35:15.000+0000"
        ],
        [
         10285,
         "Thomas Bailey",
         26,
         "2017-07-03T15:47:27.000+0000"
        ],
        [
         7190,
         "Ernest Booker",
         58,
         "2017-06-03T02:23:52.000+0000"
        ],
        [
         315,
         "Shannon Jones",
         37,
         "2016-03-27T07:27:17.000+0000"
        ],
        [
         5992,
         "Jeremiah Fletcher",
         51,
         "2016-08-12T17:53:40.000+0000"
        ],
        [
         474,
         "Amanda Benitez",
         21,
         "2015-11-01T09:16:18.000+0000"
        ],
        [
         4321,
         "Leslie Phelps",
         37,
         "2016-09-08T00:18:15.000+0000"
        ],
        [
         1897,
         "Adam Boyd",
         25,
         "2017-08-12T08:23:43.000+0000"
        ],
        [
         7088,
         "April Blake",
         21,
         "2015-10-28T03:16:59.000+0000"
        ],
        [
         2055,
         "April Shaffer",
         28,
         "2017-01-05T12:11:56.000+0000"
        ],
        [
         3903,
         "Joshua Smith",
         54,
         "2016-10-31T11:54:23.000+0000"
        ],
        [
         7788,
         "Mario Anderson",
         44,
         "2017-07-26T13:29:08.000+0000"
        ],
        [
         4020,
         "Brenda Bailey",
         22,
         "2016-08-11T06:14:21.000+0000"
        ],
        [
         2959,
         "David Griffith",
         20,
         "2016-01-07T19:49:22.000+0000"
        ],
        [
         5911,
         "Anna Adams",
         21,
         "2015-11-27T08:22:20.000+0000"
        ],
        [
         10513,
         "Melody Thompson",
         28,
         "2016-10-28T04:09:37.000+0000"
        ],
        [
         7209,
         "April Anderson",
         30,
         "2016-06-27T08:35:51.000+0000"
        ],
        [
         4115,
         "Danielle Cook",
         22,
         "2016-05-18T00:47:21.000+0000"
        ],
        [
         2754,
         "Lance Li",
         23,
         "2016-06-14T14:03:04.000+0000"
        ],
        [
         8452,
         "Aaron Anderson",
         21,
         "2015-10-24T05:35:27.000+0000"
        ],
        [
         10582,
         "Jessica Cline",
         39,
         "2017-07-12T12:51:57.000+0000"
        ],
        [
         1208,
         "Amy Hughes",
         35,
         "2017-07-05T18:03:31.000+0000"
        ],
        [
         3132,
         "Phillip Torres",
         51,
         "2017-06-18T13:12:59.000+0000"
        ],
        [
         437,
         "Heather Tate",
         38,
         "2016-02-11T08:52:59.000+0000"
        ],
        [
         3431,
         "Becky Brady",
         21,
         "2015-11-05T20:19:03.000+0000"
        ],
        [
         282,
         "Tammy Guzman",
         52,
         "2017-09-18T00:17:19.000+0000"
        ],
        [
         985,
         "John Morris",
         37,
         "2017-05-01T03:12:27.000+0000"
        ],
        [
         1941,
         "Steven Anderson",
         42,
         "2017-05-22T22:32:45.000+0000"
        ],
        [
         3303,
         "Carmen Adams",
         20,
         "2015-11-17T21:31:20.000+0000"
        ],
        [
         9231,
         "Andrea Alexander",
         21,
         "2015-11-10T09:27:42.000+0000"
        ],
        [
         2513,
         "William Larson",
         47,
         "2016-02-25T07:10:47.000+0000"
        ],
        [
         8651,
         "Diana Barry",
         26,
         "2015-11-12T15:36:01.000+0000"
        ],
        [
         507,
         "Adam Acosta",
         20,
         "2015-10-21T21:26:45.000+0000"
        ],
        [
         8798,
         "Andrew Anderson",
         23,
         "2015-11-28T11:52:37.000+0000"
        ],
        [
         89,
         "Jordan Rojas",
         60,
         "2016-11-01T04:55:02.000+0000"
        ],
        [
         7721,
         "Andrew Brown",
         25,
         "2016-03-26T04:30:23.000+0000"
        ],
        [
         10380,
         "Anthony Bullock",
         42,
         "2016-09-01T03:50:31.000+0000"
        ],
        [
         1114,
         "Charles Clark",
         25,
         "2016-01-14T12:21:54.000+0000"
        ],
        [
         974,
         "David Jones",
         40,
         "2016-06-30T00:50:31.000+0000"
        ],
        [
         4944,
         "Amber Bennett",
         29,
         "2016-02-28T04:37:04.000+0000"
        ],
        [
         7958,
         "Tommy Murray",
         37,
         "2015-10-22T18:00:07.000+0000"
        ],
        [
         5206,
         "Jessica English",
         40,
         "2016-10-11T06:55:24.000+0000"
        ],
        [
         7161,
         "Mary Davis",
         36,
         "2016-06-19T11:29:39.000+0000"
        ],
        [
         7524,
         "Crystal Davis",
         20,
         "2015-11-22T04:28:31.000+0000"
        ],
        [
         1476,
         "Christopher Romero",
         56,
         "2017-09-06T08:07:57.000+0000"
        ],
        [
         10332,
         "Elizabeth Murphy",
         59,
         "2016-05-31T17:11:11.000+0000"
        ],
        [
         4604,
         "Robert Holt",
         57,
         "2016-07-06T14:11:03.000+0000"
        ],
        [
         2003,
         "Michelle Doyle",
         40,
         "2016-10-16T07:36:56.000+0000"
        ],
        [
         5433,
         "Megan Edwards",
         40,
         "2015-12-15T10:06:07.000+0000"
        ],
        [
         8772,
         "Erin Bond",
         42,
         "2016-01-13T23:16:53.000+0000"
        ],
        [
         4803,
         "Anthony Dean",
         21,
         "2016-04-15T19:54:05.000+0000"
        ],
        [
         7842,
         "Helen Wilson",
         25,
         "2017-09-03T17:18:11.000+0000"
        ],
        [
         5334,
         "Angela Montes",
         29,
         "2017-02-17T13:17:55.000+0000"
        ],
        [
         2581,
         "Brandon Smith",
         22,
         "2016-08-27T13:05:47.000+0000"
        ],
        [
         3426,
         "Anthony Bridges",
         47,
         "2016-01-27T06:39:33.000+0000"
        ],
        [
         6248,
         "David Jackson",
         29,
         "2016-03-10T17:00:10.000+0000"
        ],
        [
         4422,
         "Adam Church",
         22,
         "2016-02-18T14:51:45.000+0000"
        ],
        [
         6474,
         "Allen Diaz",
         20,
         "2015-11-12T04:00:33.000+0000"
        ],
        [
         5896,
         "Andrew Estrada",
         25,
         "2015-11-15T13:36:03.000+0000"
        ],
        [
         2885,
         "Allison Acosta",
         20,
         "2015-10-24T01:15:02.000+0000"
        ],
        [
         5107,
         "Anthony Rowland",
         26,
         "2016-07-09T11:19:56.000+0000"
        ],
        [
         767,
         "Aaron Abbott",
         20,
         "2015-10-31T18:51:07.000+0000"
        ],
        [
         4901,
         "Donald Chavez",
         21,
         "2015-12-01T05:37:53.000+0000"
        ],
        [
         8306,
         "Andrew Alexander",
         20,
         "2015-11-20T09:08:00.000+0000"
        ],
        [
         3377,
         "Carmen Adams",
         20,
         "2015-11-17T21:31:20.000+0000"
        ],
        [
         1558,
         "Alfred Murray",
         36,
         "2016-03-15T11:19:05.000+0000"
        ],
        [
         7777,
         "Dawn Rivera",
         37,
         "2016-03-06T21:52:56.000+0000"
        ],
        [
         5704,
         "David Craig",
         30,
         "2016-01-30T06:09:57.000+0000"
        ],
        [
         9185,
         "Scott Copeland",
         25,
         "2017-10-18T06:45:02.000+0000"
        ],
        [
         2928,
         "Caitlin Smith",
         52,
         "2016-02-14T10:15:47.000+0000"
        ],
        [
         7645,
         "Benjamin Adams",
         24,
         "2015-10-25T03:23:53.000+0000"
        ],
        [
         2183,
         "Courtney Barton",
         20,
         "2017-05-02T10:41:29.000+0000"
        ],
        [
         476,
         "Timothy Smith",
         49,
         "2016-03-01T18:50:01.000+0000"
        ],
        [
         2395,
         "Amy Adams",
         20,
         "2015-10-24T05:05:28.000+0000"
        ],
        [
         6568,
         "Christopher Allen",
         23,
         "2016-01-16T20:10:28.000+0000"
        ],
        [
         4673,
         "Jeffrey Farley",
         42,
         "2016-03-11T00:11:54.000+0000"
        ],
        [
         2036,
         "Amy Adams",
         20,
         "2015-10-24T05:05:28.000+0000"
        ],
        [
         5449,
         "Paul Russo",
         23,
         "2016-11-01T05:03:41.000+0000"
        ],
        [
         10468,
         "Cory Perez",
         44,
         "2016-01-27T05:46:03.000+0000"
        ],
        [
         3736,
         "Molly Bryant",
         24,
         "2015-12-15T15:15:16.000+0000"
        ],
        [
         3942,
         "Alexandria Alvarado",
         20,
         "2015-10-23T04:13:23.000+0000"
        ],
        [
         6116,
         "Thomas Ramirez",
         22,
         "2016-12-28T08:15:28.000+0000"
        ],
        [
         9880,
         "Stephen Harris",
         37,
         "2016-10-01T03:08:11.000+0000"
        ],
        [
         2727,
         "Anna Campbell",
         26,
         "2016-06-28T12:30:55.000+0000"
        ],
        [
         8481,
         "Andrew Alexander",
         20,
         "2015-11-20T09:08:00.000+0000"
        ],
        [
         3613,
         "Sharon Ortiz",
         34,
         "2016-10-01T17:35:18.000+0000"
        ],
        [
         10784,
         "Haley Nguyen",
         27,
         "2017-03-11T05:44:32.000+0000"
        ],
        [
         4137,
         "Michael Decker",
         59,
         "2017-06-29T22:35:17.000+0000"
        ],
        [
         6602,
         "Alexandria Anderson",
         23,
         "2015-10-31T19:20:09.000+0000"
        ],
        [
         4249,
         "Alexandria Alvarado",
         20,
         "2015-10-23T04:13:23.000+0000"
        ],
        [
         6170,
         "Eric Gonzalez",
         36,
         "2016-07-31T17:22:08.000+0000"
        ],
        [
         10440,
         "Christian Howell",
         29,
         "2016-08-20T04:54:42.000+0000"
        ],
        [
         709,
         "Adam Acosta",
         20,
         "2015-10-21T21:26:45.000+0000"
        ],
        [
         7377,
         "Jose Franklin",
         49,
         "2016-12-09T03:29:50.000+0000"
        ],
        [
         10091,
         "Stephanie Taylor",
         36,
         "2017-08-13T20:35:56.000+0000"
        ],
        [
         10239,
         "Matthew Bray",
         36,
         "2016-05-06T15:28:47.000+0000"
        ],
        [
         6954,
         "Dawn Anderson",
         20,
         "2016-12-31T00:06:36.000+0000"
        ],
        [
         8799,
         "Alan Burton",
         20,
         "2015-12-19T07:34:17.000+0000"
        ],
        [
         3991,
         "Alison Bell",
         21,
         "2016-01-07T08:11:35.000+0000"
        ],
        [
         1404,
         "Cassandra Browning",
         27,
         "2017-08-09T15:14:15.000+0000"
        ],
        [
         199,
         "Cynthia Harper",
         43,
         "2016-01-23T05:44:11.000+0000"
        ],
        [
         5213,
         "Brian Sparks",
         32,
         "2016-04-22T06:39:12.000+0000"
        ],
        [
         1372,
         "Aaron Abbott",
         20,
         "2015-10-31T18:51:07.000+0000"
        ],
        [
         10251,
         "Amy Adams",
         23,
         "2015-11-19T13:16:24.000+0000"
        ],
        [
         10531,
         "David Evans",
         21,
         "2016-03-28T10:54:55.000+0000"
        ],
        [
         3246,
         "Abigail Adams",
         20,
         "2015-10-25T13:11:51.000+0000"
        ],
        [
         9712,
         "Alexandra Austin",
         22,
         "2015-11-06T05:05:43.000+0000"
        ],
        [
         10660,
         "Shannon Richmond",
         39,
         "2015-12-04T13:08:31.000+0000"
        ],
        [
         8428,
         "Madison Byrd",
         53,
         "2016-12-03T11:55:38.000+0000"
        ],
        [
         1571,
         "Aaron Anderson",
         21,
         "2015-10-23T03:43:54.000+0000"
        ],
        [
         7871,
         "Aaron Abbott",
         20,
         "2015-10-23T16:08:41.000+0000"
        ],
        [
         6661,
         "Jody Glover",
         22,
         "2016-03-15T14:01:44.000+0000"
        ],
        [
         8276,
         "Alexander Briggs",
         31,
         "2016-06-30T04:37:04.000+0000"
        ],
        [
         5953,
         "Elizabeth Green",
         20,
         "2016-06-21T10:08:09.000+0000"
        ],
        [
         7745,
         "Aaron Abbott",
         20,
         "2015-10-23T16:08:41.000+0000"
        ],
        [
         9530,
         "Denise Graves",
         21,
         "2016-01-28T22:04:16.000+0000"
        ],
        [
         2970,
         "Anthony Brown",
         33,
         "2015-10-24T16:39:50.000+0000"
        ],
        [
         6333,
         "Julia Bennett",
         30,
         "2016-04-21T15:45:11.000+0000"
        ],
        [
         9452,
         "Aaron Alexander",
         21,
         "2015-10-25T07:36:08.000+0000"
        ],
        [
         4510,
         "Cristina Delgado",
         55,
         "2016-05-20T04:05:38.000+0000"
        ],
        [
         2989,
         "Adam Boyd",
         25,
         "2017-08-12T08:23:43.000+0000"
        ],
        [
         1282,
         "Elizabeth Mccormick",
         23,
         "2016-10-01T06:22:38.000+0000"
        ],
        [
         6112,
         "Christian Cruz",
         26,
         "2015-11-03T06:28:57.000+0000"
        ],
        [
         7361,
         "Michael Harris",
         34,
         "2016-09-01T08:17:57.000+0000"
        ],
        [
         2484,
         "Amanda Adams",
         20,
         "2015-10-21T08:27:36.000+0000"
        ],
        [
         10290,
         "Brenda Baker",
         22,
         "2015-11-24T12:08:06.000+0000"
        ],
        [
         5102,
         "Adam Cole",
         23,
         "2015-11-15T23:49:12.000+0000"
        ],
        [
         1105,
         "Jennifer Barker",
         30,
         "2016-07-07T04:55:31.000+0000"
        ],
        [
         4191,
         "Dana Mckinney",
         25,
         "2015-10-25T14:27:30.000+0000"
        ],
        [
         8421,
         "Brenda Medina",
         23,
         "2016-03-10T16:00:38.000+0000"
        ],
        [
         6510,
         "Christopher Robinson",
         55,
         "2016-11-07T18:56:07.000+0000"
        ],
        [
         2222,
         "Kevin Richards",
         47,
         "2016-07-25T20:56:37.000+0000"
        ],
        [
         8086,
         "David Davis",
         38,
         "2016-11-20T06:55:49.000+0000"
        ],
        [
         2329,
         "Christopher Lopez",
         23,
         "2016-03-20T14:04:27.000+0000"
        ],
        [
         10020,
         "Christopher Hawkins",
         45,
         "2016-09-15T06:02:53.000+0000"
        ],
        [
         7560,
         "Theresa Dixon",
         47,
         "2015-12-18T14:49:13.000+0000"
        ],
        [
         5126,
         "Bradley Long",
         25,
         "2016-02-18T20:48:04.000+0000"
        ],
        [
         867,
         "Herbert Sawyer",
         45,
         "2016-07-27T15:08:03.000+0000"
        ],
        [
         10868,
         "Benjamin Keith",
         24,
         "2017-02-25T21:08:31.000+0000"
        ],
        [
         816,
         "Adam Acosta",
         20,
         "2015-10-21T21:26:45.000+0000"
        ],
        [
         2535,
         "Aaron Doyle",
         26,
         "2016-04-16T17:51:53.000+0000"
        ],
        [
         7833,
         "Aaron Abbott",
         20,
         "2015-10-23T16:08:41.000+0000"
        ],
        [
         10971,
         "Jane Aguilar",
         32,
         "2016-03-02T01:25:48.000+0000"
        ],
        [
         346,
         "Aaron Abbott",
         20,
         "2015-10-31T18:51:07.000+0000"
        ],
        [
         3591,
         "Cindy Barnes",
         21,
         "2016-03-15T01:30:25.000+0000"
        ],
        [
         43,
         "Adam Acosta",
         20,
         "2015-10-21T21:26:45.000+0000"
        ],
        [
         10461,
         "Kristin Park",
         20,
         "2016-07-11T04:08:56.000+0000"
        ],
        [
         7647,
         "Aaron Abbott",
         20,
         "2015-10-23T16:08:41.000+0000"
        ],
        [
         10472,
         "Kevin Barr",
         39,
         "2016-08-02T05:35:37.000+0000"
        ],
        [
         7058,
         "Maurice Sanders",
         25,
         "2016-10-04T14:30:49.000+0000"
        ],
        [
         3322,
         "Scott Levine",
         33,
         "2016-12-24T10:27:39.000+0000"
        ],
        [
         5700,
         "Barbara Edwards",
         24,
         "2016-01-09T19:37:29.000+0000"
        ],
        [
         1040,
         "Aaron Abbott",
         20,
         "2015-10-31T18:51:07.000+0000"
        ],
        [
         2994,
         "Alexandra Fuentes",
         29,
         "2016-01-03T02:33:53.000+0000"
        ],
        [
         7469,
         "Debra Becker",
         20,
         "2016-07-27T06:20:48.000+0000"
        ],
        [
         3240,
         "April Brown",
         20,
         "2016-04-10T02:39:57.000+0000"
        ],
        [
         10671,
         "Kristina Dawson",
         59,
         "2017-08-19T13:07:48.000+0000"
        ],
        [
         8732,
         "Annette Barber",
         43,
         "2017-09-16T15:37:45.000+0000"
        ],
        [
         9496,
         "Maxwell James",
         52,
         "2016-07-12T11:24:37.000+0000"
        ],
        [
         3232,
         "Aaron Bartlett",
         21,
         "2015-11-24T02:15:36.000+0000"
        ],
        [
         7029,
         "Angela Allen",
         20,
         "2015-10-26T04:12:32.000+0000"
        ],
        [
         4520,
         "Sarah Greene",
         28,
         "2016-11-15T20:52:41.000+0000"
        ],
        [
         6569,
         "Cynthia Adams",
         20,
         "2016-01-28T01:03:35.000+0000"
        ],
        [
         8394,
         "Amanda Brown",
         32,
         "2015-11-05T03:01:49.000+0000"
        ],
        [
         4643,
         "Andrew Bartlett",
         26,
         "2015-11-04T03:26:35.000+0000"
        ],
        [
         4288,
         "Kyle Floyd",
         20,
         "2016-07-29T04:25:14.000+0000"
        ]
       ],
       "datasetInfos": [],
       "dbfsResultPath": null,
       "isJsonSchema": true,
       "metadata": {},
       "overflow": true,
       "plotOptions": {
        "customPlotOptions": {},
        "displayType": "table",
        "pivotAggregation": null,
        "pivotColumns": null,
        "xColumns": null,
        "yColumns": null
       },
       "removedWidgets": [],
       "schema": [
        {
         "metadata": "{}",
         "name": "ind",
         "type": "\"integer\""
        },
        {
         "metadata": "{}",
         "name": "user_name",
         "type": "\"string\""
        },
        {
         "metadata": "{}",
         "name": "age",
         "type": "\"integer\""
        },
        {
         "metadata": "{}",
         "name": "date_joined",
         "type": "\"timestamp\""
        }
       ],
       "type": "table"
      }
     },
     "output_type": "display_data"
    }
   ],
   "source": [
    "def run_pipeline(kinesis_stream_name=None, schema=None, delta_table_name=None):\n",
    "    raw_spark_df = read_streaming_data(kinesis_stream_name)\n",
    "    structured_df = structure_data(raw_spark_df, schema)\n",
    "    if schema == pin_schema:\n",
    "        cleaned_df = clean_pin_data(structured_df)\n",
    "    elif schema == geo_schema:\n",
    "        cleaned_df = clean_geo_data(structured_df)\n",
    "    elif schema == user_schema:\n",
    "        cleaned_df = clean_user_data(structured_df)\n",
    "    else:\n",
    "        print(\"Error: check that your schema name is correct.\")\n",
    "    write_to_delta_table(cleaned_df, delta_table_name)\n",
    "    display(cleaned_df)\n",
    "\n",
    "\n",
    "run_pipeline(kinesis_stream_name='streaming-0a55250cde99-geo', schema=geo_schema, delta_table_name='0a55250cde99_geo_table')\n",
    "run_pipeline(kinesis_stream_name='streaming-0a55250cde99-user', schema=user_schema, delta_table_name='0a55250cde99_user_table')\n",
    "run_pipeline(kinesis_stream_name='streaming-0a55250cde99-pin', schema=pin_schema, delta_table_name='0a55250cde99_pin_table')\n"
   ]
  },
  {
   "cell_type": "code",
   "execution_count": 0,
   "metadata": {
    "application/vnd.databricks.v1+cell": {
     "cellMetadata": {
      "byteLimit": 2048000,
      "rowLimit": 10000
     },
     "inputWidgets": {},
     "nuid": "e2386920-4e98-4c3c-996b-05e15f7c198c",
     "showTitle": false,
     "title": ""
    }
   },
   "outputs": [
    {
     "output_type": "display_data",
     "data": {
      "text/html": [
       "<style scoped>\n",
       "  .ansiout {\n",
       "    display: block;\n",
       "    unicode-bidi: embed;\n",
       "    white-space: pre-wrap;\n",
       "    word-wrap: break-word;\n",
       "    word-break: break-all;\n",
       "    font-family: \"Menlo\", \"Monaco\", \"Consolas\", \"Ubuntu Mono\", \"Source Code Pro\", monospace;\n",
       "    font-size: 13px;\n",
       "    color: #555;\n",
       "    margin-left: 4px;\n",
       "    line-height: 19px;\n",
       "  }\n",
       "</style>\n",
       "<div class=\"ansiout\">Out[62]: True</div>"
      ]
     },
     "metadata": {
      "application/vnd.databricks.v1+output": {
       "addedWidgets": {},
       "arguments": {},
       "data": "<div class=\"ansiout\">Out[62]: True</div>",
       "datasetInfos": [],
       "metadata": {},
       "removedWidgets": [],
       "type": "html"
      }
     },
     "output_type": "display_data"
    }
   ],
   "source": [
    "# run this line each time before re-running a stream\n",
    "# dbutils.fs.rm(\"/tmp/kinesis/_checkpoints/\", True)"
   ]
  }
 ],
 "metadata": {
  "application/vnd.databricks.v1+notebook": {
   "dashboards": [],
   "language": "python",
   "notebookMetadata": {
    "mostRecentlyExecutedCommandWithImplicitDF": {
     "commandId": 3819816579781614,
     "dataframes": [
      "_sqldf"
     ]
    },
    "pythonIndentUnit": 4
   },
   "notebookName": "streaming_pinterest_0a55250cde99",
   "widgets": {}
  }
 },
 "nbformat": 4,
 "nbformat_minor": 0
}
